{
  "nbformat": 4,
  "nbformat_minor": 0,
  "metadata": {
    "colab": {
      "name": "Bike Order Lines EDA.ipynb",
      "provenance": [],
      "authorship_tag": "ABX9TyOmF51hQX7v1jtOo+gKunNQ",
      "include_colab_link": true
    },
    "kernelspec": {
      "name": "python3",
      "display_name": "Python 3"
    }
  },
  "cells": [
    {
      "cell_type": "markdown",
      "metadata": {
        "id": "view-in-github",
        "colab_type": "text"
      },
      "source": [
        "<a href=\"https://colab.research.google.com/github/taggartpatrick/basic_analytics/blob/main/Bike_Order_Lines_EDA.ipynb\" target=\"_parent\"><img src=\"https://colab.research.google.com/assets/colab-badge.svg\" alt=\"Open In Colab\"/></a>"
      ]
    },
    {
      "cell_type": "markdown",
      "metadata": {
        "id": "rrn6lXxSrpNx"
      },
      "source": [
        "### 1. Load libraries\n"
      ]
    },
    {
      "cell_type": "code",
      "metadata": {
        "id": "jhn7PIYUryEg"
      },
      "source": [
        "import pandas as pd\n",
        "import numpy as np\n",
        "import altair as alt"
      ],
      "execution_count": 36,
      "outputs": []
    },
    {
      "cell_type": "markdown",
      "metadata": {
        "id": "53UiuGm6qsMT"
      },
      "source": [
        "### 2. Import data\n"
      ]
    },
    {
      "cell_type": "code",
      "metadata": {
        "id": "FV0_DU5dqlBH"
      },
      "source": [
        "bike_sales = pd.read_csv(\"https://raw.githubusercontent.com/taggartpatrick/basic_analytics/main/bike_orderlines.csv\")"
      ],
      "execution_count": 4,
      "outputs": []
    },
    {
      "cell_type": "code",
      "metadata": {
        "colab": {
          "base_uri": "https://localhost:8080/",
          "height": 289
        },
        "id": "zxlePFE8roJm",
        "outputId": "8c77450c-8f0f-4408-a30c-bd0951d73759"
      },
      "source": [
        "bike_sales.head()"
      ],
      "execution_count": 5,
      "outputs": [
        {
          "output_type": "execute_result",
          "data": {
            "text/html": [
              "<div>\n",
              "<style scoped>\n",
              "    .dataframe tbody tr th:only-of-type {\n",
              "        vertical-align: middle;\n",
              "    }\n",
              "\n",
              "    .dataframe tbody tr th {\n",
              "        vertical-align: top;\n",
              "    }\n",
              "\n",
              "    .dataframe thead th {\n",
              "        text-align: right;\n",
              "    }\n",
              "</style>\n",
              "<table border=\"1\" class=\"dataframe\">\n",
              "  <thead>\n",
              "    <tr style=\"text-align: right;\">\n",
              "      <th></th>\n",
              "      <th>order_date</th>\n",
              "      <th>order_id</th>\n",
              "      <th>order_line</th>\n",
              "      <th>quantity</th>\n",
              "      <th>price</th>\n",
              "      <th>total_price</th>\n",
              "      <th>model</th>\n",
              "      <th>category_1</th>\n",
              "      <th>category_2</th>\n",
              "      <th>frame_material</th>\n",
              "      <th>bikeshop_name</th>\n",
              "      <th>city</th>\n",
              "      <th>state</th>\n",
              "    </tr>\n",
              "  </thead>\n",
              "  <tbody>\n",
              "    <tr>\n",
              "      <th>0</th>\n",
              "      <td>2011-01-07T00:00:00Z</td>\n",
              "      <td>1.0</td>\n",
              "      <td>1</td>\n",
              "      <td>1</td>\n",
              "      <td>6070.0</td>\n",
              "      <td>6070.0</td>\n",
              "      <td>Jekyll Carbon 2</td>\n",
              "      <td>Mountain</td>\n",
              "      <td>Over Mountain</td>\n",
              "      <td>Carbon</td>\n",
              "      <td>Ithaca Mountain Climbers</td>\n",
              "      <td>Ithaca</td>\n",
              "      <td>NY</td>\n",
              "    </tr>\n",
              "    <tr>\n",
              "      <th>1</th>\n",
              "      <td>2011-01-07T00:00:00Z</td>\n",
              "      <td>1.0</td>\n",
              "      <td>2</td>\n",
              "      <td>1</td>\n",
              "      <td>5970.0</td>\n",
              "      <td>5970.0</td>\n",
              "      <td>Trigger Carbon 2</td>\n",
              "      <td>Mountain</td>\n",
              "      <td>Over Mountain</td>\n",
              "      <td>Carbon</td>\n",
              "      <td>Ithaca Mountain Climbers</td>\n",
              "      <td>Ithaca</td>\n",
              "      <td>NY</td>\n",
              "    </tr>\n",
              "    <tr>\n",
              "      <th>2</th>\n",
              "      <td>2011-01-10T00:00:00Z</td>\n",
              "      <td>2.0</td>\n",
              "      <td>1</td>\n",
              "      <td>1</td>\n",
              "      <td>2770.0</td>\n",
              "      <td>2770.0</td>\n",
              "      <td>Beast of the East 1</td>\n",
              "      <td>Mountain</td>\n",
              "      <td>Trail</td>\n",
              "      <td>Aluminum</td>\n",
              "      <td>Kansas City 29ers</td>\n",
              "      <td>Kansas City</td>\n",
              "      <td>KS</td>\n",
              "    </tr>\n",
              "    <tr>\n",
              "      <th>3</th>\n",
              "      <td>2011-01-10T00:00:00Z</td>\n",
              "      <td>2.0</td>\n",
              "      <td>2</td>\n",
              "      <td>1</td>\n",
              "      <td>5970.0</td>\n",
              "      <td>5970.0</td>\n",
              "      <td>Trigger Carbon 2</td>\n",
              "      <td>Mountain</td>\n",
              "      <td>Over Mountain</td>\n",
              "      <td>Carbon</td>\n",
              "      <td>Kansas City 29ers</td>\n",
              "      <td>Kansas City</td>\n",
              "      <td>KS</td>\n",
              "    </tr>\n",
              "    <tr>\n",
              "      <th>4</th>\n",
              "      <td>2011-01-10T00:00:00Z</td>\n",
              "      <td>3.0</td>\n",
              "      <td>1</td>\n",
              "      <td>1</td>\n",
              "      <td>10660.0</td>\n",
              "      <td>10660.0</td>\n",
              "      <td>Supersix Evo Hi-Mod Team</td>\n",
              "      <td>Road</td>\n",
              "      <td>Elite Road</td>\n",
              "      <td>Carbon</td>\n",
              "      <td>Louisville Race Equipment</td>\n",
              "      <td>Louisville</td>\n",
              "      <td>KY</td>\n",
              "    </tr>\n",
              "  </tbody>\n",
              "</table>\n",
              "</div>"
            ],
            "text/plain": [
              "             order_date  order_id  ...         city  state\n",
              "0  2011-01-07T00:00:00Z       1.0  ...       Ithaca     NY\n",
              "1  2011-01-07T00:00:00Z       1.0  ...       Ithaca     NY\n",
              "2  2011-01-10T00:00:00Z       2.0  ...  Kansas City     KS\n",
              "3  2011-01-10T00:00:00Z       2.0  ...  Kansas City     KS\n",
              "4  2011-01-10T00:00:00Z       3.0  ...   Louisville     KY\n",
              "\n",
              "[5 rows x 13 columns]"
            ]
          },
          "metadata": {
            "tags": []
          },
          "execution_count": 5
        }
      ]
    },
    {
      "cell_type": "markdown",
      "metadata": {
        "id": "9BmPLzPHxqau"
      },
      "source": [
        "### 3. Tidy Data"
      ]
    },
    {
      "cell_type": "markdown",
      "metadata": {
        "id": "KIFcNESvwTHy"
      },
      "source": [
        "#### Tidy Bike Data"
      ]
    },
    {
      "cell_type": "code",
      "metadata": {
        "colab": {
          "base_uri": "https://localhost:8080/"
        },
        "id": "nWbBbVelxy6D",
        "outputId": "e1ebb072-4a89-4616-ecc7-6d5dcc1fcdb8"
      },
      "source": [
        "bike_sales.info()"
      ],
      "execution_count": 12,
      "outputs": [
        {
          "output_type": "stream",
          "text": [
            "<class 'pandas.core.frame.DataFrame'>\n",
            "RangeIndex: 15644 entries, 0 to 15643\n",
            "Data columns (total 17 columns):\n",
            " #   Column          Non-Null Count  Dtype    \n",
            "---  ------          --------------  -----    \n",
            " 0   order_date      15644 non-null  object   \n",
            " 1   order_id        15644 non-null  float64  \n",
            " 2   order_line      15644 non-null  int64    \n",
            " 3   quantity        15644 non-null  int64    \n",
            " 4   price           15644 non-null  float64  \n",
            " 5   total_price     15644 non-null  float64  \n",
            " 6   model           15644 non-null  object   \n",
            " 7   category_1      15644 non-null  object   \n",
            " 8   category_2      15644 non-null  object   \n",
            " 9   frame_material  15644 non-null  object   \n",
            " 10  bikeshop_name   15644 non-null  object   \n",
            " 11  city            15644 non-null  object   \n",
            " 12  state           15644 non-null  object   \n",
            " 13  Order_Month     15644 non-null  int64    \n",
            " 14  Order_Day       15644 non-null  int64    \n",
            " 15  Order_YM        15644 non-null  period[M]\n",
            " 16  Order_Weekday   15644 non-null  object   \n",
            "dtypes: float64(3), int64(4), object(9), period[M](1)\n",
            "memory usage: 2.0+ MB\n"
          ],
          "name": "stdout"
        }
      ]
    },
    {
      "cell_type": "code",
      "metadata": {
        "id": "Jhfw6wHRzGmT"
      },
      "source": [
        "# Convert order datetime to date \n",
        "bike_sales['order_date'] = pd.to_datetime(bike_sales['order_date']).dt.date"
      ],
      "execution_count": 13,
      "outputs": []
    },
    {
      "cell_type": "code",
      "metadata": {
        "id": "stORUyUn2DkZ"
      },
      "source": [
        "# Add fields for month, day and year\n",
        "bike_sales['Order_Month'] = pd.DatetimeIndex(bike_sales['order_date']).month\n",
        "bike_sales['Order_Day'] = pd.DatetimeIndex(bike_sales['order_date']).day\n",
        "bike_sales['Order_Year'] = pd.DatetimeIndex(bike_sales['order_date']).year\n",
        "bike_sales['Order_YM'] = pd.to_datetime(bike_sales['order_date']).dt.to_period('M')\n",
        "bike_sales['Order_Weekday'] = pd.to_datetime(bike_sales['order_date']).dt.day_name()\n",
        "bike_sales['Order_YM'] = pd.to_datetime(bike_sales['order_date']).dt.to_period('M')"
      ],
      "execution_count": 73,
      "outputs": []
    },
    {
      "cell_type": "code",
      "metadata": {
        "colab": {
          "base_uri": "https://localhost:8080/"
        },
        "id": "7pA69jq0H4Kz",
        "outputId": "4603497c-d104-47c4-d91d-4f8fbcc59adc"
      },
      "source": [
        "bike_sales.info()"
      ],
      "execution_count": 74,
      "outputs": [
        {
          "output_type": "stream",
          "text": [
            "<class 'pandas.core.frame.DataFrame'>\n",
            "RangeIndex: 15644 entries, 0 to 15643\n",
            "Data columns (total 19 columns):\n",
            " #   Column             Non-Null Count  Dtype    \n",
            "---  ------             --------------  -----    \n",
            " 0   order_date         15644 non-null  object   \n",
            " 1   order_id           15644 non-null  float64  \n",
            " 2   order_line         15644 non-null  int64    \n",
            " 3   quantity           15644 non-null  int64    \n",
            " 4   price              15644 non-null  float64  \n",
            " 5   total_price        15644 non-null  float64  \n",
            " 6   model              15644 non-null  object   \n",
            " 7   category_1         15644 non-null  object   \n",
            " 8   category_2         15644 non-null  object   \n",
            " 9   frame_material     15644 non-null  object   \n",
            " 10  bikeshop_name      15644 non-null  object   \n",
            " 11  city               15644 non-null  object   \n",
            " 12  state              15644 non-null  object   \n",
            " 13  Order_Month        15644 non-null  int64    \n",
            " 14  Order_Day          15644 non-null  int64    \n",
            " 15  Order_YM           15644 non-null  period[M]\n",
            " 16  Order_Weekday      15644 non-null  object   \n",
            " 17  Order_month_floor  15644 non-null  int64    \n",
            " 18  Order_Year         15644 non-null  int64    \n",
            "dtypes: float64(3), int64(6), object(9), period[M](1)\n",
            "memory usage: 2.3+ MB\n"
          ],
          "name": "stdout"
        }
      ]
    },
    {
      "cell_type": "markdown",
      "metadata": {
        "id": "pqL_-0_pwBKu"
      },
      "source": [
        "### Transform Data"
      ]
    },
    {
      "cell_type": "markdown",
      "metadata": {
        "id": "q9QqJ3qgw6m-"
      },
      "source": [
        "#### Group Sales by Shop"
      ]
    },
    {
      "cell_type": "code",
      "metadata": {
        "colab": {
          "base_uri": "https://localhost:8080/"
        },
        "id": "QQRNwF4Dw0zi",
        "outputId": "164b5435-1f65-4977-e701-d0adfb857552"
      },
      "source": [
        "bike_sales.info()"
      ],
      "execution_count": 75,
      "outputs": [
        {
          "output_type": "stream",
          "text": [
            "<class 'pandas.core.frame.DataFrame'>\n",
            "RangeIndex: 15644 entries, 0 to 15643\n",
            "Data columns (total 19 columns):\n",
            " #   Column             Non-Null Count  Dtype    \n",
            "---  ------             --------------  -----    \n",
            " 0   order_date         15644 non-null  object   \n",
            " 1   order_id           15644 non-null  float64  \n",
            " 2   order_line         15644 non-null  int64    \n",
            " 3   quantity           15644 non-null  int64    \n",
            " 4   price              15644 non-null  float64  \n",
            " 5   total_price        15644 non-null  float64  \n",
            " 6   model              15644 non-null  object   \n",
            " 7   category_1         15644 non-null  object   \n",
            " 8   category_2         15644 non-null  object   \n",
            " 9   frame_material     15644 non-null  object   \n",
            " 10  bikeshop_name      15644 non-null  object   \n",
            " 11  city               15644 non-null  object   \n",
            " 12  state              15644 non-null  object   \n",
            " 13  Order_Month        15644 non-null  int64    \n",
            " 14  Order_Day          15644 non-null  int64    \n",
            " 15  Order_YM           15644 non-null  period[M]\n",
            " 16  Order_Weekday      15644 non-null  object   \n",
            " 17  Order_month_floor  15644 non-null  int64    \n",
            " 18  Order_Year         15644 non-null  int64    \n",
            "dtypes: float64(3), int64(6), object(9), period[M](1)\n",
            "memory usage: 2.3+ MB\n"
          ],
          "name": "stdout"
        }
      ]
    },
    {
      "cell_type": "code",
      "metadata": {
        "colab": {
          "base_uri": "https://localhost:8080/",
          "height": 204
        },
        "id": "AmMXw8LDxIe7",
        "outputId": "8d8e391c-364f-4c8f-e545-3d7bf871b838"
      },
      "source": [
        "# Get sales by bikeshop and sort decending\n",
        "shop_sales = bike_sales.groupby('bikeshop_name')['total_price'].sum().to_frame(name = \"Total Sales\").reset_index()\n",
        "shop_sales.sort_values(by = ['Total Sales'], inplace = True, ascending= False)\n",
        "shop_sales.head()"
      ],
      "execution_count": 35,
      "outputs": [
        {
          "output_type": "execute_result",
          "data": {
            "text/html": [
              "<div>\n",
              "<style scoped>\n",
              "    .dataframe tbody tr th:only-of-type {\n",
              "        vertical-align: middle;\n",
              "    }\n",
              "\n",
              "    .dataframe tbody tr th {\n",
              "        vertical-align: top;\n",
              "    }\n",
              "\n",
              "    .dataframe thead th {\n",
              "        text-align: right;\n",
              "    }\n",
              "</style>\n",
              "<table border=\"1\" class=\"dataframe\">\n",
              "  <thead>\n",
              "    <tr style=\"text-align: right;\">\n",
              "      <th></th>\n",
              "      <th>bikeshop_name</th>\n",
              "      <th>Total Sales</th>\n",
              "    </tr>\n",
              "  </thead>\n",
              "  <tbody>\n",
              "    <tr>\n",
              "      <th>10</th>\n",
              "      <td>Kansas City 29ers</td>\n",
              "      <td>11535455.0</td>\n",
              "    </tr>\n",
              "    <tr>\n",
              "      <th>6</th>\n",
              "      <td>Denver Bike Shop</td>\n",
              "      <td>7697670.0</td>\n",
              "    </tr>\n",
              "    <tr>\n",
              "      <th>9</th>\n",
              "      <td>Ithaca Mountain Climbers</td>\n",
              "      <td>6299335.0</td>\n",
              "    </tr>\n",
              "    <tr>\n",
              "      <th>21</th>\n",
              "      <td>Phoenix Bi-peds</td>\n",
              "      <td>4168535.0</td>\n",
              "    </tr>\n",
              "    <tr>\n",
              "      <th>19</th>\n",
              "      <td>Oklahoma City Race Equipment</td>\n",
              "      <td>3450040.0</td>\n",
              "    </tr>\n",
              "  </tbody>\n",
              "</table>\n",
              "</div>"
            ],
            "text/plain": [
              "                   bikeshop_name  Total Sales\n",
              "10             Kansas City 29ers   11535455.0\n",
              "6               Denver Bike Shop    7697670.0\n",
              "9       Ithaca Mountain Climbers    6299335.0\n",
              "21               Phoenix Bi-peds    4168535.0\n",
              "19  Oklahoma City Race Equipment    3450040.0"
            ]
          },
          "metadata": {
            "tags": []
          },
          "execution_count": 35
        }
      ]
    },
    {
      "cell_type": "code",
      "metadata": {
        "id": "IwuZ9qmm2kG2"
      },
      "source": [
        "# Bar chart of sales\n",
        "source = shop_sales\n",
        "\n",
        "bars = alt.Chart(source).mark_bar().encode(\n",
        "    x=\"Total Sales:Q\",\n",
        "    y= alt.Y(\"bikeshop_name:O\",sort='-x')\n",
        ")\n",
        "\n",
        "text = bars.mark_text(\n",
        "    align='left',\n",
        "    baseline='middle',\n",
        "    dx=3  # Nudges text to right so it doesn't appear on top of the bar\n",
        ").encode(\n",
        "    text='Total Sales:Q'\n",
        ")\n",
        "\n",
        "(bars + text).properties(height=900)"
      ],
      "execution_count": null,
      "outputs": []
    },
    {
      "cell_type": "code",
      "metadata": {
        "id": "f_P9wPQ-DhoU"
      },
      "source": [
        "# Get Sales over time by frame material\n",
        "sales_mat_tbl = bike_sales.groupby(['frame_material','Order_Year'])['total_price'].sum().to_frame(name = \"Total Sales\").reset_index()"
      ],
      "execution_count": 76,
      "outputs": []
    },
    {
      "cell_type": "code",
      "metadata": {
        "colab": {
          "base_uri": "https://localhost:8080/",
          "height": 416
        },
        "id": "XgYmiOxPEv6E",
        "outputId": "6a2d3aa0-a91b-4e9b-9f76-894794467d7f"
      },
      "source": [
        "# produce facte plot by Material \n",
        "source = sales_mat_tbl\n",
        "\n",
        "line = alt.Chart(source).mark_line().encode(\n",
        "    x = 'Order_Year',\n",
        "    y = 'Total Sales',\n",
        "    color = 'frame_material'\n",
        ").properties(\n",
        "    width = 300,\n",
        "    height = 300\n",
        ").facet(column = 'frame_material')\n",
        "\n",
        "line\n",
        "\n",
        "#line.facet('frame material')"
      ],
      "execution_count": 84,
      "outputs": [
        {
          "output_type": "execute_result",
          "data": {
            "text/plain": [
              "alt.FacetChart(...)"
            ],
            "text/html": [
              "\n",
              "<div id=\"altair-viz-22e7edb5244c435d917da027796e1f82\"></div>\n",
              "<script type=\"text/javascript\">\n",
              "  (function(spec, embedOpt){\n",
              "    let outputDiv = document.currentScript.previousElementSibling;\n",
              "    if (outputDiv.id !== \"altair-viz-22e7edb5244c435d917da027796e1f82\") {\n",
              "      outputDiv = document.getElementById(\"altair-viz-22e7edb5244c435d917da027796e1f82\");\n",
              "    }\n",
              "    const paths = {\n",
              "      \"vega\": \"https://cdn.jsdelivr.net/npm//vega@5?noext\",\n",
              "      \"vega-lib\": \"https://cdn.jsdelivr.net/npm//vega-lib?noext\",\n",
              "      \"vega-lite\": \"https://cdn.jsdelivr.net/npm//vega-lite@4.8.1?noext\",\n",
              "      \"vega-embed\": \"https://cdn.jsdelivr.net/npm//vega-embed@6?noext\",\n",
              "    };\n",
              "\n",
              "    function loadScript(lib) {\n",
              "      return new Promise(function(resolve, reject) {\n",
              "        var s = document.createElement('script');\n",
              "        s.src = paths[lib];\n",
              "        s.async = true;\n",
              "        s.onload = () => resolve(paths[lib]);\n",
              "        s.onerror = () => reject(`Error loading script: ${paths[lib]}`);\n",
              "        document.getElementsByTagName(\"head\")[0].appendChild(s);\n",
              "      });\n",
              "    }\n",
              "\n",
              "    function showError(err) {\n",
              "      outputDiv.innerHTML = `<div class=\"error\" style=\"color:red;\">${err}</div>`;\n",
              "      throw err;\n",
              "    }\n",
              "\n",
              "    function displayChart(vegaEmbed) {\n",
              "      vegaEmbed(outputDiv, spec, embedOpt)\n",
              "        .catch(err => showError(`Javascript Error: ${err.message}<br>This usually means there's a typo in your chart specification. See the javascript console for the full traceback.`));\n",
              "    }\n",
              "\n",
              "    if(typeof define === \"function\" && define.amd) {\n",
              "      requirejs.config({paths});\n",
              "      require([\"vega-embed\"], displayChart, err => showError(`Error loading script: ${err.message}`));\n",
              "    } else if (typeof vegaEmbed === \"function\") {\n",
              "      displayChart(vegaEmbed);\n",
              "    } else {\n",
              "      loadScript(\"vega\")\n",
              "        .then(() => loadScript(\"vega-lite\"))\n",
              "        .then(() => loadScript(\"vega-embed\"))\n",
              "        .catch(showError)\n",
              "        .then(() => displayChart(vegaEmbed));\n",
              "    }\n",
              "  })({\"config\": {\"view\": {\"continuousWidth\": 400, \"continuousHeight\": 300}}, \"data\": {\"name\": \"data-0296db34ee4921a41fffa771eb053183\"}, \"facet\": {\"column\": {\"type\": \"nominal\", \"field\": \"frame_material\"}}, \"spec\": {\"mark\": \"line\", \"encoding\": {\"color\": {\"type\": \"nominal\", \"field\": \"frame_material\"}, \"x\": {\"type\": \"quantitative\", \"field\": \"Order_Year\"}, \"y\": {\"type\": \"quantitative\", \"field\": \"Total Sales\"}}, \"height\": 300, \"width\": 300}, \"$schema\": \"https://vega.github.io/schema/vega-lite/v4.8.1.json\", \"datasets\": {\"data-0296db34ee4921a41fffa771eb053183\": [{\"frame_material\": \"Aluminum\", \"Order_Year\": 2011, \"Total Sales\": 2988415.0}, {\"frame_material\": \"Aluminum\", \"Order_Year\": 2012, \"Total Sales\": 2945785.0}, {\"frame_material\": \"Aluminum\", \"Order_Year\": 2013, \"Total Sales\": 4246955.0}, {\"frame_material\": \"Aluminum\", \"Order_Year\": 2014, \"Total Sales\": 3529165.0}, {\"frame_material\": \"Aluminum\", \"Order_Year\": 2015, \"Total Sales\": 4381470.0}, {\"frame_material\": \"Carbon\", \"Order_Year\": 2011, \"Total Sales\": 8304470.0}, {\"frame_material\": \"Carbon\", \"Order_Year\": 2012, \"Total Sales\": 9217290.0}, {\"frame_material\": \"Carbon\", \"Order_Year\": 2013, \"Total Sales\": 12233820.0}, {\"frame_material\": \"Carbon\", \"Order_Year\": 2014, \"Total Sales\": 10394920.0}, {\"frame_material\": \"Carbon\", \"Order_Year\": 2015, \"Total Sales\": 12790040.0}]}}, {\"mode\": \"vega-lite\"});\n",
              "</script>"
            ]
          },
          "metadata": {
            "tags": []
          },
          "execution_count": 84
        }
      ]
    },
    {
      "cell_type": "code",
      "metadata": {
        "id": "xmV8P3YLFoNa"
      },
      "source": [
        ""
      ],
      "execution_count": null,
      "outputs": []
    }
  ]
}