{
  "nbformat": 4,
  "nbformat_minor": 0,
  "metadata": {
    "colab": {
      "name": "Bike Sales - Customer segmentation.ipynb",
      "provenance": [],
      "collapsed_sections": [
        "rrn6lXxSrpNx",
        "53UiuGm6qsMT",
        "tW07r2lPdFTO",
        "KIFcNESvwTHy",
        "3Wk0KzPUgxJ4",
        "_RSbR7uoQQSa",
        "gSVNbIohFHlI",
        "1g4rGqgHFc9z"
      ],
      "toc_visible": true,
      "authorship_tag": "ABX9TyMfUqb2JprLxrEoKCTBVLT1",
      "include_colab_link": true
    },
    "kernelspec": {
      "name": "python3",
      "display_name": "Python 3"
    }
  },
  "cells": [
    {
      "cell_type": "markdown",
      "metadata": {
        "id": "view-in-github",
        "colab_type": "text"
      },
      "source": [
        "<a href=\"https://colab.research.google.com/github/taggartpatrick/basic_bike_sales_analytics/blob/main/Bike_Sales_Customer_segmentation.ipynb\" target=\"_parent\"><img src=\"https://colab.research.google.com/assets/colab-badge.svg\" alt=\"Open In Colab\"/></a>"
      ]
    },
    {
      "cell_type": "markdown",
      "metadata": {
        "id": "rrn6lXxSrpNx"
      },
      "source": [
        "### Load libraries\n"
      ]
    },
    {
      "cell_type": "code",
      "metadata": {
        "id": "jhn7PIYUryEg"
      },
      "source": [
        "# Load basic libraries\n",
        "import pandas as pd\n",
        "import numpy as np\n",
        "import altair as alt\n",
        "import datetime as dt"
      ],
      "execution_count": null,
      "outputs": []
    },
    {
      "cell_type": "code",
      "metadata": {
        "id": "zo2e17RfzVuf",
        "colab": {
          "base_uri": "https://localhost:8080/"
        },
        "outputId": "e86128f0-cf53-48ba-ef23-42b465fe639c"
      },
      "source": [
        "# load pandas profiling \n",
        "import sys\n",
        "\n",
        "!{sys.executable} -m pip install -U pandas-profiling[notebook]\n",
        "!jupyter nbextension enable --py widgetsnbextension\n",
        "\n",
        "import pandas_profiling"
      ],
      "execution_count": null,
      "outputs": [
        {
          "output_type": "stream",
          "text": [
            "Requirement already up-to-date: pandas-profiling[notebook] in /usr/local/lib/python3.6/dist-packages (2.9.0)\n",
            "Requirement already satisfied, skipping upgrade: visions[type_image_path]==0.5.0 in /usr/local/lib/python3.6/dist-packages (from pandas-profiling[notebook]) (0.5.0)\n",
            "Requirement already satisfied, skipping upgrade: phik>=0.9.10 in /usr/local/lib/python3.6/dist-packages (from pandas-profiling[notebook]) (0.10.0)\n",
            "Requirement already satisfied, skipping upgrade: joblib in /usr/local/lib/python3.6/dist-packages (from pandas-profiling[notebook]) (1.0.0)\n",
            "Requirement already satisfied, skipping upgrade: attrs>=19.3.0 in /usr/local/lib/python3.6/dist-packages (from pandas-profiling[notebook]) (20.3.0)\n",
            "Requirement already satisfied, skipping upgrade: htmlmin>=0.1.12 in /usr/local/lib/python3.6/dist-packages (from pandas-profiling[notebook]) (0.1.12)\n",
            "Requirement already satisfied, skipping upgrade: scipy>=1.4.1 in /usr/local/lib/python3.6/dist-packages (from pandas-profiling[notebook]) (1.4.1)\n",
            "Requirement already satisfied, skipping upgrade: seaborn>=0.10.1 in /usr/local/lib/python3.6/dist-packages (from pandas-profiling[notebook]) (0.11.0)\n",
            "Requirement already satisfied, skipping upgrade: matplotlib>=3.2.0 in /usr/local/lib/python3.6/dist-packages (from pandas-profiling[notebook]) (3.2.2)\n",
            "Requirement already satisfied, skipping upgrade: requests>=2.23.0 in /usr/local/lib/python3.6/dist-packages (from pandas-profiling[notebook]) (2.23.0)\n",
            "Requirement already satisfied, skipping upgrade: tqdm>=4.43.0 in /usr/local/lib/python3.6/dist-packages (from pandas-profiling[notebook]) (4.55.0)\n",
            "Requirement already satisfied, skipping upgrade: pandas!=1.0.0,!=1.0.1,!=1.0.2,!=1.1.0,>=0.25.3 in /usr/local/lib/python3.6/dist-packages (from pandas-profiling[notebook]) (1.1.5)\n",
            "Requirement already satisfied, skipping upgrade: numpy>=1.16.0 in /usr/local/lib/python3.6/dist-packages (from pandas-profiling[notebook]) (1.19.4)\n",
            "Requirement already satisfied, skipping upgrade: missingno>=0.4.2 in /usr/local/lib/python3.6/dist-packages (from pandas-profiling[notebook]) (0.4.2)\n",
            "Requirement already satisfied, skipping upgrade: jinja2>=2.11.1 in /usr/local/lib/python3.6/dist-packages (from pandas-profiling[notebook]) (2.11.2)\n",
            "Requirement already satisfied, skipping upgrade: confuse>=1.0.0 in /usr/local/lib/python3.6/dist-packages (from pandas-profiling[notebook]) (1.4.0)\n",
            "Requirement already satisfied, skipping upgrade: tangled-up-in-unicode>=0.0.6 in /usr/local/lib/python3.6/dist-packages (from pandas-profiling[notebook]) (0.0.6)\n",
            "Requirement already satisfied, skipping upgrade: ipywidgets>=7.5.1 in /usr/local/lib/python3.6/dist-packages (from pandas-profiling[notebook]) (7.5.1)\n",
            "Requirement already satisfied, skipping upgrade: jupyter-core>=4.6.3; extra == \"notebook\" in /usr/local/lib/python3.6/dist-packages (from pandas-profiling[notebook]) (4.7.0)\n",
            "Requirement already satisfied, skipping upgrade: jupyter-client>=6.0.0; extra == \"notebook\" in /usr/local/lib/python3.6/dist-packages (from pandas-profiling[notebook]) (6.1.7)\n",
            "Requirement already satisfied, skipping upgrade: networkx>=2.4 in /usr/local/lib/python3.6/dist-packages (from visions[type_image_path]==0.5.0->pandas-profiling[notebook]) (2.5)\n",
            "Requirement already satisfied, skipping upgrade: imagehash; extra == \"type_image_path\" in /usr/local/lib/python3.6/dist-packages (from visions[type_image_path]==0.5.0->pandas-profiling[notebook]) (4.2.0)\n",
            "Requirement already satisfied, skipping upgrade: Pillow; extra == \"type_image_path\" in /usr/local/lib/python3.6/dist-packages (from visions[type_image_path]==0.5.0->pandas-profiling[notebook]) (7.0.0)\n",
            "Requirement already satisfied, skipping upgrade: numba>=0.38.1 in /usr/local/lib/python3.6/dist-packages (from phik>=0.9.10->pandas-profiling[notebook]) (0.48.0)\n",
            "Requirement already satisfied, skipping upgrade: python-dateutil>=2.1 in /usr/local/lib/python3.6/dist-packages (from matplotlib>=3.2.0->pandas-profiling[notebook]) (2.8.1)\n",
            "Requirement already satisfied, skipping upgrade: pyparsing!=2.0.4,!=2.1.2,!=2.1.6,>=2.0.1 in /usr/local/lib/python3.6/dist-packages (from matplotlib>=3.2.0->pandas-profiling[notebook]) (2.4.7)\n",
            "Requirement already satisfied, skipping upgrade: kiwisolver>=1.0.1 in /usr/local/lib/python3.6/dist-packages (from matplotlib>=3.2.0->pandas-profiling[notebook]) (1.3.1)\n",
            "Requirement already satisfied, skipping upgrade: cycler>=0.10 in /usr/local/lib/python3.6/dist-packages (from matplotlib>=3.2.0->pandas-profiling[notebook]) (0.10.0)\n",
            "Requirement already satisfied, skipping upgrade: urllib3!=1.25.0,!=1.25.1,<1.26,>=1.21.1 in /usr/local/lib/python3.6/dist-packages (from requests>=2.23.0->pandas-profiling[notebook]) (1.24.3)\n",
            "Requirement already satisfied, skipping upgrade: chardet<4,>=3.0.2 in /usr/local/lib/python3.6/dist-packages (from requests>=2.23.0->pandas-profiling[notebook]) (3.0.4)\n",
            "Requirement already satisfied, skipping upgrade: certifi>=2017.4.17 in /usr/local/lib/python3.6/dist-packages (from requests>=2.23.0->pandas-profiling[notebook]) (2020.12.5)\n",
            "Requirement already satisfied, skipping upgrade: idna<3,>=2.5 in /usr/local/lib/python3.6/dist-packages (from requests>=2.23.0->pandas-profiling[notebook]) (2.10)\n",
            "Requirement already satisfied, skipping upgrade: pytz>=2017.2 in /usr/local/lib/python3.6/dist-packages (from pandas!=1.0.0,!=1.0.1,!=1.0.2,!=1.1.0,>=0.25.3->pandas-profiling[notebook]) (2018.9)\n",
            "Requirement already satisfied, skipping upgrade: MarkupSafe>=0.23 in /usr/local/lib/python3.6/dist-packages (from jinja2>=2.11.1->pandas-profiling[notebook]) (1.1.1)\n",
            "Requirement already satisfied, skipping upgrade: pyyaml in /usr/local/lib/python3.6/dist-packages (from confuse>=1.0.0->pandas-profiling[notebook]) (3.13)\n",
            "Requirement already satisfied, skipping upgrade: ipython>=4.0.0; python_version >= \"3.3\" in /usr/local/lib/python3.6/dist-packages (from ipywidgets>=7.5.1->pandas-profiling[notebook]) (5.5.0)\n",
            "Requirement already satisfied, skipping upgrade: widgetsnbextension~=3.5.0 in /usr/local/lib/python3.6/dist-packages (from ipywidgets>=7.5.1->pandas-profiling[notebook]) (3.5.1)\n",
            "Requirement already satisfied, skipping upgrade: ipykernel>=4.5.1 in /usr/local/lib/python3.6/dist-packages (from ipywidgets>=7.5.1->pandas-profiling[notebook]) (4.10.1)\n",
            "Requirement already satisfied, skipping upgrade: nbformat>=4.2.0 in /usr/local/lib/python3.6/dist-packages (from ipywidgets>=7.5.1->pandas-profiling[notebook]) (5.0.8)\n",
            "Requirement already satisfied, skipping upgrade: traitlets>=4.3.1 in /usr/local/lib/python3.6/dist-packages (from ipywidgets>=7.5.1->pandas-profiling[notebook]) (4.3.3)\n",
            "Requirement already satisfied, skipping upgrade: tornado>=4.1 in /usr/local/lib/python3.6/dist-packages (from jupyter-client>=6.0.0; extra == \"notebook\"->pandas-profiling[notebook]) (5.1.1)\n",
            "Requirement already satisfied, skipping upgrade: pyzmq>=13 in /usr/local/lib/python3.6/dist-packages (from jupyter-client>=6.0.0; extra == \"notebook\"->pandas-profiling[notebook]) (20.0.0)\n",
            "Requirement already satisfied, skipping upgrade: decorator>=4.3.0 in /usr/local/lib/python3.6/dist-packages (from networkx>=2.4->visions[type_image_path]==0.5.0->pandas-profiling[notebook]) (4.4.2)\n",
            "Requirement already satisfied, skipping upgrade: PyWavelets in /usr/local/lib/python3.6/dist-packages (from imagehash; extra == \"type_image_path\"->visions[type_image_path]==0.5.0->pandas-profiling[notebook]) (1.1.1)\n",
            "Requirement already satisfied, skipping upgrade: six in /usr/local/lib/python3.6/dist-packages (from imagehash; extra == \"type_image_path\"->visions[type_image_path]==0.5.0->pandas-profiling[notebook]) (1.15.0)\n",
            "Requirement already satisfied, skipping upgrade: llvmlite<0.32.0,>=0.31.0dev0 in /usr/local/lib/python3.6/dist-packages (from numba>=0.38.1->phik>=0.9.10->pandas-profiling[notebook]) (0.31.0)\n",
            "Requirement already satisfied, skipping upgrade: setuptools in /usr/local/lib/python3.6/dist-packages (from numba>=0.38.1->phik>=0.9.10->pandas-profiling[notebook]) (51.0.0)\n",
            "Requirement already satisfied, skipping upgrade: prompt-toolkit<2.0.0,>=1.0.4 in /usr/local/lib/python3.6/dist-packages (from ipython>=4.0.0; python_version >= \"3.3\"->ipywidgets>=7.5.1->pandas-profiling[notebook]) (1.0.18)\n",
            "Requirement already satisfied, skipping upgrade: pickleshare in /usr/local/lib/python3.6/dist-packages (from ipython>=4.0.0; python_version >= \"3.3\"->ipywidgets>=7.5.1->pandas-profiling[notebook]) (0.7.5)\n",
            "Requirement already satisfied, skipping upgrade: simplegeneric>0.8 in /usr/local/lib/python3.6/dist-packages (from ipython>=4.0.0; python_version >= \"3.3\"->ipywidgets>=7.5.1->pandas-profiling[notebook]) (0.8.1)\n",
            "Requirement already satisfied, skipping upgrade: pexpect; sys_platform != \"win32\" in /usr/local/lib/python3.6/dist-packages (from ipython>=4.0.0; python_version >= \"3.3\"->ipywidgets>=7.5.1->pandas-profiling[notebook]) (4.8.0)\n",
            "Requirement already satisfied, skipping upgrade: pygments in /usr/local/lib/python3.6/dist-packages (from ipython>=4.0.0; python_version >= \"3.3\"->ipywidgets>=7.5.1->pandas-profiling[notebook]) (2.6.1)\n",
            "Requirement already satisfied, skipping upgrade: notebook>=4.4.1 in /usr/local/lib/python3.6/dist-packages (from widgetsnbextension~=3.5.0->ipywidgets>=7.5.1->pandas-profiling[notebook]) (5.3.1)\n",
            "Requirement already satisfied, skipping upgrade: ipython-genutils in /usr/local/lib/python3.6/dist-packages (from nbformat>=4.2.0->ipywidgets>=7.5.1->pandas-profiling[notebook]) (0.2.0)\n",
            "Requirement already satisfied, skipping upgrade: jsonschema!=2.5.0,>=2.4 in /usr/local/lib/python3.6/dist-packages (from nbformat>=4.2.0->ipywidgets>=7.5.1->pandas-profiling[notebook]) (2.6.0)\n",
            "Requirement already satisfied, skipping upgrade: wcwidth in /usr/local/lib/python3.6/dist-packages (from prompt-toolkit<2.0.0,>=1.0.4->ipython>=4.0.0; python_version >= \"3.3\"->ipywidgets>=7.5.1->pandas-profiling[notebook]) (0.2.5)\n",
            "Requirement already satisfied, skipping upgrade: ptyprocess>=0.5 in /usr/local/lib/python3.6/dist-packages (from pexpect; sys_platform != \"win32\"->ipython>=4.0.0; python_version >= \"3.3\"->ipywidgets>=7.5.1->pandas-profiling[notebook]) (0.6.0)\n",
            "Requirement already satisfied, skipping upgrade: nbconvert in /usr/local/lib/python3.6/dist-packages (from notebook>=4.4.1->widgetsnbextension~=3.5.0->ipywidgets>=7.5.1->pandas-profiling[notebook]) (5.6.1)\n",
            "Requirement already satisfied, skipping upgrade: Send2Trash in /usr/local/lib/python3.6/dist-packages (from notebook>=4.4.1->widgetsnbextension~=3.5.0->ipywidgets>=7.5.1->pandas-profiling[notebook]) (1.5.0)\n",
            "Requirement already satisfied, skipping upgrade: terminado>=0.8.1 in /usr/local/lib/python3.6/dist-packages (from notebook>=4.4.1->widgetsnbextension~=3.5.0->ipywidgets>=7.5.1->pandas-profiling[notebook]) (0.9.1)\n",
            "Requirement already satisfied, skipping upgrade: pandocfilters>=1.4.1 in /usr/local/lib/python3.6/dist-packages (from nbconvert->notebook>=4.4.1->widgetsnbextension~=3.5.0->ipywidgets>=7.5.1->pandas-profiling[notebook]) (1.4.3)\n",
            "Requirement already satisfied, skipping upgrade: testpath in /usr/local/lib/python3.6/dist-packages (from nbconvert->notebook>=4.4.1->widgetsnbextension~=3.5.0->ipywidgets>=7.5.1->pandas-profiling[notebook]) (0.4.4)\n",
            "Requirement already satisfied, skipping upgrade: defusedxml in /usr/local/lib/python3.6/dist-packages (from nbconvert->notebook>=4.4.1->widgetsnbextension~=3.5.0->ipywidgets>=7.5.1->pandas-profiling[notebook]) (0.6.0)\n",
            "Requirement already satisfied, skipping upgrade: entrypoints>=0.2.2 in /usr/local/lib/python3.6/dist-packages (from nbconvert->notebook>=4.4.1->widgetsnbextension~=3.5.0->ipywidgets>=7.5.1->pandas-profiling[notebook]) (0.3)\n",
            "Requirement already satisfied, skipping upgrade: mistune<2,>=0.8.1 in /usr/local/lib/python3.6/dist-packages (from nbconvert->notebook>=4.4.1->widgetsnbextension~=3.5.0->ipywidgets>=7.5.1->pandas-profiling[notebook]) (0.8.4)\n",
            "Requirement already satisfied, skipping upgrade: bleach in /usr/local/lib/python3.6/dist-packages (from nbconvert->notebook>=4.4.1->widgetsnbextension~=3.5.0->ipywidgets>=7.5.1->pandas-profiling[notebook]) (3.2.1)\n",
            "Requirement already satisfied, skipping upgrade: webencodings in /usr/local/lib/python3.6/dist-packages (from bleach->nbconvert->notebook>=4.4.1->widgetsnbextension~=3.5.0->ipywidgets>=7.5.1->pandas-profiling[notebook]) (0.5.1)\n",
            "Requirement already satisfied, skipping upgrade: packaging in /usr/local/lib/python3.6/dist-packages (from bleach->nbconvert->notebook>=4.4.1->widgetsnbextension~=3.5.0->ipywidgets>=7.5.1->pandas-profiling[notebook]) (20.8)\n",
            "Enabling notebook extension jupyter-js-widgets/extension...\n",
            "      - Validating: \u001b[32mOK\u001b[0m\n"
          ],
          "name": "stdout"
        }
      ]
    },
    {
      "cell_type": "code",
      "metadata": {
        "id": "A5OZDfYFzRx-",
        "colab": {
          "base_uri": "https://localhost:8080/"
        },
        "outputId": "484f3975-0ab4-41fb-a3e3-917539b80d67"
      },
      "source": [
        "# load interactive tables\n",
        "%load_ext google.colab.data_table"
      ],
      "execution_count": null,
      "outputs": [
        {
          "output_type": "stream",
          "text": [
            "The google.colab.data_table extension is already loaded. To reload it, use:\n",
            "  %reload_ext google.colab.data_table\n"
          ],
          "name": "stdout"
        }
      ]
    },
    {
      "cell_type": "code",
      "metadata": {
        "id": "VxOtxBOf9xgD"
      },
      "source": [
        "# load plotly \n",
        "!pip install -q plotly==4.2.1\n",
        "import plotly.graph_objects as go\n",
        "\n",
        "from IPython.display import HTML\n",
        "import plotly.express as px"
      ],
      "execution_count": null,
      "outputs": []
    },
    {
      "cell_type": "code",
      "metadata": {
        "id": "L7eA9ti1Nlew"
      },
      "source": [
        "# load seaborn libraries \n",
        "import seaborn as sns\n",
        "import matplotlib.pyplot as plt "
      ],
      "execution_count": null,
      "outputs": []
    },
    {
      "cell_type": "markdown",
      "metadata": {
        "id": "53UiuGm6qsMT"
      },
      "source": [
        "### Import data\n"
      ]
    },
    {
      "cell_type": "markdown",
      "metadata": {
        "id": "GHeWcli_csrB"
      },
      "source": [
        "#### Import data from Gitbuh repo"
      ]
    },
    {
      "cell_type": "code",
      "metadata": {
        "id": "FV0_DU5dqlBH",
        "colab": {
          "base_uri": "https://localhost:8080/"
        },
        "outputId": "cec5a446-c61a-4d4c-b4ea-601c1e181991"
      },
      "source": [
        "# Clone Github directory\n",
        "!git clone https://github.com/taggartpatrick/basic_bike_sales_analytics\n",
        "!ls"
      ],
      "execution_count": null,
      "outputs": [
        {
          "output_type": "stream",
          "text": [
            "Cloning into 'basic_bike_sales_analytics'...\n",
            "remote: Enumerating objects: 14, done.\u001b[K\n",
            "remote: Counting objects: 100% (14/14), done.\u001b[K\n",
            "remote: Compressing objects: 100% (12/12), done.\u001b[K\n",
            "remote: Total 14 (delta 2), reused 0 (delta 0), pack-reused 0\u001b[K\n",
            "Unpacking objects: 100% (14/14), done.\n",
            "basic_analytics  basic_bike_sales_analytics  sample_data\n"
          ],
          "name": "stdout"
        }
      ]
    },
    {
      "cell_type": "code",
      "metadata": {
        "id": "zxlePFE8roJm"
      },
      "source": [
        "# Import ordeline data \n",
        "orderlines = pd.read_excel(\"/content/basic_bike_sales_analytics/orderlines.xlsx\")\n",
        "\n",
        "# Import bikeshop data \n",
        "bikeshops = pd.read_excel(\"/content/basic_bike_sales_analytics/bikeshops.xlsx\")\n",
        "\n",
        "# Import bike data \n",
        "bikes = pd.read_excel(\"/content/basic_bike_sales_analytics/bikes.xlsx\")"
      ],
      "execution_count": null,
      "outputs": []
    },
    {
      "cell_type": "code",
      "metadata": {
        "id": "-GVvU5wUeyaA"
      },
      "source": [
        "# Import bike orderline data \n",
        "bike_orderlines = pd.read_csv(\"/content/basic_bike_sales_analytics/bike_orderlines.csv\")"
      ],
      "execution_count": null,
      "outputs": []
    },
    {
      "cell_type": "markdown",
      "metadata": {
        "id": "9BmPLzPHxqau"
      },
      "source": [
        "### Tidy and Transform Bike Sales Data"
      ]
    },
    {
      "cell_type": "markdown",
      "metadata": {
        "id": "tW07r2lPdFTO"
      },
      "source": [
        "#### Combine Excel Files into one dataframe"
      ]
    },
    {
      "cell_type": "code",
      "metadata": {
        "id": "8ybgCue9gQlg"
      },
      "source": [
        "# Rename key fields in relevant excel based dataframes for merging\n",
        "\n",
        "bikes = bikes.rename(columns = {'bike.id':'product.id'})\n",
        "bikeshops = bikeshops.rename(columns = {'bikeshop.id': 'customer.id'})\n",
        "\n",
        "# Join dataframes into one overall dataframe\n",
        "\n",
        "bike_order_data = pd.merge(orderlines,bikes, on = 'product.id')\n",
        "bike_order_data = pd.merge(bike_order_data,bikeshops, on = 'customer.id')"
      ],
      "execution_count": null,
      "outputs": []
    },
    {
      "cell_type": "markdown",
      "metadata": {
        "id": "KIFcNESvwTHy"
      },
      "source": [
        "#### Tidy Dataframe"
      ]
    },
    {
      "cell_type": "code",
      "metadata": {
        "id": "VlJdBpITmGG5"
      },
      "source": [
        "# Rename key fields\n",
        "bike_sales_tbl = bike_order_data.rename(columns = {\n",
        "    'order.date' : 'order_date',\n",
        "    'order.id' : 'order_id',\n",
        "    'order.line' : 'order_line',\n",
        "    'bikeshop.name':'bikeshop_name'\n",
        "    })\n",
        "\n",
        "# Drop uneeded fields \n",
        "bike_sales_tbl = bike_sales_tbl.drop(['Unnamed: 0','customer.id','product.id'], axis = 1) \n",
        "\n",
        "# Split location fields and split decsription fields \n",
        "bike_sales_tbl[['major_category','minor_category','frame_material']] = bike_sales_tbl['description'].str.split(' - ',2,expand = True)\n",
        "\n",
        "# Add fields for month, day and year\n",
        "\n",
        "def get_ym(x): return dt.datetime(x.year,x.month,1)\n",
        "\n",
        "bike_sales_tbl['order_month'] = pd.DatetimeIndex(bike_sales_tbl['order_date']).month\n",
        "bike_sales_tbl['order_day'] = pd.DatetimeIndex(bike_sales_tbl['order_date']).day\n",
        "bike_sales_tbl['order_year'] = pd.DatetimeIndex(bike_sales_tbl['order_date']).year\n",
        "bike_sales_tbl['order_ym'] = bike_sales_tbl['order_date'].apply(get_ym)\n",
        "bike_sales_tbl['order_weekday'] = pd.to_datetime(bike_sales_tbl['order_date']).dt.day_name()\n",
        "\n",
        "# Add total sales value \n",
        "bike_sales_tbl['sales_value'] = bike_sales_tbl['price']*bike_sales_tbl['quantity']\n"
      ],
      "execution_count": null,
      "outputs": []
    },
    {
      "cell_type": "markdown",
      "metadata": {
        "id": "3Wk0KzPUgxJ4"
      },
      "source": [
        "### Perform Basic customer segment analysis"
      ]
    },
    {
      "cell_type": "markdown",
      "metadata": {
        "id": "_RSbR7uoQQSa"
      },
      "source": [
        "#### Analyse customer cohorts"
      ]
    },
    {
      "cell_type": "markdown",
      "metadata": {
        "id": "GU9oogkuQc31"
      },
      "source": [
        "Customer cohort anlaysis looks at two things: \n",
        "1. When a customer made their first purchase \n",
        "2. How many months a customer was active after that first purchase\n",
        "\n",
        "If individual customer purchase trends are aggregated, you can easily get a view of the number of active customers monthly relative to when they made their first purchase \n",
        "\n",
        "If this number remains high it means customers are loyal "
      ]
    },
    {
      "cell_type": "markdown",
      "metadata": {
        "id": "gSVNbIohFHlI"
      },
      "source": [
        "\n",
        "Step 1: Get Cohort count matrix"
      ]
    },
    {
      "cell_type": "code",
      "metadata": {
        "id": "M1oVbztS9KJr"
      },
      "source": [
        "# Filter sales table to see data for a specific year \n",
        "\n",
        "filter_years = ['2012']\n",
        "\n",
        "cust_sales_tbl = bike_sales_tbl[bike_sales_tbl['order_year'].isin(filter_years)]"
      ],
      "execution_count": null,
      "outputs": []
    },
    {
      "cell_type": "code",
      "metadata": {
        "colab": {
          "base_uri": "https://localhost:8080/"
        },
        "id": "yBRnFwtww_uK",
        "outputId": "c0e6170c-082c-4e8f-c27b-4c94fc36e2ce"
      },
      "source": [
        "# Get date of first purchase month by customer \n",
        "grouping = cust_sales_tbl.groupby(['bikeshop_name'])['order_ym']\n",
        "cust_sales_tbl['cohort_ym'] = grouping.transform('min')\n",
        "\n",
        "# Get Month's offset from initial purchase \n",
        "def get_date_int (df, column):\n",
        "    year = df[column].dt.year\n",
        "    month = df[column].dt.month\n",
        "    day = df[column].dt.day\n",
        "    return year, month, day\n",
        "\n",
        "order_year,order_month,_ = get_date_int(cust_sales_tbl,'order_ym')\n",
        "cohort_year,cohort_month,_ = get_date_int(cust_sales_tbl,'cohort_ym')\n",
        "years_diff = order_year - cohort_year\n",
        "months_diff = order_month - cohort_month\n",
        "\n",
        "cust_sales_tbl['cohort_index'] = years_diff*12 + months_diff + 1"
      ],
      "execution_count": null,
      "outputs": [
        {
          "output_type": "stream",
          "text": [
            "/usr/local/lib/python3.6/dist-packages/ipykernel_launcher.py:3: SettingWithCopyWarning:\n",
            "\n",
            "\n",
            "A value is trying to be set on a copy of a slice from a DataFrame.\n",
            "Try using .loc[row_indexer,col_indexer] = value instead\n",
            "\n",
            "See the caveats in the documentation: https://pandas.pydata.org/pandas-docs/stable/user_guide/indexing.html#returning-a-view-versus-a-copy\n",
            "\n",
            "/usr/local/lib/python3.6/dist-packages/ipykernel_launcher.py:17: SettingWithCopyWarning:\n",
            "\n",
            "\n",
            "A value is trying to be set on a copy of a slice from a DataFrame.\n",
            "Try using .loc[row_indexer,col_indexer] = value instead\n",
            "\n",
            "See the caveats in the documentation: https://pandas.pydata.org/pandas-docs/stable/user_guide/indexing.html#returning-a-view-versus-a-copy\n",
            "\n"
          ],
          "name": "stderr"
        }
      ]
    },
    {
      "cell_type": "code",
      "metadata": {
        "colab": {
          "base_uri": "https://localhost:8080/",
          "height": 434
        },
        "id": "IH5iJ2uM91Hw",
        "outputId": "ce1ddb05-2c1a-4a68-dbf9-f3f1d260b8eb"
      },
      "source": [
        "cust_sales_tbl.head()"
      ],
      "execution_count": null,
      "outputs": [
        {
          "output_type": "execute_result",
          "data": {
            "application/vnd.google.colaboratory.module+javascript": "\n      import \"https://ssl.gstatic.com/colaboratory/data_table/a6224c040fa35dcf/data_table.js\";\n\n      window.createDataTable({\n        data: [[{\n            'v': 2,\n            'f': \"2\",\n        },\n{\n            'v': 507,\n            'f': \"507\",\n        },\n{\n            'v': 2,\n            'f': \"2\",\n        },\n\"2012-06-26 00:00:00\",\n{\n            'v': 1,\n            'f': \"1\",\n        },\n\"Jekyll Carbon 2\",\n\"Mountain - Over Mountain - Carbon\",\n{\n            'v': 6070,\n            'f': \"6070\",\n        },\n\"Ithaca Mountain Climbers\",\n\"Ithaca, NY\",\n\"Mountain\",\n\"Over Mountain\",\n\"Carbon\",\n{\n            'v': 6,\n            'f': \"6\",\n        },\n{\n            'v': 26,\n            'f': \"26\",\n        },\n{\n            'v': 2012,\n            'f': \"2012\",\n        },\n\"2012-06-01 00:00:00\",\n\"Tuesday\",\n{\n            'v': 6070,\n            'f': \"6070\",\n        },\n\"2012-03-01 00:00:00\",\n{\n            'v': 4,\n            'f': \"4\",\n        }],\n [{\n            'v': 3,\n            'f': \"3\",\n        },\n{\n            'v': 528,\n            'f': \"528\",\n        },\n{\n            'v': 18,\n            'f': \"18\",\n        },\n\"2012-07-16 00:00:00\",\n{\n            'v': 1,\n            'f': \"1\",\n        },\n\"Jekyll Carbon 2\",\n\"Mountain - Over Mountain - Carbon\",\n{\n            'v': 6070,\n            'f': \"6070\",\n        },\n\"Ithaca Mountain Climbers\",\n\"Ithaca, NY\",\n\"Mountain\",\n\"Over Mountain\",\n\"Carbon\",\n{\n            'v': 7,\n            'f': \"7\",\n        },\n{\n            'v': 16,\n            'f': \"16\",\n        },\n{\n            'v': 2012,\n            'f': \"2012\",\n        },\n\"2012-07-01 00:00:00\",\n\"Monday\",\n{\n            'v': 6070,\n            'f': \"6070\",\n        },\n\"2012-03-01 00:00:00\",\n{\n            'v': 5,\n            'f': \"5\",\n        }],\n [{\n            'v': 21,\n            'f': \"21\",\n        },\n{\n            'v': 460,\n            'f': \"460\",\n        },\n{\n            'v': 2,\n            'f': \"2\",\n        },\n\"2012-05-08 00:00:00\",\n{\n            'v': 1,\n            'f': \"1\",\n        },\n\"Trigger Carbon 2\",\n\"Mountain - Over Mountain - Carbon\",\n{\n            'v': 5970,\n            'f': \"5970\",\n        },\n\"Ithaca Mountain Climbers\",\n\"Ithaca, NY\",\n\"Mountain\",\n\"Over Mountain\",\n\"Carbon\",\n{\n            'v': 5,\n            'f': \"5\",\n        },\n{\n            'v': 8,\n            'f': \"8\",\n        },\n{\n            'v': 2012,\n            'f': \"2012\",\n        },\n\"2012-05-01 00:00:00\",\n\"Tuesday\",\n{\n            'v': 5970,\n            'f': \"5970\",\n        },\n\"2012-03-01 00:00:00\",\n{\n            'v': 3,\n            'f': \"3\",\n        }],\n [{\n            'v': 22,\n            'f': \"22\",\n        },\n{\n            'v': 479,\n            'f': \"479\",\n        },\n{\n            'v': 5,\n            'f': \"5\",\n        },\n\"2012-06-06 00:00:00\",\n{\n            'v': 1,\n            'f': \"1\",\n        },\n\"Trigger Carbon 2\",\n\"Mountain - Over Mountain - Carbon\",\n{\n            'v': 5970,\n            'f': \"5970\",\n        },\n\"Ithaca Mountain Climbers\",\n\"Ithaca, NY\",\n\"Mountain\",\n\"Over Mountain\",\n\"Carbon\",\n{\n            'v': 6,\n            'f': \"6\",\n        },\n{\n            'v': 6,\n            'f': \"6\",\n        },\n{\n            'v': 2012,\n            'f': \"2012\",\n        },\n\"2012-06-01 00:00:00\",\n\"Wednesday\",\n{\n            'v': 5970,\n            'f': \"5970\",\n        },\n\"2012-03-01 00:00:00\",\n{\n            'v': 4,\n            'f': \"4\",\n        }],\n [{\n            'v': 23,\n            'f': \"23\",\n        },\n{\n            'v': 507,\n            'f': \"507\",\n        },\n{\n            'v': 9,\n            'f': \"9\",\n        },\n\"2012-06-26 00:00:00\",\n{\n            'v': 1,\n            'f': \"1\",\n        },\n\"Trigger Carbon 2\",\n\"Mountain - Over Mountain - Carbon\",\n{\n            'v': 5970,\n            'f': \"5970\",\n        },\n\"Ithaca Mountain Climbers\",\n\"Ithaca, NY\",\n\"Mountain\",\n\"Over Mountain\",\n\"Carbon\",\n{\n            'v': 6,\n            'f': \"6\",\n        },\n{\n            'v': 26,\n            'f': \"26\",\n        },\n{\n            'v': 2012,\n            'f': \"2012\",\n        },\n\"2012-06-01 00:00:00\",\n\"Tuesday\",\n{\n            'v': 5970,\n            'f': \"5970\",\n        },\n\"2012-03-01 00:00:00\",\n{\n            'v': 4,\n            'f': \"4\",\n        }]],\n        columns: [[\"number\", \"index\"], [\"number\", \"order_id\"], [\"number\", \"order_line\"], [\"string\", \"order_date\"], [\"number\", \"quantity\"], [\"string\", \"model\"], [\"string\", \"description\"], [\"number\", \"price\"], [\"string\", \"bikeshop_name\"], [\"string\", \"location\"], [\"string\", \"major_category\"], [\"string\", \"minor_category\"], [\"string\", \"frame_material\"], [\"number\", \"order_month\"], [\"number\", \"order_day\"], [\"number\", \"order_year\"], [\"string\", \"order_ym\"], [\"string\", \"order_weekday\"], [\"number\", \"sales_value\"], [\"string\", \"cohort_ym\"], [\"number\", \"cohort_index\"]],\n        columnOptions: [{\"width\": \"1px\", \"className\": \"index_column\"}],\n        rowsPerPage: 25,\n        helpUrl: \"https://colab.research.google.com/notebooks/data_table.ipynb\",\n        suppressOutputScrolling: true,\n        minimumWidth: undefined,\n      });\n    ",
            "text/html": [
              "<div>\n",
              "<style scoped>\n",
              "    .dataframe tbody tr th:only-of-type {\n",
              "        vertical-align: middle;\n",
              "    }\n",
              "\n",
              "    .dataframe tbody tr th {\n",
              "        vertical-align: top;\n",
              "    }\n",
              "\n",
              "    .dataframe thead th {\n",
              "        text-align: right;\n",
              "    }\n",
              "</style>\n",
              "<table border=\"1\" class=\"dataframe\">\n",
              "  <thead>\n",
              "    <tr style=\"text-align: right;\">\n",
              "      <th></th>\n",
              "      <th>order_id</th>\n",
              "      <th>order_line</th>\n",
              "      <th>order_date</th>\n",
              "      <th>quantity</th>\n",
              "      <th>model</th>\n",
              "      <th>description</th>\n",
              "      <th>price</th>\n",
              "      <th>bikeshop_name</th>\n",
              "      <th>location</th>\n",
              "      <th>major_category</th>\n",
              "      <th>minor_category</th>\n",
              "      <th>frame_material</th>\n",
              "      <th>order_month</th>\n",
              "      <th>order_day</th>\n",
              "      <th>order_year</th>\n",
              "      <th>order_ym</th>\n",
              "      <th>order_weekday</th>\n",
              "      <th>sales_value</th>\n",
              "      <th>cohort_ym</th>\n",
              "      <th>cohort_index</th>\n",
              "    </tr>\n",
              "  </thead>\n",
              "  <tbody>\n",
              "    <tr>\n",
              "      <th>2</th>\n",
              "      <td>507</td>\n",
              "      <td>2</td>\n",
              "      <td>2012-06-26</td>\n",
              "      <td>1</td>\n",
              "      <td>Jekyll Carbon 2</td>\n",
              "      <td>Mountain - Over Mountain - Carbon</td>\n",
              "      <td>6070</td>\n",
              "      <td>Ithaca Mountain Climbers</td>\n",
              "      <td>Ithaca, NY</td>\n",
              "      <td>Mountain</td>\n",
              "      <td>Over Mountain</td>\n",
              "      <td>Carbon</td>\n",
              "      <td>6</td>\n",
              "      <td>26</td>\n",
              "      <td>2012</td>\n",
              "      <td>2012-06-01</td>\n",
              "      <td>Tuesday</td>\n",
              "      <td>6070</td>\n",
              "      <td>2012-03-01</td>\n",
              "      <td>4</td>\n",
              "    </tr>\n",
              "    <tr>\n",
              "      <th>3</th>\n",
              "      <td>528</td>\n",
              "      <td>18</td>\n",
              "      <td>2012-07-16</td>\n",
              "      <td>1</td>\n",
              "      <td>Jekyll Carbon 2</td>\n",
              "      <td>Mountain - Over Mountain - Carbon</td>\n",
              "      <td>6070</td>\n",
              "      <td>Ithaca Mountain Climbers</td>\n",
              "      <td>Ithaca, NY</td>\n",
              "      <td>Mountain</td>\n",
              "      <td>Over Mountain</td>\n",
              "      <td>Carbon</td>\n",
              "      <td>7</td>\n",
              "      <td>16</td>\n",
              "      <td>2012</td>\n",
              "      <td>2012-07-01</td>\n",
              "      <td>Monday</td>\n",
              "      <td>6070</td>\n",
              "      <td>2012-03-01</td>\n",
              "      <td>5</td>\n",
              "    </tr>\n",
              "    <tr>\n",
              "      <th>21</th>\n",
              "      <td>460</td>\n",
              "      <td>2</td>\n",
              "      <td>2012-05-08</td>\n",
              "      <td>1</td>\n",
              "      <td>Trigger Carbon 2</td>\n",
              "      <td>Mountain - Over Mountain - Carbon</td>\n",
              "      <td>5970</td>\n",
              "      <td>Ithaca Mountain Climbers</td>\n",
              "      <td>Ithaca, NY</td>\n",
              "      <td>Mountain</td>\n",
              "      <td>Over Mountain</td>\n",
              "      <td>Carbon</td>\n",
              "      <td>5</td>\n",
              "      <td>8</td>\n",
              "      <td>2012</td>\n",
              "      <td>2012-05-01</td>\n",
              "      <td>Tuesday</td>\n",
              "      <td>5970</td>\n",
              "      <td>2012-03-01</td>\n",
              "      <td>3</td>\n",
              "    </tr>\n",
              "    <tr>\n",
              "      <th>22</th>\n",
              "      <td>479</td>\n",
              "      <td>5</td>\n",
              "      <td>2012-06-06</td>\n",
              "      <td>1</td>\n",
              "      <td>Trigger Carbon 2</td>\n",
              "      <td>Mountain - Over Mountain - Carbon</td>\n",
              "      <td>5970</td>\n",
              "      <td>Ithaca Mountain Climbers</td>\n",
              "      <td>Ithaca, NY</td>\n",
              "      <td>Mountain</td>\n",
              "      <td>Over Mountain</td>\n",
              "      <td>Carbon</td>\n",
              "      <td>6</td>\n",
              "      <td>6</td>\n",
              "      <td>2012</td>\n",
              "      <td>2012-06-01</td>\n",
              "      <td>Wednesday</td>\n",
              "      <td>5970</td>\n",
              "      <td>2012-03-01</td>\n",
              "      <td>4</td>\n",
              "    </tr>\n",
              "    <tr>\n",
              "      <th>23</th>\n",
              "      <td>507</td>\n",
              "      <td>9</td>\n",
              "      <td>2012-06-26</td>\n",
              "      <td>1</td>\n",
              "      <td>Trigger Carbon 2</td>\n",
              "      <td>Mountain - Over Mountain - Carbon</td>\n",
              "      <td>5970</td>\n",
              "      <td>Ithaca Mountain Climbers</td>\n",
              "      <td>Ithaca, NY</td>\n",
              "      <td>Mountain</td>\n",
              "      <td>Over Mountain</td>\n",
              "      <td>Carbon</td>\n",
              "      <td>6</td>\n",
              "      <td>26</td>\n",
              "      <td>2012</td>\n",
              "      <td>2012-06-01</td>\n",
              "      <td>Tuesday</td>\n",
              "      <td>5970</td>\n",
              "      <td>2012-03-01</td>\n",
              "      <td>4</td>\n",
              "    </tr>\n",
              "  </tbody>\n",
              "</table>\n",
              "</div>"
            ],
            "text/plain": [
              "    order_id  order_line order_date  ...  sales_value  cohort_ym cohort_index\n",
              "2        507           2 2012-06-26  ...         6070 2012-03-01            4\n",
              "3        528          18 2012-07-16  ...         6070 2012-03-01            5\n",
              "21       460           2 2012-05-08  ...         5970 2012-03-01            3\n",
              "22       479           5 2012-06-06  ...         5970 2012-03-01            4\n",
              "23       507           9 2012-06-26  ...         5970 2012-03-01            4\n",
              "\n",
              "[5 rows x 20 columns]"
            ]
          },
          "metadata": {
            "tags": []
          },
          "execution_count": 88
        }
      ]
    },
    {
      "cell_type": "code",
      "metadata": {
        "colab": {
          "base_uri": "https://localhost:8080/"
        },
        "id": "rpGfWO679zjH",
        "outputId": "6bfd3975-7ec0-4e64-8fe5-95eb0ca4be4d"
      },
      "source": [
        "# Count No of monthly active customers from each cohort \n",
        "\n",
        "grouping = cust_sales_tbl.groupby(['cohort_ym','cohort_index'])\n",
        "cohort_data = grouping['bikeshop_name'].apply(pd.Series.nunique).reset_index()\n",
        "cohort_counts = cohort_data.pivot(index = 'cohort_ym',columns = 'cohort_index',values = 'bikeshop_name')\n",
        "\n",
        "print(cohort_counts)"
      ],
      "execution_count": null,
      "outputs": [
        {
          "output_type": "stream",
          "text": [
            "cohort_index    1    2    3    4    5    6    7    8    9    10   11   12\n",
            "cohort_ym                                                                \n",
            "2012-01-01    11.0  8.0  8.0  9.0  5.0  8.0  8.0  5.0  6.0  7.0  8.0  8.0\n",
            "2012-02-01     9.0  6.0  7.0  4.0  2.0  3.0  6.0  3.0  4.0  3.0  1.0  NaN\n",
            "2012-03-01     7.0  4.0  2.0  3.0  2.0  4.0  4.0  2.0  3.0  1.0  NaN  NaN\n",
            "2012-06-01     2.0  2.0  1.0  1.0  1.0  NaN  NaN  NaN  NaN  NaN  NaN  NaN\n",
            "2012-07-01     1.0  NaN  NaN  NaN  1.0  NaN  NaN  NaN  NaN  NaN  NaN  NaN\n"
          ],
          "name": "stdout"
        }
      ]
    },
    {
      "cell_type": "markdown",
      "metadata": {
        "id": "1g4rGqgHFc9z"
      },
      "source": [
        "Step 2: Calculate cohort metrics"
      ]
    },
    {
      "cell_type": "markdown",
      "metadata": {
        "id": "--k-fvAsG-MV"
      },
      "source": [
        "Calculate retention rate (%)"
      ]
    },
    {
      "cell_type": "code",
      "metadata": {
        "colab": {
          "base_uri": "https://localhost:8080/",
          "height": 194
        },
        "id": "xK7sYCbsFcDw",
        "outputId": "cb72de8a-f0f2-49f1-dbee-d1a012161b98"
      },
      "source": [
        "cohort_sizes = cohort_counts.iloc[:,0]\n",
        "retention = cohort_counts.divide(cohort_sizes, axis = 0).round(3)\n",
        "retention = retention.reset_index()\n",
        "retention"
      ],
      "execution_count": null,
      "outputs": [
        {
          "output_type": "execute_result",
          "data": {
            "application/vnd.google.colaboratory.module+javascript": "\n      import \"https://ssl.gstatic.com/colaboratory/data_table/a6224c040fa35dcf/data_table.js\";\n\n      window.createDataTable({\n        data: [[{\n            'v': 0,\n            'f': \"0\",\n        },\n\"2012-01-01 00:00:00\",\n{\n            'v': 1.0,\n            'f': \"1.0\",\n        },\n{\n            'v': 0.727,\n            'f': \"0.727\",\n        },\n{\n            'v': 0.727,\n            'f': \"0.727\",\n        },\n{\n            'v': 0.818,\n            'f': \"0.818\",\n        },\n{\n            'v': 0.455,\n            'f': \"0.455\",\n        },\n{\n            'v': 0.727,\n            'f': \"0.727\",\n        },\n{\n            'v': 0.727,\n            'f': \"0.727\",\n        },\n{\n            'v': 0.455,\n            'f': \"0.455\",\n        },\n{\n            'v': 0.545,\n            'f': \"0.545\",\n        },\n{\n            'v': 0.636,\n            'f': \"0.636\",\n        },\n{\n            'v': 0.727,\n            'f': \"0.727\",\n        },\n{\n            'v': 0.727,\n            'f': \"0.727\",\n        }],\n [{\n            'v': 1,\n            'f': \"1\",\n        },\n\"2012-02-01 00:00:00\",\n{\n            'v': 1.0,\n            'f': \"1.0\",\n        },\n{\n            'v': 0.667,\n            'f': \"0.667\",\n        },\n{\n            'v': 0.778,\n            'f': \"0.778\",\n        },\n{\n            'v': 0.444,\n            'f': \"0.444\",\n        },\n{\n            'v': 0.222,\n            'f': \"0.222\",\n        },\n{\n            'v': 0.333,\n            'f': \"0.333\",\n        },\n{\n            'v': 0.667,\n            'f': \"0.667\",\n        },\n{\n            'v': 0.333,\n            'f': \"0.333\",\n        },\n{\n            'v': 0.444,\n            'f': \"0.444\",\n        },\n{\n            'v': 0.333,\n            'f': \"0.333\",\n        },\n{\n            'v': 0.111,\n            'f': \"0.111\",\n        },\n{\n            'v': NaN,\n            'f': \"NaN\",\n        }],\n [{\n            'v': 2,\n            'f': \"2\",\n        },\n\"2012-03-01 00:00:00\",\n{\n            'v': 1.0,\n            'f': \"1.0\",\n        },\n{\n            'v': 0.571,\n            'f': \"0.571\",\n        },\n{\n            'v': 0.286,\n            'f': \"0.286\",\n        },\n{\n            'v': 0.429,\n            'f': \"0.429\",\n        },\n{\n            'v': 0.286,\n            'f': \"0.286\",\n        },\n{\n            'v': 0.571,\n            'f': \"0.571\",\n        },\n{\n            'v': 0.571,\n            'f': \"0.571\",\n        },\n{\n            'v': 0.286,\n            'f': \"0.286\",\n        },\n{\n            'v': 0.429,\n            'f': \"0.429\",\n        },\n{\n            'v': 0.143,\n            'f': \"0.143\",\n        },\n{\n            'v': NaN,\n            'f': \"NaN\",\n        },\n{\n            'v': NaN,\n            'f': \"NaN\",\n        }],\n [{\n            'v': 3,\n            'f': \"3\",\n        },\n\"2012-06-01 00:00:00\",\n{\n            'v': 1.0,\n            'f': \"1.0\",\n        },\n{\n            'v': 1.0,\n            'f': \"1.0\",\n        },\n{\n            'v': 0.5,\n            'f': \"0.5\",\n        },\n{\n            'v': 0.5,\n            'f': \"0.5\",\n        },\n{\n            'v': 0.5,\n            'f': \"0.5\",\n        },\n{\n            'v': NaN,\n            'f': \"NaN\",\n        },\n{\n            'v': NaN,\n            'f': \"NaN\",\n        },\n{\n            'v': NaN,\n            'f': \"NaN\",\n        },\n{\n            'v': NaN,\n            'f': \"NaN\",\n        },\n{\n            'v': NaN,\n            'f': \"NaN\",\n        },\n{\n            'v': NaN,\n            'f': \"NaN\",\n        },\n{\n            'v': NaN,\n            'f': \"NaN\",\n        }],\n [{\n            'v': 4,\n            'f': \"4\",\n        },\n\"2012-07-01 00:00:00\",\n{\n            'v': 1.0,\n            'f': \"1.0\",\n        },\n{\n            'v': NaN,\n            'f': \"NaN\",\n        },\n{\n            'v': NaN,\n            'f': \"NaN\",\n        },\n{\n            'v': NaN,\n            'f': \"NaN\",\n        },\n{\n            'v': 1.0,\n            'f': \"1.0\",\n        },\n{\n            'v': NaN,\n            'f': \"NaN\",\n        },\n{\n            'v': NaN,\n            'f': \"NaN\",\n        },\n{\n            'v': NaN,\n            'f': \"NaN\",\n        },\n{\n            'v': NaN,\n            'f': \"NaN\",\n        },\n{\n            'v': NaN,\n            'f': \"NaN\",\n        },\n{\n            'v': NaN,\n            'f': \"NaN\",\n        },\n{\n            'v': NaN,\n            'f': \"NaN\",\n        }]],\n        columns: [[\"number\", \"index\"], [\"string\", \"cohort_ym\"], [\"number\", \"1\"], [\"number\", \"2\"], [\"number\", \"3\"], [\"number\", \"4\"], [\"number\", \"5\"], [\"number\", \"6\"], [\"number\", \"7\"], [\"number\", \"8\"], [\"number\", \"9\"], [\"number\", \"10\"], [\"number\", \"11\"], [\"number\", \"12\"]],\n        columnOptions: [{\"width\": \"1px\", \"className\": \"index_column\"}],\n        rowsPerPage: 25,\n        helpUrl: \"https://colab.research.google.com/notebooks/data_table.ipynb\",\n        suppressOutputScrolling: true,\n        minimumWidth: undefined,\n      });\n    ",
            "text/html": [
              "<div>\n",
              "<style scoped>\n",
              "    .dataframe tbody tr th:only-of-type {\n",
              "        vertical-align: middle;\n",
              "    }\n",
              "\n",
              "    .dataframe tbody tr th {\n",
              "        vertical-align: top;\n",
              "    }\n",
              "\n",
              "    .dataframe thead th {\n",
              "        text-align: right;\n",
              "    }\n",
              "</style>\n",
              "<table border=\"1\" class=\"dataframe\">\n",
              "  <thead>\n",
              "    <tr style=\"text-align: right;\">\n",
              "      <th>cohort_index</th>\n",
              "      <th>cohort_ym</th>\n",
              "      <th>1</th>\n",
              "      <th>2</th>\n",
              "      <th>3</th>\n",
              "      <th>4</th>\n",
              "      <th>5</th>\n",
              "      <th>6</th>\n",
              "      <th>7</th>\n",
              "      <th>8</th>\n",
              "      <th>9</th>\n",
              "      <th>10</th>\n",
              "      <th>11</th>\n",
              "      <th>12</th>\n",
              "    </tr>\n",
              "  </thead>\n",
              "  <tbody>\n",
              "    <tr>\n",
              "      <th>0</th>\n",
              "      <td>2012-01-01</td>\n",
              "      <td>1.0</td>\n",
              "      <td>0.727</td>\n",
              "      <td>0.727</td>\n",
              "      <td>0.818</td>\n",
              "      <td>0.455</td>\n",
              "      <td>0.727</td>\n",
              "      <td>0.727</td>\n",
              "      <td>0.455</td>\n",
              "      <td>0.545</td>\n",
              "      <td>0.636</td>\n",
              "      <td>0.727</td>\n",
              "      <td>0.727</td>\n",
              "    </tr>\n",
              "    <tr>\n",
              "      <th>1</th>\n",
              "      <td>2012-02-01</td>\n",
              "      <td>1.0</td>\n",
              "      <td>0.667</td>\n",
              "      <td>0.778</td>\n",
              "      <td>0.444</td>\n",
              "      <td>0.222</td>\n",
              "      <td>0.333</td>\n",
              "      <td>0.667</td>\n",
              "      <td>0.333</td>\n",
              "      <td>0.444</td>\n",
              "      <td>0.333</td>\n",
              "      <td>0.111</td>\n",
              "      <td>NaN</td>\n",
              "    </tr>\n",
              "    <tr>\n",
              "      <th>2</th>\n",
              "      <td>2012-03-01</td>\n",
              "      <td>1.0</td>\n",
              "      <td>0.571</td>\n",
              "      <td>0.286</td>\n",
              "      <td>0.429</td>\n",
              "      <td>0.286</td>\n",
              "      <td>0.571</td>\n",
              "      <td>0.571</td>\n",
              "      <td>0.286</td>\n",
              "      <td>0.429</td>\n",
              "      <td>0.143</td>\n",
              "      <td>NaN</td>\n",
              "      <td>NaN</td>\n",
              "    </tr>\n",
              "    <tr>\n",
              "      <th>3</th>\n",
              "      <td>2012-06-01</td>\n",
              "      <td>1.0</td>\n",
              "      <td>1.000</td>\n",
              "      <td>0.500</td>\n",
              "      <td>0.500</td>\n",
              "      <td>0.500</td>\n",
              "      <td>NaN</td>\n",
              "      <td>NaN</td>\n",
              "      <td>NaN</td>\n",
              "      <td>NaN</td>\n",
              "      <td>NaN</td>\n",
              "      <td>NaN</td>\n",
              "      <td>NaN</td>\n",
              "    </tr>\n",
              "    <tr>\n",
              "      <th>4</th>\n",
              "      <td>2012-07-01</td>\n",
              "      <td>1.0</td>\n",
              "      <td>NaN</td>\n",
              "      <td>NaN</td>\n",
              "      <td>NaN</td>\n",
              "      <td>1.000</td>\n",
              "      <td>NaN</td>\n",
              "      <td>NaN</td>\n",
              "      <td>NaN</td>\n",
              "      <td>NaN</td>\n",
              "      <td>NaN</td>\n",
              "      <td>NaN</td>\n",
              "      <td>NaN</td>\n",
              "    </tr>\n",
              "  </tbody>\n",
              "</table>\n",
              "</div>"
            ],
            "text/plain": [
              "cohort_index  cohort_ym    1      2      3  ...      9     10     11     12\n",
              "0            2012-01-01  1.0  0.727  0.727  ...  0.545  0.636  0.727  0.727\n",
              "1            2012-02-01  1.0  0.667  0.778  ...  0.444  0.333  0.111    NaN\n",
              "2            2012-03-01  1.0  0.571  0.286  ...  0.429  0.143    NaN    NaN\n",
              "3            2012-06-01  1.0  1.000  0.500  ...    NaN    NaN    NaN    NaN\n",
              "4            2012-07-01  1.0    NaN    NaN  ...    NaN    NaN    NaN    NaN\n",
              "\n",
              "[5 rows x 13 columns]"
            ]
          },
          "metadata": {
            "tags": []
          },
          "execution_count": 150
        }
      ]
    },
    {
      "cell_type": "markdown",
      "metadata": {
        "id": "t8QRCq_E-qck"
      },
      "source": [
        "Show heatmap active customer matrix\n"
      ]
    },
    {
      "cell_type": "code",
      "metadata": {
        "colab": {
          "base_uri": "https://localhost:8080/",
          "height": 265
        },
        "id": "Uvgb0r2zEsFn",
        "outputId": "e58ab348-da83-4d68-d43b-47e1e5b0867f"
      },
      "source": [
        "base = alt.Chart(cohort_data).encode(\n",
        "    alt.X('cohort_index:O', scale=alt.Scale(paddingInner=0)),\n",
        "    alt.Y('cohort_ym:O', scale=alt.Scale(paddingInner=0)),\n",
        ").properties(width=600, height=200)\n",
        "\n",
        "heatmap = base.mark_rect().encode(\n",
        "    color = alt.Color('bikeshop_name',scale=alt.Scale(scheme='blues'))\n",
        ")\n",
        "text = base.mark_text(baseline = 'middle').encode(\n",
        "    text = 'bikeshop_name:Q',\n",
        "    color = alt.condition(\n",
        "        alt.datum.bikeshop_name > 7,\n",
        "        alt.value('white'),\n",
        "        alt.value('black')\n",
        "        )\n",
        ")\n",
        "    \n",
        "heatmap + text"
      ],
      "execution_count": null,
      "outputs": [
        {
          "output_type": "execute_result",
          "data": {
            "text/plain": [
              "alt.LayerChart(...)"
            ],
            "text/html": [
              "\n",
              "<div id=\"altair-viz-68e6cde0ba9e4163a48a16a715de69c8\"></div>\n",
              "<script type=\"text/javascript\">\n",
              "  (function(spec, embedOpt){\n",
              "    let outputDiv = document.currentScript.previousElementSibling;\n",
              "    if (outputDiv.id !== \"altair-viz-68e6cde0ba9e4163a48a16a715de69c8\") {\n",
              "      outputDiv = document.getElementById(\"altair-viz-68e6cde0ba9e4163a48a16a715de69c8\");\n",
              "    }\n",
              "    const paths = {\n",
              "      \"vega\": \"https://cdn.jsdelivr.net/npm//vega@5?noext\",\n",
              "      \"vega-lib\": \"https://cdn.jsdelivr.net/npm//vega-lib?noext\",\n",
              "      \"vega-lite\": \"https://cdn.jsdelivr.net/npm//vega-lite@4.8.1?noext\",\n",
              "      \"vega-embed\": \"https://cdn.jsdelivr.net/npm//vega-embed@6?noext\",\n",
              "    };\n",
              "\n",
              "    function loadScript(lib) {\n",
              "      return new Promise(function(resolve, reject) {\n",
              "        var s = document.createElement('script');\n",
              "        s.src = paths[lib];\n",
              "        s.async = true;\n",
              "        s.onload = () => resolve(paths[lib]);\n",
              "        s.onerror = () => reject(`Error loading script: ${paths[lib]}`);\n",
              "        document.getElementsByTagName(\"head\")[0].appendChild(s);\n",
              "      });\n",
              "    }\n",
              "\n",
              "    function showError(err) {\n",
              "      outputDiv.innerHTML = `<div class=\"error\" style=\"color:red;\">${err}</div>`;\n",
              "      throw err;\n",
              "    }\n",
              "\n",
              "    function displayChart(vegaEmbed) {\n",
              "      vegaEmbed(outputDiv, spec, embedOpt)\n",
              "        .catch(err => showError(`Javascript Error: ${err.message}<br>This usually means there's a typo in your chart specification. See the javascript console for the full traceback.`));\n",
              "    }\n",
              "\n",
              "    if(typeof define === \"function\" && define.amd) {\n",
              "      requirejs.config({paths});\n",
              "      require([\"vega-embed\"], displayChart, err => showError(`Error loading script: ${err.message}`));\n",
              "    } else if (typeof vegaEmbed === \"function\") {\n",
              "      displayChart(vegaEmbed);\n",
              "    } else {\n",
              "      loadScript(\"vega\")\n",
              "        .then(() => loadScript(\"vega-lite\"))\n",
              "        .then(() => loadScript(\"vega-embed\"))\n",
              "        .catch(showError)\n",
              "        .then(() => displayChart(vegaEmbed));\n",
              "    }\n",
              "  })({\"config\": {\"view\": {\"continuousWidth\": 400, \"continuousHeight\": 300}}, \"layer\": [{\"mark\": \"rect\", \"encoding\": {\"color\": {\"type\": \"quantitative\", \"field\": \"bikeshop_name\", \"scale\": {\"scheme\": \"blues\"}}, \"x\": {\"type\": \"ordinal\", \"field\": \"cohort_index\", \"scale\": {\"paddingInner\": 0}}, \"y\": {\"type\": \"ordinal\", \"field\": \"cohort_ym\", \"scale\": {\"paddingInner\": 0}}}, \"height\": 200, \"width\": 600}, {\"mark\": {\"type\": \"text\", \"baseline\": \"middle\"}, \"encoding\": {\"color\": {\"condition\": {\"value\": \"white\", \"test\": \"(datum.bikeshop_name > 7)\"}, \"value\": \"black\"}, \"text\": {\"type\": \"quantitative\", \"field\": \"bikeshop_name\"}, \"x\": {\"type\": \"ordinal\", \"field\": \"cohort_index\", \"scale\": {\"paddingInner\": 0}}, \"y\": {\"type\": \"ordinal\", \"field\": \"cohort_ym\", \"scale\": {\"paddingInner\": 0}}}, \"height\": 200, \"width\": 600}], \"data\": {\"name\": \"data-46398b2e905cfce9a7226afd8e2bd649\"}, \"$schema\": \"https://vega.github.io/schema/vega-lite/v4.8.1.json\", \"datasets\": {\"data-46398b2e905cfce9a7226afd8e2bd649\": [{\"cohort_ym\": \"2012-01-01T00:00:00\", \"cohort_index\": 1, \"bikeshop_name\": 11}, {\"cohort_ym\": \"2012-01-01T00:00:00\", \"cohort_index\": 2, \"bikeshop_name\": 8}, {\"cohort_ym\": \"2012-01-01T00:00:00\", \"cohort_index\": 3, \"bikeshop_name\": 8}, {\"cohort_ym\": \"2012-01-01T00:00:00\", \"cohort_index\": 4, \"bikeshop_name\": 9}, {\"cohort_ym\": \"2012-01-01T00:00:00\", \"cohort_index\": 5, \"bikeshop_name\": 5}, {\"cohort_ym\": \"2012-01-01T00:00:00\", \"cohort_index\": 6, \"bikeshop_name\": 8}, {\"cohort_ym\": \"2012-01-01T00:00:00\", \"cohort_index\": 7, \"bikeshop_name\": 8}, {\"cohort_ym\": \"2012-01-01T00:00:00\", \"cohort_index\": 8, \"bikeshop_name\": 5}, {\"cohort_ym\": \"2012-01-01T00:00:00\", \"cohort_index\": 9, \"bikeshop_name\": 6}, {\"cohort_ym\": \"2012-01-01T00:00:00\", \"cohort_index\": 10, \"bikeshop_name\": 7}, {\"cohort_ym\": \"2012-01-01T00:00:00\", \"cohort_index\": 11, \"bikeshop_name\": 8}, {\"cohort_ym\": \"2012-01-01T00:00:00\", \"cohort_index\": 12, \"bikeshop_name\": 8}, {\"cohort_ym\": \"2012-02-01T00:00:00\", \"cohort_index\": 1, \"bikeshop_name\": 9}, {\"cohort_ym\": \"2012-02-01T00:00:00\", \"cohort_index\": 2, \"bikeshop_name\": 6}, {\"cohort_ym\": \"2012-02-01T00:00:00\", \"cohort_index\": 3, \"bikeshop_name\": 7}, {\"cohort_ym\": \"2012-02-01T00:00:00\", \"cohort_index\": 4, \"bikeshop_name\": 4}, {\"cohort_ym\": \"2012-02-01T00:00:00\", \"cohort_index\": 5, \"bikeshop_name\": 2}, {\"cohort_ym\": \"2012-02-01T00:00:00\", \"cohort_index\": 6, \"bikeshop_name\": 3}, {\"cohort_ym\": \"2012-02-01T00:00:00\", \"cohort_index\": 7, \"bikeshop_name\": 6}, {\"cohort_ym\": \"2012-02-01T00:00:00\", \"cohort_index\": 8, \"bikeshop_name\": 3}, {\"cohort_ym\": \"2012-02-01T00:00:00\", \"cohort_index\": 9, \"bikeshop_name\": 4}, {\"cohort_ym\": \"2012-02-01T00:00:00\", \"cohort_index\": 10, \"bikeshop_name\": 3}, {\"cohort_ym\": \"2012-02-01T00:00:00\", \"cohort_index\": 11, \"bikeshop_name\": 1}, {\"cohort_ym\": \"2012-03-01T00:00:00\", \"cohort_index\": 1, \"bikeshop_name\": 7}, {\"cohort_ym\": \"2012-03-01T00:00:00\", \"cohort_index\": 2, \"bikeshop_name\": 4}, {\"cohort_ym\": \"2012-03-01T00:00:00\", \"cohort_index\": 3, \"bikeshop_name\": 2}, {\"cohort_ym\": \"2012-03-01T00:00:00\", \"cohort_index\": 4, \"bikeshop_name\": 3}, {\"cohort_ym\": \"2012-03-01T00:00:00\", \"cohort_index\": 5, \"bikeshop_name\": 2}, {\"cohort_ym\": \"2012-03-01T00:00:00\", \"cohort_index\": 6, \"bikeshop_name\": 4}, {\"cohort_ym\": \"2012-03-01T00:00:00\", \"cohort_index\": 7, \"bikeshop_name\": 4}, {\"cohort_ym\": \"2012-03-01T00:00:00\", \"cohort_index\": 8, \"bikeshop_name\": 2}, {\"cohort_ym\": \"2012-03-01T00:00:00\", \"cohort_index\": 9, \"bikeshop_name\": 3}, {\"cohort_ym\": \"2012-03-01T00:00:00\", \"cohort_index\": 10, \"bikeshop_name\": 1}, {\"cohort_ym\": \"2012-06-01T00:00:00\", \"cohort_index\": 1, \"bikeshop_name\": 2}, {\"cohort_ym\": \"2012-06-01T00:00:00\", \"cohort_index\": 2, \"bikeshop_name\": 2}, {\"cohort_ym\": \"2012-06-01T00:00:00\", \"cohort_index\": 3, \"bikeshop_name\": 1}, {\"cohort_ym\": \"2012-06-01T00:00:00\", \"cohort_index\": 4, \"bikeshop_name\": 1}, {\"cohort_ym\": \"2012-06-01T00:00:00\", \"cohort_index\": 5, \"bikeshop_name\": 1}, {\"cohort_ym\": \"2012-07-01T00:00:00\", \"cohort_index\": 1, \"bikeshop_name\": 1}, {\"cohort_ym\": \"2012-07-01T00:00:00\", \"cohort_index\": 5, \"bikeshop_name\": 1}]}}, {\"mode\": \"vega-lite\"});\n",
              "</script>"
            ]
          },
          "metadata": {
            "tags": []
          },
          "execution_count": 156
        }
      ]
    },
    {
      "cell_type": "markdown",
      "metadata": {
        "id": "Gm0jhRHVOzcR"
      },
      "source": [
        "Show heatmap customer retention rate (%) matrix"
      ]
    },
    {
      "cell_type": "code",
      "metadata": {
        "colab": {
          "base_uri": "https://localhost:8080/",
          "height": 614
        },
        "id": "HzgqLieE-pXk",
        "outputId": "22af8ef8-1b9a-44f2-913e-ec8a12742293"
      },
      "source": [
        "# Convert retention matrix from wide to long\n",
        "retention_data = pd.melt(retention, id_vars = ['cohort_ym'],value_name = 'retention_pct')\n",
        "retention_data.head(25)"
      ],
      "execution_count": null,
      "outputs": [
        {
          "output_type": "execute_result",
          "data": {
            "application/vnd.google.colaboratory.module+javascript": "\n      import \"https://ssl.gstatic.com/colaboratory/data_table/a6224c040fa35dcf/data_table.js\";\n\n      window.createDataTable({\n        data: [[{\n            'v': 0,\n            'f': \"0\",\n        },\n\"2012-01-01 00:00:00\",\n{\n            'v': 1,\n            'f': \"1\",\n        },\n{\n            'v': 1.0,\n            'f': \"1.0\",\n        }],\n [{\n            'v': 1,\n            'f': \"1\",\n        },\n\"2012-02-01 00:00:00\",\n{\n            'v': 1,\n            'f': \"1\",\n        },\n{\n            'v': 1.0,\n            'f': \"1.0\",\n        }],\n [{\n            'v': 2,\n            'f': \"2\",\n        },\n\"2012-03-01 00:00:00\",\n{\n            'v': 1,\n            'f': \"1\",\n        },\n{\n            'v': 1.0,\n            'f': \"1.0\",\n        }],\n [{\n            'v': 3,\n            'f': \"3\",\n        },\n\"2012-06-01 00:00:00\",\n{\n            'v': 1,\n            'f': \"1\",\n        },\n{\n            'v': 1.0,\n            'f': \"1.0\",\n        }],\n [{\n            'v': 4,\n            'f': \"4\",\n        },\n\"2012-07-01 00:00:00\",\n{\n            'v': 1,\n            'f': \"1\",\n        },\n{\n            'v': 1.0,\n            'f': \"1.0\",\n        }],\n [{\n            'v': 5,\n            'f': \"5\",\n        },\n\"2012-01-01 00:00:00\",\n{\n            'v': 2,\n            'f': \"2\",\n        },\n{\n            'v': 0.727,\n            'f': \"0.727\",\n        }],\n [{\n            'v': 6,\n            'f': \"6\",\n        },\n\"2012-02-01 00:00:00\",\n{\n            'v': 2,\n            'f': \"2\",\n        },\n{\n            'v': 0.667,\n            'f': \"0.667\",\n        }],\n [{\n            'v': 7,\n            'f': \"7\",\n        },\n\"2012-03-01 00:00:00\",\n{\n            'v': 2,\n            'f': \"2\",\n        },\n{\n            'v': 0.571,\n            'f': \"0.571\",\n        }],\n [{\n            'v': 8,\n            'f': \"8\",\n        },\n\"2012-06-01 00:00:00\",\n{\n            'v': 2,\n            'f': \"2\",\n        },\n{\n            'v': 1.0,\n            'f': \"1.0\",\n        }],\n [{\n            'v': 9,\n            'f': \"9\",\n        },\n\"2012-07-01 00:00:00\",\n{\n            'v': 2,\n            'f': \"2\",\n        },\n{\n            'v': NaN,\n            'f': \"NaN\",\n        }],\n [{\n            'v': 10,\n            'f': \"10\",\n        },\n\"2012-01-01 00:00:00\",\n{\n            'v': 3,\n            'f': \"3\",\n        },\n{\n            'v': 0.727,\n            'f': \"0.727\",\n        }],\n [{\n            'v': 11,\n            'f': \"11\",\n        },\n\"2012-02-01 00:00:00\",\n{\n            'v': 3,\n            'f': \"3\",\n        },\n{\n            'v': 0.778,\n            'f': \"0.778\",\n        }],\n [{\n            'v': 12,\n            'f': \"12\",\n        },\n\"2012-03-01 00:00:00\",\n{\n            'v': 3,\n            'f': \"3\",\n        },\n{\n            'v': 0.286,\n            'f': \"0.286\",\n        }],\n [{\n            'v': 13,\n            'f': \"13\",\n        },\n\"2012-06-01 00:00:00\",\n{\n            'v': 3,\n            'f': \"3\",\n        },\n{\n            'v': 0.5,\n            'f': \"0.5\",\n        }],\n [{\n            'v': 14,\n            'f': \"14\",\n        },\n\"2012-07-01 00:00:00\",\n{\n            'v': 3,\n            'f': \"3\",\n        },\n{\n            'v': NaN,\n            'f': \"NaN\",\n        }],\n [{\n            'v': 15,\n            'f': \"15\",\n        },\n\"2012-01-01 00:00:00\",\n{\n            'v': 4,\n            'f': \"4\",\n        },\n{\n            'v': 0.818,\n            'f': \"0.818\",\n        }],\n [{\n            'v': 16,\n            'f': \"16\",\n        },\n\"2012-02-01 00:00:00\",\n{\n            'v': 4,\n            'f': \"4\",\n        },\n{\n            'v': 0.444,\n            'f': \"0.444\",\n        }],\n [{\n            'v': 17,\n            'f': \"17\",\n        },\n\"2012-03-01 00:00:00\",\n{\n            'v': 4,\n            'f': \"4\",\n        },\n{\n            'v': 0.429,\n            'f': \"0.429\",\n        }],\n [{\n            'v': 18,\n            'f': \"18\",\n        },\n\"2012-06-01 00:00:00\",\n{\n            'v': 4,\n            'f': \"4\",\n        },\n{\n            'v': 0.5,\n            'f': \"0.5\",\n        }],\n [{\n            'v': 19,\n            'f': \"19\",\n        },\n\"2012-07-01 00:00:00\",\n{\n            'v': 4,\n            'f': \"4\",\n        },\n{\n            'v': NaN,\n            'f': \"NaN\",\n        }],\n [{\n            'v': 20,\n            'f': \"20\",\n        },\n\"2012-01-01 00:00:00\",\n{\n            'v': 5,\n            'f': \"5\",\n        },\n{\n            'v': 0.455,\n            'f': \"0.455\",\n        }],\n [{\n            'v': 21,\n            'f': \"21\",\n        },\n\"2012-02-01 00:00:00\",\n{\n            'v': 5,\n            'f': \"5\",\n        },\n{\n            'v': 0.222,\n            'f': \"0.222\",\n        }],\n [{\n            'v': 22,\n            'f': \"22\",\n        },\n\"2012-03-01 00:00:00\",\n{\n            'v': 5,\n            'f': \"5\",\n        },\n{\n            'v': 0.286,\n            'f': \"0.286\",\n        }],\n [{\n            'v': 23,\n            'f': \"23\",\n        },\n\"2012-06-01 00:00:00\",\n{\n            'v': 5,\n            'f': \"5\",\n        },\n{\n            'v': 0.5,\n            'f': \"0.5\",\n        }],\n [{\n            'v': 24,\n            'f': \"24\",\n        },\n\"2012-07-01 00:00:00\",\n{\n            'v': 5,\n            'f': \"5\",\n        },\n{\n            'v': 1.0,\n            'f': \"1.0\",\n        }]],\n        columns: [[\"number\", \"index\"], [\"string\", \"cohort_ym\"], [\"number\", \"cohort_index\"], [\"number\", \"retention_pct\"]],\n        columnOptions: [{\"width\": \"1px\", \"className\": \"index_column\"}],\n        rowsPerPage: 25,\n        helpUrl: \"https://colab.research.google.com/notebooks/data_table.ipynb\",\n        suppressOutputScrolling: true,\n        minimumWidth: undefined,\n      });\n    ",
            "text/html": [
              "<div>\n",
              "<style scoped>\n",
              "    .dataframe tbody tr th:only-of-type {\n",
              "        vertical-align: middle;\n",
              "    }\n",
              "\n",
              "    .dataframe tbody tr th {\n",
              "        vertical-align: top;\n",
              "    }\n",
              "\n",
              "    .dataframe thead th {\n",
              "        text-align: right;\n",
              "    }\n",
              "</style>\n",
              "<table border=\"1\" class=\"dataframe\">\n",
              "  <thead>\n",
              "    <tr style=\"text-align: right;\">\n",
              "      <th></th>\n",
              "      <th>cohort_ym</th>\n",
              "      <th>cohort_index</th>\n",
              "      <th>retention_pct</th>\n",
              "    </tr>\n",
              "  </thead>\n",
              "  <tbody>\n",
              "    <tr>\n",
              "      <th>0</th>\n",
              "      <td>2012-01-01</td>\n",
              "      <td>1</td>\n",
              "      <td>1.000</td>\n",
              "    </tr>\n",
              "    <tr>\n",
              "      <th>1</th>\n",
              "      <td>2012-02-01</td>\n",
              "      <td>1</td>\n",
              "      <td>1.000</td>\n",
              "    </tr>\n",
              "    <tr>\n",
              "      <th>2</th>\n",
              "      <td>2012-03-01</td>\n",
              "      <td>1</td>\n",
              "      <td>1.000</td>\n",
              "    </tr>\n",
              "    <tr>\n",
              "      <th>3</th>\n",
              "      <td>2012-06-01</td>\n",
              "      <td>1</td>\n",
              "      <td>1.000</td>\n",
              "    </tr>\n",
              "    <tr>\n",
              "      <th>4</th>\n",
              "      <td>2012-07-01</td>\n",
              "      <td>1</td>\n",
              "      <td>1.000</td>\n",
              "    </tr>\n",
              "    <tr>\n",
              "      <th>5</th>\n",
              "      <td>2012-01-01</td>\n",
              "      <td>2</td>\n",
              "      <td>0.727</td>\n",
              "    </tr>\n",
              "    <tr>\n",
              "      <th>6</th>\n",
              "      <td>2012-02-01</td>\n",
              "      <td>2</td>\n",
              "      <td>0.667</td>\n",
              "    </tr>\n",
              "    <tr>\n",
              "      <th>7</th>\n",
              "      <td>2012-03-01</td>\n",
              "      <td>2</td>\n",
              "      <td>0.571</td>\n",
              "    </tr>\n",
              "    <tr>\n",
              "      <th>8</th>\n",
              "      <td>2012-06-01</td>\n",
              "      <td>2</td>\n",
              "      <td>1.000</td>\n",
              "    </tr>\n",
              "    <tr>\n",
              "      <th>9</th>\n",
              "      <td>2012-07-01</td>\n",
              "      <td>2</td>\n",
              "      <td>NaN</td>\n",
              "    </tr>\n",
              "    <tr>\n",
              "      <th>10</th>\n",
              "      <td>2012-01-01</td>\n",
              "      <td>3</td>\n",
              "      <td>0.727</td>\n",
              "    </tr>\n",
              "    <tr>\n",
              "      <th>11</th>\n",
              "      <td>2012-02-01</td>\n",
              "      <td>3</td>\n",
              "      <td>0.778</td>\n",
              "    </tr>\n",
              "    <tr>\n",
              "      <th>12</th>\n",
              "      <td>2012-03-01</td>\n",
              "      <td>3</td>\n",
              "      <td>0.286</td>\n",
              "    </tr>\n",
              "    <tr>\n",
              "      <th>13</th>\n",
              "      <td>2012-06-01</td>\n",
              "      <td>3</td>\n",
              "      <td>0.500</td>\n",
              "    </tr>\n",
              "    <tr>\n",
              "      <th>14</th>\n",
              "      <td>2012-07-01</td>\n",
              "      <td>3</td>\n",
              "      <td>NaN</td>\n",
              "    </tr>\n",
              "    <tr>\n",
              "      <th>15</th>\n",
              "      <td>2012-01-01</td>\n",
              "      <td>4</td>\n",
              "      <td>0.818</td>\n",
              "    </tr>\n",
              "    <tr>\n",
              "      <th>16</th>\n",
              "      <td>2012-02-01</td>\n",
              "      <td>4</td>\n",
              "      <td>0.444</td>\n",
              "    </tr>\n",
              "    <tr>\n",
              "      <th>17</th>\n",
              "      <td>2012-03-01</td>\n",
              "      <td>4</td>\n",
              "      <td>0.429</td>\n",
              "    </tr>\n",
              "    <tr>\n",
              "      <th>18</th>\n",
              "      <td>2012-06-01</td>\n",
              "      <td>4</td>\n",
              "      <td>0.500</td>\n",
              "    </tr>\n",
              "    <tr>\n",
              "      <th>19</th>\n",
              "      <td>2012-07-01</td>\n",
              "      <td>4</td>\n",
              "      <td>NaN</td>\n",
              "    </tr>\n",
              "    <tr>\n",
              "      <th>20</th>\n",
              "      <td>2012-01-01</td>\n",
              "      <td>5</td>\n",
              "      <td>0.455</td>\n",
              "    </tr>\n",
              "    <tr>\n",
              "      <th>21</th>\n",
              "      <td>2012-02-01</td>\n",
              "      <td>5</td>\n",
              "      <td>0.222</td>\n",
              "    </tr>\n",
              "    <tr>\n",
              "      <th>22</th>\n",
              "      <td>2012-03-01</td>\n",
              "      <td>5</td>\n",
              "      <td>0.286</td>\n",
              "    </tr>\n",
              "    <tr>\n",
              "      <th>23</th>\n",
              "      <td>2012-06-01</td>\n",
              "      <td>5</td>\n",
              "      <td>0.500</td>\n",
              "    </tr>\n",
              "    <tr>\n",
              "      <th>24</th>\n",
              "      <td>2012-07-01</td>\n",
              "      <td>5</td>\n",
              "      <td>1.000</td>\n",
              "    </tr>\n",
              "  </tbody>\n",
              "</table>\n",
              "</div>"
            ],
            "text/plain": [
              "    cohort_ym cohort_index  retention_pct\n",
              "0  2012-01-01            1          1.000\n",
              "1  2012-02-01            1          1.000\n",
              "2  2012-03-01            1          1.000\n",
              "3  2012-06-01            1          1.000\n",
              "4  2012-07-01            1          1.000\n",
              "5  2012-01-01            2          0.727\n",
              "6  2012-02-01            2          0.667\n",
              "7  2012-03-01            2          0.571\n",
              "8  2012-06-01            2          1.000\n",
              "9  2012-07-01            2            NaN\n",
              "10 2012-01-01            3          0.727\n",
              "11 2012-02-01            3          0.778\n",
              "12 2012-03-01            3          0.286\n",
              "13 2012-06-01            3          0.500\n",
              "14 2012-07-01            3            NaN\n",
              "15 2012-01-01            4          0.818\n",
              "16 2012-02-01            4          0.444\n",
              "17 2012-03-01            4          0.429\n",
              "18 2012-06-01            4          0.500\n",
              "19 2012-07-01            4            NaN\n",
              "20 2012-01-01            5          0.455\n",
              "21 2012-02-01            5          0.222\n",
              "22 2012-03-01            5          0.286\n",
              "23 2012-06-01            5          0.500\n",
              "24 2012-07-01            5          1.000"
            ]
          },
          "metadata": {
            "tags": []
          },
          "execution_count": 152
        }
      ]
    },
    {
      "cell_type": "code",
      "metadata": {
        "colab": {
          "base_uri": "https://localhost:8080/",
          "height": 265
        },
        "id": "SyFSaiQjCs0u",
        "outputId": "ee6c4c48-5269-4da5-c8f2-37c2bd0c731d"
      },
      "source": [
        "base = alt.Chart(retention_data).encode(\n",
        "    alt.X('cohort_index:O', scale=alt.Scale(paddingInner=0)),\n",
        "    alt.Y('cohort_ym:O', scale=alt.Scale(paddingInner=0)),\n",
        ").properties(width=600, height=200)\n",
        "\n",
        "heatmap = base.mark_rect().encode(\n",
        "    color = alt.Color('retention_pct',scale=alt.Scale(scheme='blues'))\n",
        ")\n",
        "text = base.mark_text(baseline = 'middle').encode(\n",
        "    text = 'retention_pct',\n",
        "    color = alt.condition(\n",
        "        alt.datum.retention_pct > 0.7,\n",
        "        alt.value('white'),\n",
        "        alt.value('black')\n",
        "        )\n",
        ")\n",
        "heatmap + text"
      ],
      "execution_count": null,
      "outputs": [
        {
          "output_type": "execute_result",
          "data": {
            "text/plain": [
              "alt.LayerChart(...)"
            ],
            "text/html": [
              "\n",
              "<div id=\"altair-viz-612e92c65ad640bf879e09ff1e0bcac6\"></div>\n",
              "<script type=\"text/javascript\">\n",
              "  (function(spec, embedOpt){\n",
              "    let outputDiv = document.currentScript.previousElementSibling;\n",
              "    if (outputDiv.id !== \"altair-viz-612e92c65ad640bf879e09ff1e0bcac6\") {\n",
              "      outputDiv = document.getElementById(\"altair-viz-612e92c65ad640bf879e09ff1e0bcac6\");\n",
              "    }\n",
              "    const paths = {\n",
              "      \"vega\": \"https://cdn.jsdelivr.net/npm//vega@5?noext\",\n",
              "      \"vega-lib\": \"https://cdn.jsdelivr.net/npm//vega-lib?noext\",\n",
              "      \"vega-lite\": \"https://cdn.jsdelivr.net/npm//vega-lite@4.8.1?noext\",\n",
              "      \"vega-embed\": \"https://cdn.jsdelivr.net/npm//vega-embed@6?noext\",\n",
              "    };\n",
              "\n",
              "    function loadScript(lib) {\n",
              "      return new Promise(function(resolve, reject) {\n",
              "        var s = document.createElement('script');\n",
              "        s.src = paths[lib];\n",
              "        s.async = true;\n",
              "        s.onload = () => resolve(paths[lib]);\n",
              "        s.onerror = () => reject(`Error loading script: ${paths[lib]}`);\n",
              "        document.getElementsByTagName(\"head\")[0].appendChild(s);\n",
              "      });\n",
              "    }\n",
              "\n",
              "    function showError(err) {\n",
              "      outputDiv.innerHTML = `<div class=\"error\" style=\"color:red;\">${err}</div>`;\n",
              "      throw err;\n",
              "    }\n",
              "\n",
              "    function displayChart(vegaEmbed) {\n",
              "      vegaEmbed(outputDiv, spec, embedOpt)\n",
              "        .catch(err => showError(`Javascript Error: ${err.message}<br>This usually means there's a typo in your chart specification. See the javascript console for the full traceback.`));\n",
              "    }\n",
              "\n",
              "    if(typeof define === \"function\" && define.amd) {\n",
              "      requirejs.config({paths});\n",
              "      require([\"vega-embed\"], displayChart, err => showError(`Error loading script: ${err.message}`));\n",
              "    } else if (typeof vegaEmbed === \"function\") {\n",
              "      displayChart(vegaEmbed);\n",
              "    } else {\n",
              "      loadScript(\"vega\")\n",
              "        .then(() => loadScript(\"vega-lite\"))\n",
              "        .then(() => loadScript(\"vega-embed\"))\n",
              "        .catch(showError)\n",
              "        .then(() => displayChart(vegaEmbed));\n",
              "    }\n",
              "  })({\"config\": {\"view\": {\"continuousWidth\": 400, \"continuousHeight\": 300}}, \"layer\": [{\"mark\": \"rect\", \"encoding\": {\"color\": {\"type\": \"quantitative\", \"field\": \"retention_pct\", \"scale\": {\"scheme\": \"blues\"}}, \"x\": {\"type\": \"ordinal\", \"field\": \"cohort_index\", \"scale\": {\"paddingInner\": 0}}, \"y\": {\"type\": \"ordinal\", \"field\": \"cohort_ym\", \"scale\": {\"paddingInner\": 0}}}, \"height\": 200, \"width\": 600}, {\"mark\": {\"type\": \"text\", \"baseline\": \"middle\"}, \"encoding\": {\"color\": {\"condition\": {\"value\": \"white\", \"test\": \"(datum.retention_pct > 0.7)\"}, \"value\": \"black\"}, \"text\": {\"type\": \"quantitative\", \"field\": \"retention_pct\"}, \"x\": {\"type\": \"ordinal\", \"field\": \"cohort_index\", \"scale\": {\"paddingInner\": 0}}, \"y\": {\"type\": \"ordinal\", \"field\": \"cohort_ym\", \"scale\": {\"paddingInner\": 0}}}, \"height\": 200, \"width\": 600}], \"data\": {\"name\": \"data-8734bb1b03e42580bd71193069931928\"}, \"$schema\": \"https://vega.github.io/schema/vega-lite/v4.8.1.json\", \"datasets\": {\"data-8734bb1b03e42580bd71193069931928\": [{\"cohort_ym\": \"2012-01-01T00:00:00\", \"cohort_index\": 1, \"retention_pct\": 1.0}, {\"cohort_ym\": \"2012-02-01T00:00:00\", \"cohort_index\": 1, \"retention_pct\": 1.0}, {\"cohort_ym\": \"2012-03-01T00:00:00\", \"cohort_index\": 1, \"retention_pct\": 1.0}, {\"cohort_ym\": \"2012-06-01T00:00:00\", \"cohort_index\": 1, \"retention_pct\": 1.0}, {\"cohort_ym\": \"2012-07-01T00:00:00\", \"cohort_index\": 1, \"retention_pct\": 1.0}, {\"cohort_ym\": \"2012-01-01T00:00:00\", \"cohort_index\": 2, \"retention_pct\": 0.727}, {\"cohort_ym\": \"2012-02-01T00:00:00\", \"cohort_index\": 2, \"retention_pct\": 0.667}, {\"cohort_ym\": \"2012-03-01T00:00:00\", \"cohort_index\": 2, \"retention_pct\": 0.571}, {\"cohort_ym\": \"2012-06-01T00:00:00\", \"cohort_index\": 2, \"retention_pct\": 1.0}, {\"cohort_ym\": \"2012-07-01T00:00:00\", \"cohort_index\": 2, \"retention_pct\": null}, {\"cohort_ym\": \"2012-01-01T00:00:00\", \"cohort_index\": 3, \"retention_pct\": 0.727}, {\"cohort_ym\": \"2012-02-01T00:00:00\", \"cohort_index\": 3, \"retention_pct\": 0.778}, {\"cohort_ym\": \"2012-03-01T00:00:00\", \"cohort_index\": 3, \"retention_pct\": 0.286}, {\"cohort_ym\": \"2012-06-01T00:00:00\", \"cohort_index\": 3, \"retention_pct\": 0.5}, {\"cohort_ym\": \"2012-07-01T00:00:00\", \"cohort_index\": 3, \"retention_pct\": null}, {\"cohort_ym\": \"2012-01-01T00:00:00\", \"cohort_index\": 4, \"retention_pct\": 0.818}, {\"cohort_ym\": \"2012-02-01T00:00:00\", \"cohort_index\": 4, \"retention_pct\": 0.444}, {\"cohort_ym\": \"2012-03-01T00:00:00\", \"cohort_index\": 4, \"retention_pct\": 0.429}, {\"cohort_ym\": \"2012-06-01T00:00:00\", \"cohort_index\": 4, \"retention_pct\": 0.5}, {\"cohort_ym\": \"2012-07-01T00:00:00\", \"cohort_index\": 4, \"retention_pct\": null}, {\"cohort_ym\": \"2012-01-01T00:00:00\", \"cohort_index\": 5, \"retention_pct\": 0.455}, {\"cohort_ym\": \"2012-02-01T00:00:00\", \"cohort_index\": 5, \"retention_pct\": 0.222}, {\"cohort_ym\": \"2012-03-01T00:00:00\", \"cohort_index\": 5, \"retention_pct\": 0.286}, {\"cohort_ym\": \"2012-06-01T00:00:00\", \"cohort_index\": 5, \"retention_pct\": 0.5}, {\"cohort_ym\": \"2012-07-01T00:00:00\", \"cohort_index\": 5, \"retention_pct\": 1.0}, {\"cohort_ym\": \"2012-01-01T00:00:00\", \"cohort_index\": 6, \"retention_pct\": 0.727}, {\"cohort_ym\": \"2012-02-01T00:00:00\", \"cohort_index\": 6, \"retention_pct\": 0.333}, {\"cohort_ym\": \"2012-03-01T00:00:00\", \"cohort_index\": 6, \"retention_pct\": 0.571}, {\"cohort_ym\": \"2012-06-01T00:00:00\", \"cohort_index\": 6, \"retention_pct\": null}, {\"cohort_ym\": \"2012-07-01T00:00:00\", \"cohort_index\": 6, \"retention_pct\": null}, {\"cohort_ym\": \"2012-01-01T00:00:00\", \"cohort_index\": 7, \"retention_pct\": 0.727}, {\"cohort_ym\": \"2012-02-01T00:00:00\", \"cohort_index\": 7, \"retention_pct\": 0.667}, {\"cohort_ym\": \"2012-03-01T00:00:00\", \"cohort_index\": 7, \"retention_pct\": 0.571}, {\"cohort_ym\": \"2012-06-01T00:00:00\", \"cohort_index\": 7, \"retention_pct\": null}, {\"cohort_ym\": \"2012-07-01T00:00:00\", \"cohort_index\": 7, \"retention_pct\": null}, {\"cohort_ym\": \"2012-01-01T00:00:00\", \"cohort_index\": 8, \"retention_pct\": 0.455}, {\"cohort_ym\": \"2012-02-01T00:00:00\", \"cohort_index\": 8, \"retention_pct\": 0.333}, {\"cohort_ym\": \"2012-03-01T00:00:00\", \"cohort_index\": 8, \"retention_pct\": 0.286}, {\"cohort_ym\": \"2012-06-01T00:00:00\", \"cohort_index\": 8, \"retention_pct\": null}, {\"cohort_ym\": \"2012-07-01T00:00:00\", \"cohort_index\": 8, \"retention_pct\": null}, {\"cohort_ym\": \"2012-01-01T00:00:00\", \"cohort_index\": 9, \"retention_pct\": 0.545}, {\"cohort_ym\": \"2012-02-01T00:00:00\", \"cohort_index\": 9, \"retention_pct\": 0.444}, {\"cohort_ym\": \"2012-03-01T00:00:00\", \"cohort_index\": 9, \"retention_pct\": 0.429}, {\"cohort_ym\": \"2012-06-01T00:00:00\", \"cohort_index\": 9, \"retention_pct\": null}, {\"cohort_ym\": \"2012-07-01T00:00:00\", \"cohort_index\": 9, \"retention_pct\": null}, {\"cohort_ym\": \"2012-01-01T00:00:00\", \"cohort_index\": 10, \"retention_pct\": 0.636}, {\"cohort_ym\": \"2012-02-01T00:00:00\", \"cohort_index\": 10, \"retention_pct\": 0.333}, {\"cohort_ym\": \"2012-03-01T00:00:00\", \"cohort_index\": 10, \"retention_pct\": 0.143}, {\"cohort_ym\": \"2012-06-01T00:00:00\", \"cohort_index\": 10, \"retention_pct\": null}, {\"cohort_ym\": \"2012-07-01T00:00:00\", \"cohort_index\": 10, \"retention_pct\": null}, {\"cohort_ym\": \"2012-01-01T00:00:00\", \"cohort_index\": 11, \"retention_pct\": 0.727}, {\"cohort_ym\": \"2012-02-01T00:00:00\", \"cohort_index\": 11, \"retention_pct\": 0.111}, {\"cohort_ym\": \"2012-03-01T00:00:00\", \"cohort_index\": 11, \"retention_pct\": null}, {\"cohort_ym\": \"2012-06-01T00:00:00\", \"cohort_index\": 11, \"retention_pct\": null}, {\"cohort_ym\": \"2012-07-01T00:00:00\", \"cohort_index\": 11, \"retention_pct\": null}, {\"cohort_ym\": \"2012-01-01T00:00:00\", \"cohort_index\": 12, \"retention_pct\": 0.727}, {\"cohort_ym\": \"2012-02-01T00:00:00\", \"cohort_index\": 12, \"retention_pct\": null}, {\"cohort_ym\": \"2012-03-01T00:00:00\", \"cohort_index\": 12, \"retention_pct\": null}, {\"cohort_ym\": \"2012-06-01T00:00:00\", \"cohort_index\": 12, \"retention_pct\": null}, {\"cohort_ym\": \"2012-07-01T00:00:00\", \"cohort_index\": 12, \"retention_pct\": null}]}}, {\"mode\": \"vega-lite\"});\n",
              "</script>"
            ]
          },
          "metadata": {
            "tags": []
          },
          "execution_count": 155
        }
      ]
    },
    {
      "cell_type": "markdown",
      "metadata": {
        "id": "DIoPbribIh1g"
      },
      "source": [
        "Calculate average sales value for each cohort"
      ]
    },
    {
      "cell_type": "code",
      "metadata": {
        "colab": {
          "base_uri": "https://localhost:8080/",
          "height": 194
        },
        "id": "23Vfqe8VIhlt",
        "outputId": "ba4edcf9-e7dd-4115-e6ee-35ffa9a44db0"
      },
      "source": [
        "cohort_sales_tbl = cust_sales_tbl.groupby(['cohort_ym','cohort_index'])['sales_value'].sum().reset_index()\n",
        "\n",
        "cohort_sales_matrix = cohort_sales_tbl.pivot(index = 'cohort_ym',columns = 'cohort_index', values = 'sales_value')\n",
        "\n",
        "cohort_sales_matrix.head()"
      ],
      "execution_count": null,
      "outputs": [
        {
          "output_type": "execute_result",
          "data": {
            "application/vnd.google.colaboratory.module+javascript": "\n      import \"https://ssl.gstatic.com/colaboratory/data_table/a6224c040fa35dcf/data_table.js\";\n\n      window.createDataTable({\n        data: [[\"2014-01-01 00:00:00\",\n{\n            'v': 998030.0,\n            'f': \"998030.0\",\n        },\n{\n            'v': 472465.0,\n            'f': \"472465.0\",\n        },\n{\n            'v': 366435.0,\n            'f': \"366435.0\",\n        },\n{\n            'v': 476465.0,\n            'f': \"476465.0\",\n        },\n{\n            'v': 677220.0,\n            'f': \"677220.0\",\n        },\n{\n            'v': 487215.0,\n            'f': \"487215.0\",\n        },\n{\n            'v': 822845.0,\n            'f': \"822845.0\",\n        },\n{\n            'v': 387300.0,\n            'f': \"387300.0\",\n        },\n{\n            'v': 975125.0,\n            'f': \"975125.0\",\n        },\n{\n            'v': 797275.0,\n            'f': \"797275.0\",\n        },\n{\n            'v': 151565.0,\n            'f': \"151565.0\",\n        },\n{\n            'v': 276085.0,\n            'f': \"276085.0\",\n        }],\n [\"2014-02-01 00:00:00\",\n{\n            'v': 419800.0,\n            'f': \"419800.0\",\n        },\n{\n            'v': 465465.0,\n            'f': \"465465.0\",\n        },\n{\n            'v': 690400.0,\n            'f': \"690400.0\",\n        },\n{\n            'v': 893495.0,\n            'f': \"893495.0\",\n        },\n{\n            'v': 626005.0,\n            'f': \"626005.0\",\n        },\n{\n            'v': 282475.0,\n            'f': \"282475.0\",\n        },\n{\n            'v': 467905.0,\n            'f': \"467905.0\",\n        },\n{\n            'v': 487575.0,\n            'f': \"487575.0\",\n        },\n{\n            'v': 76485.0,\n            'f': \"76485.0\",\n        },\n{\n            'v': 106870.0,\n            'f': \"106870.0\",\n        },\n{\n            'v': 17105.0,\n            'f': \"17105.0\",\n        },\n{\n            'v': NaN,\n            'f': \"NaN\",\n        }],\n [\"2014-03-01 00:00:00\",\n{\n            'v': 208860.0,\n            'f': \"208860.0\",\n        },\n{\n            'v': 86870.0,\n            'f': \"86870.0\",\n        },\n{\n            'v': 95545.0,\n            'f': \"95545.0\",\n        },\n{\n            'v': 211840.0,\n            'f': \"211840.0\",\n        },\n{\n            'v': 359735.0,\n            'f': \"359735.0\",\n        },\n{\n            'v': 138635.0,\n            'f': \"138635.0\",\n        },\n{\n            'v': 153340.0,\n            'f': \"153340.0\",\n        },\n{\n            'v': 168980.0,\n            'f': \"168980.0\",\n        },\n{\n            'v': 4900.0,\n            'f': \"4900.0\",\n        },\n{\n            'v': 38815.0,\n            'f': \"38815.0\",\n        },\n{\n            'v': NaN,\n            'f': \"NaN\",\n        },\n{\n            'v': NaN,\n            'f': \"NaN\",\n        }],\n [\"2014-04-01 00:00:00\",\n{\n            'v': 3200.0,\n            'f': \"3200.0\",\n        },\n{\n            'v': 3160.0,\n            'f': \"3160.0\",\n        },\n{\n            'v': 95360.0,\n            'f': \"95360.0\",\n        },\n{\n            'v': 82385.0,\n            'f': \"82385.0\",\n        },\n{\n            'v': NaN,\n            'f': \"NaN\",\n        },\n{\n            'v': 76880.0,\n            'f': \"76880.0\",\n        },\n{\n            'v': NaN,\n            'f': \"NaN\",\n        },\n{\n            'v': 147465.0,\n            'f': \"147465.0\",\n        },\n{\n            'v': NaN,\n            'f': \"NaN\",\n        },\n{\n            'v': NaN,\n            'f': \"NaN\",\n        },\n{\n            'v': NaN,\n            'f': \"NaN\",\n        },\n{\n            'v': NaN,\n            'f': \"NaN\",\n        }],\n [\"2014-05-01 00:00:00\",\n{\n            'v': 69855.0,\n            'f': \"69855.0\",\n        },\n{\n            'v': NaN,\n            'f': \"NaN\",\n        },\n{\n            'v': 100705.0,\n            'f': \"100705.0\",\n        },\n{\n            'v': NaN,\n            'f': \"NaN\",\n        },\n{\n            'v': 36380.0,\n            'f': \"36380.0\",\n        },\n{\n            'v': NaN,\n            'f': \"NaN\",\n        },\n{\n            'v': 69510.0,\n            'f': \"69510.0\",\n        },\n{\n            'v': NaN,\n            'f': \"NaN\",\n        },\n{\n            'v': NaN,\n            'f': \"NaN\",\n        },\n{\n            'v': NaN,\n            'f': \"NaN\",\n        },\n{\n            'v': NaN,\n            'f': \"NaN\",\n        },\n{\n            'v': NaN,\n            'f': \"NaN\",\n        }]],\n        columns: [[\"string\", \"cohort_ym\"], [\"number\", \"1\"], [\"number\", \"2\"], [\"number\", \"3\"], [\"number\", \"4\"], [\"number\", \"5\"], [\"number\", \"6\"], [\"number\", \"7\"], [\"number\", \"8\"], [\"number\", \"9\"], [\"number\", \"10\"], [\"number\", \"11\"], [\"number\", \"12\"]],\n        columnOptions: [{\"width\": \"1px\", \"className\": \"index_column\"}],\n        rowsPerPage: 25,\n        helpUrl: \"https://colab.research.google.com/notebooks/data_table.ipynb\",\n        suppressOutputScrolling: true,\n        minimumWidth: undefined,\n      });\n    ",
            "text/html": [
              "<div>\n",
              "<style scoped>\n",
              "    .dataframe tbody tr th:only-of-type {\n",
              "        vertical-align: middle;\n",
              "    }\n",
              "\n",
              "    .dataframe tbody tr th {\n",
              "        vertical-align: top;\n",
              "    }\n",
              "\n",
              "    .dataframe thead th {\n",
              "        text-align: right;\n",
              "    }\n",
              "</style>\n",
              "<table border=\"1\" class=\"dataframe\">\n",
              "  <thead>\n",
              "    <tr style=\"text-align: right;\">\n",
              "      <th>cohort_index</th>\n",
              "      <th>1</th>\n",
              "      <th>2</th>\n",
              "      <th>3</th>\n",
              "      <th>4</th>\n",
              "      <th>5</th>\n",
              "      <th>6</th>\n",
              "      <th>7</th>\n",
              "      <th>8</th>\n",
              "      <th>9</th>\n",
              "      <th>10</th>\n",
              "      <th>11</th>\n",
              "      <th>12</th>\n",
              "    </tr>\n",
              "    <tr>\n",
              "      <th>cohort_ym</th>\n",
              "      <th></th>\n",
              "      <th></th>\n",
              "      <th></th>\n",
              "      <th></th>\n",
              "      <th></th>\n",
              "      <th></th>\n",
              "      <th></th>\n",
              "      <th></th>\n",
              "      <th></th>\n",
              "      <th></th>\n",
              "      <th></th>\n",
              "      <th></th>\n",
              "    </tr>\n",
              "  </thead>\n",
              "  <tbody>\n",
              "    <tr>\n",
              "      <th>2014-01-01</th>\n",
              "      <td>998030.0</td>\n",
              "      <td>472465.0</td>\n",
              "      <td>366435.0</td>\n",
              "      <td>476465.0</td>\n",
              "      <td>677220.0</td>\n",
              "      <td>487215.0</td>\n",
              "      <td>822845.0</td>\n",
              "      <td>387300.0</td>\n",
              "      <td>975125.0</td>\n",
              "      <td>797275.0</td>\n",
              "      <td>151565.0</td>\n",
              "      <td>276085.0</td>\n",
              "    </tr>\n",
              "    <tr>\n",
              "      <th>2014-02-01</th>\n",
              "      <td>419800.0</td>\n",
              "      <td>465465.0</td>\n",
              "      <td>690400.0</td>\n",
              "      <td>893495.0</td>\n",
              "      <td>626005.0</td>\n",
              "      <td>282475.0</td>\n",
              "      <td>467905.0</td>\n",
              "      <td>487575.0</td>\n",
              "      <td>76485.0</td>\n",
              "      <td>106870.0</td>\n",
              "      <td>17105.0</td>\n",
              "      <td>NaN</td>\n",
              "    </tr>\n",
              "    <tr>\n",
              "      <th>2014-03-01</th>\n",
              "      <td>208860.0</td>\n",
              "      <td>86870.0</td>\n",
              "      <td>95545.0</td>\n",
              "      <td>211840.0</td>\n",
              "      <td>359735.0</td>\n",
              "      <td>138635.0</td>\n",
              "      <td>153340.0</td>\n",
              "      <td>168980.0</td>\n",
              "      <td>4900.0</td>\n",
              "      <td>38815.0</td>\n",
              "      <td>NaN</td>\n",
              "      <td>NaN</td>\n",
              "    </tr>\n",
              "    <tr>\n",
              "      <th>2014-04-01</th>\n",
              "      <td>3200.0</td>\n",
              "      <td>3160.0</td>\n",
              "      <td>95360.0</td>\n",
              "      <td>82385.0</td>\n",
              "      <td>NaN</td>\n",
              "      <td>76880.0</td>\n",
              "      <td>NaN</td>\n",
              "      <td>147465.0</td>\n",
              "      <td>NaN</td>\n",
              "      <td>NaN</td>\n",
              "      <td>NaN</td>\n",
              "      <td>NaN</td>\n",
              "    </tr>\n",
              "    <tr>\n",
              "      <th>2014-05-01</th>\n",
              "      <td>69855.0</td>\n",
              "      <td>NaN</td>\n",
              "      <td>100705.0</td>\n",
              "      <td>NaN</td>\n",
              "      <td>36380.0</td>\n",
              "      <td>NaN</td>\n",
              "      <td>69510.0</td>\n",
              "      <td>NaN</td>\n",
              "      <td>NaN</td>\n",
              "      <td>NaN</td>\n",
              "      <td>NaN</td>\n",
              "      <td>NaN</td>\n",
              "    </tr>\n",
              "  </tbody>\n",
              "</table>\n",
              "</div>"
            ],
            "text/plain": [
              "cohort_index        1         2         3   ...        10        11        12\n",
              "cohort_ym                                   ...                              \n",
              "2014-01-01    998030.0  472465.0  366435.0  ...  797275.0  151565.0  276085.0\n",
              "2014-02-01    419800.0  465465.0  690400.0  ...  106870.0   17105.0       NaN\n",
              "2014-03-01    208860.0   86870.0   95545.0  ...   38815.0       NaN       NaN\n",
              "2014-04-01      3200.0    3160.0   95360.0  ...       NaN       NaN       NaN\n",
              "2014-05-01     69855.0       NaN  100705.0  ...       NaN       NaN       NaN\n",
              "\n",
              "[5 rows x 12 columns]"
            ]
          },
          "metadata": {
            "tags": []
          },
          "execution_count": 14
        }
      ]
    },
    {
      "cell_type": "markdown",
      "metadata": {
        "id": "Oy_1BVH7N-bO"
      },
      "source": [
        "Create cohort retention rate heatmap"
      ]
    },
    {
      "cell_type": "code",
      "metadata": {
        "colab": {
          "base_uri": "https://localhost:8080/",
          "height": 623
        },
        "id": "jYniWh008VCN",
        "outputId": "0e501eab-79e6-44df-b995-12927bf6b7ae"
      },
      "source": [
        "cohort_data"
      ],
      "execution_count": null,
      "outputs": [
        {
          "output_type": "execute_result",
          "data": {
            "application/vnd.google.colaboratory.module+javascript": "\n      import \"https://ssl.gstatic.com/colaboratory/data_table/a6224c040fa35dcf/data_table.js\";\n\n      window.createDataTable({\n        data: [[{\n            'v': 0,\n            'f': \"0\",\n        },\n\"2014-01-01 00:00:00\",\n{\n            'v': 1,\n            'f': \"1\",\n        },\n{\n            'v': 10,\n            'f': \"10\",\n        }],\n [{\n            'v': 1,\n            'f': \"1\",\n        },\n\"2014-01-01 00:00:00\",\n{\n            'v': 2,\n            'f': \"2\",\n        },\n{\n            'v': 8,\n            'f': \"8\",\n        }],\n [{\n            'v': 2,\n            'f': \"2\",\n        },\n\"2014-01-01 00:00:00\",\n{\n            'v': 3,\n            'f': \"3\",\n        },\n{\n            'v': 6,\n            'f': \"6\",\n        }],\n [{\n            'v': 3,\n            'f': \"3\",\n        },\n\"2014-01-01 00:00:00\",\n{\n            'v': 4,\n            'f': \"4\",\n        },\n{\n            'v': 8,\n            'f': \"8\",\n        }],\n [{\n            'v': 4,\n            'f': \"4\",\n        },\n\"2014-01-01 00:00:00\",\n{\n            'v': 5,\n            'f': \"5\",\n        },\n{\n            'v': 6,\n            'f': \"6\",\n        }],\n [{\n            'v': 5,\n            'f': \"5\",\n        },\n\"2014-01-01 00:00:00\",\n{\n            'v': 6,\n            'f': \"6\",\n        },\n{\n            'v': 7,\n            'f': \"7\",\n        }],\n [{\n            'v': 6,\n            'f': \"6\",\n        },\n\"2014-01-01 00:00:00\",\n{\n            'v': 7,\n            'f': \"7\",\n        },\n{\n            'v': 7,\n            'f': \"7\",\n        }],\n [{\n            'v': 7,\n            'f': \"7\",\n        },\n\"2014-01-01 00:00:00\",\n{\n            'v': 8,\n            'f': \"8\",\n        },\n{\n            'v': 6,\n            'f': \"6\",\n        }],\n [{\n            'v': 8,\n            'f': \"8\",\n        },\n\"2014-01-01 00:00:00\",\n{\n            'v': 9,\n            'f': \"9\",\n        },\n{\n            'v': 8,\n            'f': \"8\",\n        }],\n [{\n            'v': 9,\n            'f': \"9\",\n        },\n\"2014-01-01 00:00:00\",\n{\n            'v': 10,\n            'f': \"10\",\n        },\n{\n            'v': 7,\n            'f': \"7\",\n        }],\n [{\n            'v': 10,\n            'f': \"10\",\n        },\n\"2014-01-01 00:00:00\",\n{\n            'v': 11,\n            'f': \"11\",\n        },\n{\n            'v': 4,\n            'f': \"4\",\n        }],\n [{\n            'v': 11,\n            'f': \"11\",\n        },\n\"2014-01-01 00:00:00\",\n{\n            'v': 12,\n            'f': \"12\",\n        },\n{\n            'v': 5,\n            'f': \"5\",\n        }],\n [{\n            'v': 12,\n            'f': \"12\",\n        },\n\"2014-02-01 00:00:00\",\n{\n            'v': 1,\n            'f': \"1\",\n        },\n{\n            'v': 11,\n            'f': \"11\",\n        }],\n [{\n            'v': 13,\n            'f': \"13\",\n        },\n\"2014-02-01 00:00:00\",\n{\n            'v': 2,\n            'f': \"2\",\n        },\n{\n            'v': 6,\n            'f': \"6\",\n        }],\n [{\n            'v': 14,\n            'f': \"14\",\n        },\n\"2014-02-01 00:00:00\",\n{\n            'v': 3,\n            'f': \"3\",\n        },\n{\n            'v': 8,\n            'f': \"8\",\n        }],\n [{\n            'v': 15,\n            'f': \"15\",\n        },\n\"2014-02-01 00:00:00\",\n{\n            'v': 4,\n            'f': \"4\",\n        },\n{\n            'v': 8,\n            'f': \"8\",\n        }],\n [{\n            'v': 16,\n            'f': \"16\",\n        },\n\"2014-02-01 00:00:00\",\n{\n            'v': 5,\n            'f': \"5\",\n        },\n{\n            'v': 9,\n            'f': \"9\",\n        }],\n [{\n            'v': 17,\n            'f': \"17\",\n        },\n\"2014-02-01 00:00:00\",\n{\n            'v': 6,\n            'f': \"6\",\n        },\n{\n            'v': 5,\n            'f': \"5\",\n        }],\n [{\n            'v': 18,\n            'f': \"18\",\n        },\n\"2014-02-01 00:00:00\",\n{\n            'v': 7,\n            'f': \"7\",\n        },\n{\n            'v': 5,\n            'f': \"5\",\n        }],\n [{\n            'v': 19,\n            'f': \"19\",\n        },\n\"2014-02-01 00:00:00\",\n{\n            'v': 8,\n            'f': \"8\",\n        },\n{\n            'v': 6,\n            'f': \"6\",\n        }],\n [{\n            'v': 20,\n            'f': \"20\",\n        },\n\"2014-02-01 00:00:00\",\n{\n            'v': 9,\n            'f': \"9\",\n        },\n{\n            'v': 4,\n            'f': \"4\",\n        }],\n [{\n            'v': 21,\n            'f': \"21\",\n        },\n\"2014-02-01 00:00:00\",\n{\n            'v': 10,\n            'f': \"10\",\n        },\n{\n            'v': 5,\n            'f': \"5\",\n        }],\n [{\n            'v': 22,\n            'f': \"22\",\n        },\n\"2014-02-01 00:00:00\",\n{\n            'v': 11,\n            'f': \"11\",\n        },\n{\n            'v': 4,\n            'f': \"4\",\n        }],\n [{\n            'v': 23,\n            'f': \"23\",\n        },\n\"2014-03-01 00:00:00\",\n{\n            'v': 1,\n            'f': \"1\",\n        },\n{\n            'v': 4,\n            'f': \"4\",\n        }],\n [{\n            'v': 24,\n            'f': \"24\",\n        },\n\"2014-03-01 00:00:00\",\n{\n            'v': 2,\n            'f': \"2\",\n        },\n{\n            'v': 2,\n            'f': \"2\",\n        }],\n [{\n            'v': 25,\n            'f': \"25\",\n        },\n\"2014-03-01 00:00:00\",\n{\n            'v': 3,\n            'f': \"3\",\n        },\n{\n            'v': 3,\n            'f': \"3\",\n        }],\n [{\n            'v': 26,\n            'f': \"26\",\n        },\n\"2014-03-01 00:00:00\",\n{\n            'v': 4,\n            'f': \"4\",\n        },\n{\n            'v': 4,\n            'f': \"4\",\n        }],\n [{\n            'v': 27,\n            'f': \"27\",\n        },\n\"2014-03-01 00:00:00\",\n{\n            'v': 5,\n            'f': \"5\",\n        },\n{\n            'v': 2,\n            'f': \"2\",\n        }],\n [{\n            'v': 28,\n            'f': \"28\",\n        },\n\"2014-03-01 00:00:00\",\n{\n            'v': 6,\n            'f': \"6\",\n        },\n{\n            'v': 2,\n            'f': \"2\",\n        }],\n [{\n            'v': 29,\n            'f': \"29\",\n        },\n\"2014-03-01 00:00:00\",\n{\n            'v': 7,\n            'f': \"7\",\n        },\n{\n            'v': 2,\n            'f': \"2\",\n        }],\n [{\n            'v': 30,\n            'f': \"30\",\n        },\n\"2014-03-01 00:00:00\",\n{\n            'v': 8,\n            'f': \"8\",\n        },\n{\n            'v': 2,\n            'f': \"2\",\n        }],\n [{\n            'v': 31,\n            'f': \"31\",\n        },\n\"2014-03-01 00:00:00\",\n{\n            'v': 9,\n            'f': \"9\",\n        },\n{\n            'v': 1,\n            'f': \"1\",\n        }],\n [{\n            'v': 32,\n            'f': \"32\",\n        },\n\"2014-03-01 00:00:00\",\n{\n            'v': 10,\n            'f': \"10\",\n        },\n{\n            'v': 1,\n            'f': \"1\",\n        }],\n [{\n            'v': 33,\n            'f': \"33\",\n        },\n\"2014-04-01 00:00:00\",\n{\n            'v': 1,\n            'f': \"1\",\n        },\n{\n            'v': 1,\n            'f': \"1\",\n        }],\n [{\n            'v': 34,\n            'f': \"34\",\n        },\n\"2014-04-01 00:00:00\",\n{\n            'v': 2,\n            'f': \"2\",\n        },\n{\n            'v': 1,\n            'f': \"1\",\n        }],\n [{\n            'v': 35,\n            'f': \"35\",\n        },\n\"2014-04-01 00:00:00\",\n{\n            'v': 3,\n            'f': \"3\",\n        },\n{\n            'v': 1,\n            'f': \"1\",\n        }],\n [{\n            'v': 36,\n            'f': \"36\",\n        },\n\"2014-04-01 00:00:00\",\n{\n            'v': 4,\n            'f': \"4\",\n        },\n{\n            'v': 1,\n            'f': \"1\",\n        }],\n [{\n            'v': 37,\n            'f': \"37\",\n        },\n\"2014-04-01 00:00:00\",\n{\n            'v': 6,\n            'f': \"6\",\n        },\n{\n            'v': 1,\n            'f': \"1\",\n        }],\n [{\n            'v': 38,\n            'f': \"38\",\n        },\n\"2014-04-01 00:00:00\",\n{\n            'v': 8,\n            'f': \"8\",\n        },\n{\n            'v': 1,\n            'f': \"1\",\n        }],\n [{\n            'v': 39,\n            'f': \"39\",\n        },\n\"2014-05-01 00:00:00\",\n{\n            'v': 1,\n            'f': \"1\",\n        },\n{\n            'v': 2,\n            'f': \"2\",\n        }],\n [{\n            'v': 40,\n            'f': \"40\",\n        },\n\"2014-05-01 00:00:00\",\n{\n            'v': 3,\n            'f': \"3\",\n        },\n{\n            'v': 2,\n            'f': \"2\",\n        }],\n [{\n            'v': 41,\n            'f': \"41\",\n        },\n\"2014-05-01 00:00:00\",\n{\n            'v': 5,\n            'f': \"5\",\n        },\n{\n            'v': 1,\n            'f': \"1\",\n        }],\n [{\n            'v': 42,\n            'f': \"42\",\n        },\n\"2014-05-01 00:00:00\",\n{\n            'v': 7,\n            'f': \"7\",\n        },\n{\n            'v': 1,\n            'f': \"1\",\n        }],\n [{\n            'v': 43,\n            'f': \"43\",\n        },\n\"2014-06-01 00:00:00\",\n{\n            'v': 1,\n            'f': \"1\",\n        },\n{\n            'v': 2,\n            'f': \"2\",\n        }],\n [{\n            'v': 44,\n            'f': \"44\",\n        },\n\"2014-06-01 00:00:00\",\n{\n            'v': 2,\n            'f': \"2\",\n        },\n{\n            'v': 2,\n            'f': \"2\",\n        }],\n [{\n            'v': 45,\n            'f': \"45\",\n        },\n\"2014-06-01 00:00:00\",\n{\n            'v': 3,\n            'f': \"3\",\n        },\n{\n            'v': 1,\n            'f': \"1\",\n        }],\n [{\n            'v': 46,\n            'f': \"46\",\n        },\n\"2014-06-01 00:00:00\",\n{\n            'v': 4,\n            'f': \"4\",\n        },\n{\n            'v': 1,\n            'f': \"1\",\n        }],\n [{\n            'v': 47,\n            'f': \"47\",\n        },\n\"2014-06-01 00:00:00\",\n{\n            'v': 6,\n            'f': \"6\",\n        },\n{\n            'v': 1,\n            'f': \"1\",\n        }]],\n        columns: [[\"number\", \"index\"], [\"string\", \"cohort_ym\"], [\"number\", \"cohort_index\"], [\"number\", \"bikeshop_name\"]],\n        columnOptions: [{\"width\": \"1px\", \"className\": \"index_column\"}],\n        rowsPerPage: 25,\n        helpUrl: \"https://colab.research.google.com/notebooks/data_table.ipynb\",\n        suppressOutputScrolling: true,\n        minimumWidth: undefined,\n      });\n    ",
            "text/html": [
              "<div>\n",
              "<style scoped>\n",
              "    .dataframe tbody tr th:only-of-type {\n",
              "        vertical-align: middle;\n",
              "    }\n",
              "\n",
              "    .dataframe tbody tr th {\n",
              "        vertical-align: top;\n",
              "    }\n",
              "\n",
              "    .dataframe thead th {\n",
              "        text-align: right;\n",
              "    }\n",
              "</style>\n",
              "<table border=\"1\" class=\"dataframe\">\n",
              "  <thead>\n",
              "    <tr style=\"text-align: right;\">\n",
              "      <th></th>\n",
              "      <th>cohort_ym</th>\n",
              "      <th>cohort_index</th>\n",
              "      <th>bikeshop_name</th>\n",
              "    </tr>\n",
              "  </thead>\n",
              "  <tbody>\n",
              "    <tr>\n",
              "      <th>0</th>\n",
              "      <td>2014-01-01</td>\n",
              "      <td>1</td>\n",
              "      <td>10</td>\n",
              "    </tr>\n",
              "    <tr>\n",
              "      <th>1</th>\n",
              "      <td>2014-01-01</td>\n",
              "      <td>2</td>\n",
              "      <td>8</td>\n",
              "    </tr>\n",
              "    <tr>\n",
              "      <th>2</th>\n",
              "      <td>2014-01-01</td>\n",
              "      <td>3</td>\n",
              "      <td>6</td>\n",
              "    </tr>\n",
              "    <tr>\n",
              "      <th>3</th>\n",
              "      <td>2014-01-01</td>\n",
              "      <td>4</td>\n",
              "      <td>8</td>\n",
              "    </tr>\n",
              "    <tr>\n",
              "      <th>4</th>\n",
              "      <td>2014-01-01</td>\n",
              "      <td>5</td>\n",
              "      <td>6</td>\n",
              "    </tr>\n",
              "    <tr>\n",
              "      <th>5</th>\n",
              "      <td>2014-01-01</td>\n",
              "      <td>6</td>\n",
              "      <td>7</td>\n",
              "    </tr>\n",
              "    <tr>\n",
              "      <th>6</th>\n",
              "      <td>2014-01-01</td>\n",
              "      <td>7</td>\n",
              "      <td>7</td>\n",
              "    </tr>\n",
              "    <tr>\n",
              "      <th>7</th>\n",
              "      <td>2014-01-01</td>\n",
              "      <td>8</td>\n",
              "      <td>6</td>\n",
              "    </tr>\n",
              "    <tr>\n",
              "      <th>8</th>\n",
              "      <td>2014-01-01</td>\n",
              "      <td>9</td>\n",
              "      <td>8</td>\n",
              "    </tr>\n",
              "    <tr>\n",
              "      <th>9</th>\n",
              "      <td>2014-01-01</td>\n",
              "      <td>10</td>\n",
              "      <td>7</td>\n",
              "    </tr>\n",
              "    <tr>\n",
              "      <th>10</th>\n",
              "      <td>2014-01-01</td>\n",
              "      <td>11</td>\n",
              "      <td>4</td>\n",
              "    </tr>\n",
              "    <tr>\n",
              "      <th>11</th>\n",
              "      <td>2014-01-01</td>\n",
              "      <td>12</td>\n",
              "      <td>5</td>\n",
              "    </tr>\n",
              "    <tr>\n",
              "      <th>12</th>\n",
              "      <td>2014-02-01</td>\n",
              "      <td>1</td>\n",
              "      <td>11</td>\n",
              "    </tr>\n",
              "    <tr>\n",
              "      <th>13</th>\n",
              "      <td>2014-02-01</td>\n",
              "      <td>2</td>\n",
              "      <td>6</td>\n",
              "    </tr>\n",
              "    <tr>\n",
              "      <th>14</th>\n",
              "      <td>2014-02-01</td>\n",
              "      <td>3</td>\n",
              "      <td>8</td>\n",
              "    </tr>\n",
              "    <tr>\n",
              "      <th>15</th>\n",
              "      <td>2014-02-01</td>\n",
              "      <td>4</td>\n",
              "      <td>8</td>\n",
              "    </tr>\n",
              "    <tr>\n",
              "      <th>16</th>\n",
              "      <td>2014-02-01</td>\n",
              "      <td>5</td>\n",
              "      <td>9</td>\n",
              "    </tr>\n",
              "    <tr>\n",
              "      <th>17</th>\n",
              "      <td>2014-02-01</td>\n",
              "      <td>6</td>\n",
              "      <td>5</td>\n",
              "    </tr>\n",
              "    <tr>\n",
              "      <th>18</th>\n",
              "      <td>2014-02-01</td>\n",
              "      <td>7</td>\n",
              "      <td>5</td>\n",
              "    </tr>\n",
              "    <tr>\n",
              "      <th>19</th>\n",
              "      <td>2014-02-01</td>\n",
              "      <td>8</td>\n",
              "      <td>6</td>\n",
              "    </tr>\n",
              "    <tr>\n",
              "      <th>20</th>\n",
              "      <td>2014-02-01</td>\n",
              "      <td>9</td>\n",
              "      <td>4</td>\n",
              "    </tr>\n",
              "    <tr>\n",
              "      <th>21</th>\n",
              "      <td>2014-02-01</td>\n",
              "      <td>10</td>\n",
              "      <td>5</td>\n",
              "    </tr>\n",
              "    <tr>\n",
              "      <th>22</th>\n",
              "      <td>2014-02-01</td>\n",
              "      <td>11</td>\n",
              "      <td>4</td>\n",
              "    </tr>\n",
              "    <tr>\n",
              "      <th>23</th>\n",
              "      <td>2014-03-01</td>\n",
              "      <td>1</td>\n",
              "      <td>4</td>\n",
              "    </tr>\n",
              "    <tr>\n",
              "      <th>24</th>\n",
              "      <td>2014-03-01</td>\n",
              "      <td>2</td>\n",
              "      <td>2</td>\n",
              "    </tr>\n",
              "    <tr>\n",
              "      <th>25</th>\n",
              "      <td>2014-03-01</td>\n",
              "      <td>3</td>\n",
              "      <td>3</td>\n",
              "    </tr>\n",
              "    <tr>\n",
              "      <th>26</th>\n",
              "      <td>2014-03-01</td>\n",
              "      <td>4</td>\n",
              "      <td>4</td>\n",
              "    </tr>\n",
              "    <tr>\n",
              "      <th>27</th>\n",
              "      <td>2014-03-01</td>\n",
              "      <td>5</td>\n",
              "      <td>2</td>\n",
              "    </tr>\n",
              "    <tr>\n",
              "      <th>28</th>\n",
              "      <td>2014-03-01</td>\n",
              "      <td>6</td>\n",
              "      <td>2</td>\n",
              "    </tr>\n",
              "    <tr>\n",
              "      <th>29</th>\n",
              "      <td>2014-03-01</td>\n",
              "      <td>7</td>\n",
              "      <td>2</td>\n",
              "    </tr>\n",
              "    <tr>\n",
              "      <th>30</th>\n",
              "      <td>2014-03-01</td>\n",
              "      <td>8</td>\n",
              "      <td>2</td>\n",
              "    </tr>\n",
              "    <tr>\n",
              "      <th>31</th>\n",
              "      <td>2014-03-01</td>\n",
              "      <td>9</td>\n",
              "      <td>1</td>\n",
              "    </tr>\n",
              "    <tr>\n",
              "      <th>32</th>\n",
              "      <td>2014-03-01</td>\n",
              "      <td>10</td>\n",
              "      <td>1</td>\n",
              "    </tr>\n",
              "    <tr>\n",
              "      <th>33</th>\n",
              "      <td>2014-04-01</td>\n",
              "      <td>1</td>\n",
              "      <td>1</td>\n",
              "    </tr>\n",
              "    <tr>\n",
              "      <th>34</th>\n",
              "      <td>2014-04-01</td>\n",
              "      <td>2</td>\n",
              "      <td>1</td>\n",
              "    </tr>\n",
              "    <tr>\n",
              "      <th>35</th>\n",
              "      <td>2014-04-01</td>\n",
              "      <td>3</td>\n",
              "      <td>1</td>\n",
              "    </tr>\n",
              "    <tr>\n",
              "      <th>36</th>\n",
              "      <td>2014-04-01</td>\n",
              "      <td>4</td>\n",
              "      <td>1</td>\n",
              "    </tr>\n",
              "    <tr>\n",
              "      <th>37</th>\n",
              "      <td>2014-04-01</td>\n",
              "      <td>6</td>\n",
              "      <td>1</td>\n",
              "    </tr>\n",
              "    <tr>\n",
              "      <th>38</th>\n",
              "      <td>2014-04-01</td>\n",
              "      <td>8</td>\n",
              "      <td>1</td>\n",
              "    </tr>\n",
              "    <tr>\n",
              "      <th>39</th>\n",
              "      <td>2014-05-01</td>\n",
              "      <td>1</td>\n",
              "      <td>2</td>\n",
              "    </tr>\n",
              "    <tr>\n",
              "      <th>40</th>\n",
              "      <td>2014-05-01</td>\n",
              "      <td>3</td>\n",
              "      <td>2</td>\n",
              "    </tr>\n",
              "    <tr>\n",
              "      <th>41</th>\n",
              "      <td>2014-05-01</td>\n",
              "      <td>5</td>\n",
              "      <td>1</td>\n",
              "    </tr>\n",
              "    <tr>\n",
              "      <th>42</th>\n",
              "      <td>2014-05-01</td>\n",
              "      <td>7</td>\n",
              "      <td>1</td>\n",
              "    </tr>\n",
              "    <tr>\n",
              "      <th>43</th>\n",
              "      <td>2014-06-01</td>\n",
              "      <td>1</td>\n",
              "      <td>2</td>\n",
              "    </tr>\n",
              "    <tr>\n",
              "      <th>44</th>\n",
              "      <td>2014-06-01</td>\n",
              "      <td>2</td>\n",
              "      <td>2</td>\n",
              "    </tr>\n",
              "    <tr>\n",
              "      <th>45</th>\n",
              "      <td>2014-06-01</td>\n",
              "      <td>3</td>\n",
              "      <td>1</td>\n",
              "    </tr>\n",
              "    <tr>\n",
              "      <th>46</th>\n",
              "      <td>2014-06-01</td>\n",
              "      <td>4</td>\n",
              "      <td>1</td>\n",
              "    </tr>\n",
              "    <tr>\n",
              "      <th>47</th>\n",
              "      <td>2014-06-01</td>\n",
              "      <td>6</td>\n",
              "      <td>1</td>\n",
              "    </tr>\n",
              "  </tbody>\n",
              "</table>\n",
              "</div>"
            ],
            "text/plain": [
              "    cohort_ym  cohort_index  bikeshop_name\n",
              "0  2014-01-01             1             10\n",
              "1  2014-01-01             2              8\n",
              "2  2014-01-01             3              6\n",
              "3  2014-01-01             4              8\n",
              "4  2014-01-01             5              6\n",
              "5  2014-01-01             6              7\n",
              "6  2014-01-01             7              7\n",
              "7  2014-01-01             8              6\n",
              "8  2014-01-01             9              8\n",
              "9  2014-01-01            10              7\n",
              "10 2014-01-01            11              4\n",
              "11 2014-01-01            12              5\n",
              "12 2014-02-01             1             11\n",
              "13 2014-02-01             2              6\n",
              "14 2014-02-01             3              8\n",
              "15 2014-02-01             4              8\n",
              "16 2014-02-01             5              9\n",
              "17 2014-02-01             6              5\n",
              "18 2014-02-01             7              5\n",
              "19 2014-02-01             8              6\n",
              "20 2014-02-01             9              4\n",
              "21 2014-02-01            10              5\n",
              "22 2014-02-01            11              4\n",
              "23 2014-03-01             1              4\n",
              "24 2014-03-01             2              2\n",
              "25 2014-03-01             3              3\n",
              "26 2014-03-01             4              4\n",
              "27 2014-03-01             5              2\n",
              "28 2014-03-01             6              2\n",
              "29 2014-03-01             7              2\n",
              "30 2014-03-01             8              2\n",
              "31 2014-03-01             9              1\n",
              "32 2014-03-01            10              1\n",
              "33 2014-04-01             1              1\n",
              "34 2014-04-01             2              1\n",
              "35 2014-04-01             3              1\n",
              "36 2014-04-01             4              1\n",
              "37 2014-04-01             6              1\n",
              "38 2014-04-01             8              1\n",
              "39 2014-05-01             1              2\n",
              "40 2014-05-01             3              2\n",
              "41 2014-05-01             5              1\n",
              "42 2014-05-01             7              1\n",
              "43 2014-06-01             1              2\n",
              "44 2014-06-01             2              2\n",
              "45 2014-06-01             3              1\n",
              "46 2014-06-01             4              1\n",
              "47 2014-06-01             6              1"
            ]
          },
          "metadata": {
            "tags": []
          },
          "execution_count": 15
        }
      ]
    },
    {
      "cell_type": "code",
      "metadata": {
        "colab": {
          "base_uri": "https://localhost:8080/",
          "height": 514
        },
        "id": "TkbZyzMpN6r1",
        "outputId": "23d954ce-95a4-43b4-b5f5-19d9d8b01313"
      },
      "source": [
        "plt.figure(figsize = (10,8))\n",
        "plt.title('Retention rates')\n",
        "sns.heatmap(data = retention,\n",
        "            annot = True,\n",
        "            fmt = '.0%',\n",
        "            vmin = 0.0,\n",
        "            vmax = 0.8,\n",
        "            cmap = 'Blues')\n",
        "plt.show()"
      ],
      "execution_count": null,
      "outputs": [
        {
          "output_type": "display_data",
          "data": {
            "image/png": "[encoded data removed]",
            "text/plain": [
              "<Figure size 720x576 with 2 Axes>"
            ]
          },
          "metadata": {
            "tags": [],
            "needs_background": "light"
          }
        }
      ]
    },
    {
      "cell_type": "markdown",
      "metadata": {
        "id": "5rx-uJ5sgvSi"
      },
      "source": [
        "#### Analyse customer RFM (Recency, Frequency, Monetary Value)"
      ]
    },
    {
      "cell_type": "markdown",
      "metadata": {
        "id": "_e7V0TTUWv3G"
      },
      "source": [
        "Create RFM Table"
      ]
    },
    {
      "cell_type": "code",
      "metadata": {
        "id": "bPA39Yt0g3cE"
      },
      "source": [
        "# Create a table that shows, by customer their: Name, Days since last purchase (Recency),\n",
        "\n",
        "# Get latest date\n",
        "snapshot_date = max(cust_sales_tbl['order_date']) + dt.timedelta(days=1)\n",
        "\n",
        "# Create a customer RFM matrix \n",
        "\n",
        "customer_RFM_tbl= cust_sales_tbl.groupby(['bikeshop_name']).agg({\n",
        "    'order_date' : lambda x: (snapshot_date - x.max()).days,\n",
        "    'order_line' : 'count',\n",
        "    'sales_value' : 'sum'})\n",
        "\n",
        "customer_RFM_tbl.rename( columns = {'order_date' : 'recency',\n",
        "                                    'order_line' : 'frequency',\n",
        "                                    'sales_value' : 'total_sales'}, inplace = True)\n",
        "customer_RFM_tbl.head()"
      ],
      "execution_count": null,
      "outputs": []
    },
    {
      "cell_type": "markdown",
      "metadata": {
        "id": "PfkbyqTFW04F"
      },
      "source": [
        "Create RFM segments "
      ]
    },
    {
      "cell_type": "code",
      "metadata": {
        "id": "ddWn9R2PXiUW"
      },
      "source": [
        "# Create quartiles to group RFM values into bins. \n",
        "# Generate labels for recency and asisgn to new column: R \n",
        "r_labels = range(4,0,-1)\n",
        "r_quartiles = pd.qcut(customer_RFM_tbl['recency'],4,labels = r_labels)\n",
        "customer_RFM_tbl = customer_RFM_tbl.assign(R = r_quartiles.values)\n",
        "\n",
        "# Generate labels for frequency and asisgn to new column: F \n",
        "f_labels = range(1,5)\n",
        "f_quartiles = pd.qcut(customer_RFM_tbl['frequency'],4,labels = f_labels)\n",
        "customer_RFM_tbl = customer_RFM_tbl.assign(F = f_quartiles.values)\n",
        "\n",
        "# Generate labels for frequency and asisgn to new column: F \n",
        "m_labels = range(1,5)\n",
        "m_quartiles = pd.qcut(customer_RFM_tbl['total_sales'],4,labels = m_labels)\n",
        "customer_RFM_tbl = customer_RFM_tbl.assign(M = m_quartiles.values)\n",
        "\n",
        "# Create RFM Segments \n",
        "\n",
        "def join_rfm(x): return str(x['R']) + str(x['F']) + str(x['M'])\n",
        "customer_RFM_tbl['RFM_segment'] = customer_RFM_tbl.apply(join_rfm, axis =1)\n",
        "customer_RFM_tbl['RFM_Score'] = customer_RFM_tbl[['R','F','M']].sum(axis=1)\n",
        "\n"
      ],
      "execution_count": null,
      "outputs": []
    },
    {
      "cell_type": "markdown",
      "metadata": {
        "id": "WcG1BQbLeILo"
      },
      "source": [
        "Review RFM Segment statistics"
      ]
    },
    {
      "cell_type": "code",
      "metadata": {
        "colab": {
          "base_uri": "https://localhost:8080/",
          "height": 421
        },
        "id": "WWz3XHouZRgY",
        "outputId": "ee4dd3bf-595d-4695-85bd-02b0e9177289"
      },
      "source": [
        "customer_RFM_tbl.groupby('RFM_Score').agg({\n",
        "    'recency' : 'mean',\n",
        "    'frequency' : 'mean',\n",
        "    'total_sales' : ['mean','count']}).round(1)"
      ],
      "execution_count": null,
      "outputs": [
        {
          "output_type": "execute_result",
          "data": {
            "text/html": [
              "<div>\n",
              "<style scoped>\n",
              "    .dataframe tbody tr th:only-of-type {\n",
              "        vertical-align: middle;\n",
              "    }\n",
              "\n",
              "    .dataframe tbody tr th {\n",
              "        vertical-align: top;\n",
              "    }\n",
              "\n",
              "    .dataframe thead tr th {\n",
              "        text-align: left;\n",
              "    }\n",
              "\n",
              "    .dataframe thead tr:last-of-type th {\n",
              "        text-align: right;\n",
              "    }\n",
              "</style>\n",
              "<table border=\"1\" class=\"dataframe\">\n",
              "  <thead>\n",
              "    <tr>\n",
              "      <th></th>\n",
              "      <th>recency</th>\n",
              "      <th>frequency</th>\n",
              "      <th colspan=\"2\" halign=\"left\">total_sales</th>\n",
              "    </tr>\n",
              "    <tr>\n",
              "      <th></th>\n",
              "      <th>mean</th>\n",
              "      <th>mean</th>\n",
              "      <th>mean</th>\n",
              "      <th>count</th>\n",
              "    </tr>\n",
              "    <tr>\n",
              "      <th>RFM_Score</th>\n",
              "      <th></th>\n",
              "      <th></th>\n",
              "      <th></th>\n",
              "      <th></th>\n",
              "    </tr>\n",
              "  </thead>\n",
              "  <tbody>\n",
              "    <tr>\n",
              "      <th>3</th>\n",
              "      <td>204.5</td>\n",
              "      <td>14.0</td>\n",
              "      <td>82072.5</td>\n",
              "      <td>4</td>\n",
              "    </tr>\n",
              "    <tr>\n",
              "      <th>4</th>\n",
              "      <td>79.3</td>\n",
              "      <td>32.7</td>\n",
              "      <td>146673.3</td>\n",
              "      <td>3</td>\n",
              "    </tr>\n",
              "    <tr>\n",
              "      <th>5</th>\n",
              "      <td>89.8</td>\n",
              "      <td>35.8</td>\n",
              "      <td>156263.8</td>\n",
              "      <td>4</td>\n",
              "    </tr>\n",
              "    <tr>\n",
              "      <th>6</th>\n",
              "      <td>124.0</td>\n",
              "      <td>44.0</td>\n",
              "      <td>272440.0</td>\n",
              "      <td>1</td>\n",
              "    </tr>\n",
              "    <tr>\n",
              "      <th>7</th>\n",
              "      <td>36.0</td>\n",
              "      <td>47.0</td>\n",
              "      <td>215310.0</td>\n",
              "      <td>1</td>\n",
              "    </tr>\n",
              "    <tr>\n",
              "      <th>8</th>\n",
              "      <td>49.8</td>\n",
              "      <td>59.2</td>\n",
              "      <td>281285.8</td>\n",
              "      <td>6</td>\n",
              "    </tr>\n",
              "    <tr>\n",
              "      <th>9</th>\n",
              "      <td>25.0</td>\n",
              "      <td>98.0</td>\n",
              "      <td>388100.0</td>\n",
              "      <td>1</td>\n",
              "    </tr>\n",
              "    <tr>\n",
              "      <th>10</th>\n",
              "      <td>34.7</td>\n",
              "      <td>88.7</td>\n",
              "      <td>455866.7</td>\n",
              "      <td>3</td>\n",
              "    </tr>\n",
              "    <tr>\n",
              "      <th>11</th>\n",
              "      <td>33.7</td>\n",
              "      <td>127.7</td>\n",
              "      <td>547385.0</td>\n",
              "      <td>3</td>\n",
              "    </tr>\n",
              "    <tr>\n",
              "      <th>12</th>\n",
              "      <td>16.8</td>\n",
              "      <td>291.2</td>\n",
              "      <td>1299097.5</td>\n",
              "      <td>4</td>\n",
              "    </tr>\n",
              "  </tbody>\n",
              "</table>\n",
              "</div>"
            ],
            "text/plain": [
              "          recency frequency total_sales      \n",
              "             mean      mean        mean count\n",
              "RFM_Score                                    \n",
              "3           204.5      14.0     82072.5     4\n",
              "4            79.3      32.7    146673.3     3\n",
              "5            89.8      35.8    156263.8     4\n",
              "6           124.0      44.0    272440.0     1\n",
              "7            36.0      47.0    215310.0     1\n",
              "8            49.8      59.2    281285.8     6\n",
              "9            25.0      98.0    388100.0     1\n",
              "10           34.7      88.7    455866.7     3\n",
              "11           33.7     127.7    547385.0     3\n",
              "12           16.8     291.2   1299097.5     4"
            ]
          },
          "metadata": {
            "tags": []
          },
          "execution_count": 184
        }
      ]
    },
    {
      "cell_type": "markdown",
      "metadata": {
        "id": "-wNCeFNYfYd5"
      },
      "source": [
        "Group RFM scores into named segments"
      ]
    },
    {
      "cell_type": "code",
      "metadata": {
        "colab": {
          "base_uri": "https://localhost:8080/",
          "height": 204
        },
        "id": "QrjoUPetfb7s",
        "outputId": "6154c431-1fbb-4875-f514-3ef9cfb57c29"
      },
      "source": [
        "def segment_me(df) : \n",
        "    if df['RFM_Score'] >= 9: \n",
        "        return 'Gold'\n",
        "    elif (df['RFM_Score'] >= 5) and (df['RFM_Score'] < 9):\n",
        "        return 'Silver'\n",
        "    else: \n",
        "        return 'Bronze'\n",
        "\n",
        "customer_RFM_tbl['general_segment'] = customer_RFM_tbl.apply(segment_me,axis =1)\n",
        "\n",
        "customer_RFM_tbl.groupby('general_segment').agg({\n",
        "    'recency' : 'mean',\n",
        "    'frequency' : 'mean',\n",
        "    'total_sales' : ['mean','count']}).round(1)"
      ],
      "execution_count": null,
      "outputs": [
        {
          "output_type": "execute_result",
          "data": {
            "text/html": [
              "<div>\n",
              "<style scoped>\n",
              "    .dataframe tbody tr th:only-of-type {\n",
              "        vertical-align: middle;\n",
              "    }\n",
              "\n",
              "    .dataframe tbody tr th {\n",
              "        vertical-align: top;\n",
              "    }\n",
              "\n",
              "    .dataframe thead tr th {\n",
              "        text-align: left;\n",
              "    }\n",
              "\n",
              "    .dataframe thead tr:last-of-type th {\n",
              "        text-align: right;\n",
              "    }\n",
              "</style>\n",
              "<table border=\"1\" class=\"dataframe\">\n",
              "  <thead>\n",
              "    <tr>\n",
              "      <th></th>\n",
              "      <th>recency</th>\n",
              "      <th>frequency</th>\n",
              "      <th colspan=\"2\" halign=\"left\">total_sales</th>\n",
              "    </tr>\n",
              "    <tr>\n",
              "      <th></th>\n",
              "      <th>mean</th>\n",
              "      <th>mean</th>\n",
              "      <th>mean</th>\n",
              "      <th>count</th>\n",
              "    </tr>\n",
              "    <tr>\n",
              "      <th>general_segment</th>\n",
              "      <th></th>\n",
              "      <th></th>\n",
              "      <th></th>\n",
              "      <th></th>\n",
              "    </tr>\n",
              "  </thead>\n",
              "  <tbody>\n",
              "    <tr>\n",
              "      <th>Bronze</th>\n",
              "      <td>150.9</td>\n",
              "      <td>22.0</td>\n",
              "      <td>109758.6</td>\n",
              "      <td>7</td>\n",
              "    </tr>\n",
              "    <tr>\n",
              "      <th>Gold</th>\n",
              "      <td>27.0</td>\n",
              "      <td>173.8</td>\n",
              "      <td>781295.0</td>\n",
              "      <td>11</td>\n",
              "    </tr>\n",
              "    <tr>\n",
              "      <th>Silver</th>\n",
              "      <td>68.2</td>\n",
              "      <td>49.1</td>\n",
              "      <td>233376.7</td>\n",
              "      <td>12</td>\n",
              "    </tr>\n",
              "  </tbody>\n",
              "</table>\n",
              "</div>"
            ],
            "text/plain": [
              "                recency frequency total_sales      \n",
              "                   mean      mean        mean count\n",
              "general_segment                                    \n",
              "Bronze            150.9      22.0    109758.6     7\n",
              "Gold               27.0     173.8    781295.0    11\n",
              "Silver             68.2      49.1    233376.7    12"
            ]
          },
          "metadata": {
            "tags": []
          },
          "execution_count": 187
        }
      ]
    },
    {
      "cell_type": "code",
      "metadata": {
        "colab": {
          "base_uri": "https://localhost:8080/",
          "height": 194
        },
        "id": "y8ZQohi6e67n",
        "outputId": "8fc61f0d-59c5-4db5-ca8d-553cc8cfb20f"
      },
      "source": [
        "customer_RFM_tbl.head()"
      ],
      "execution_count": null,
      "outputs": [
        {
          "output_type": "execute_result",
          "data": {
            "application/vnd.google.colaboratory.module+javascript": "\n      import \"https://ssl.gstatic.com/colaboratory/data_table/a6224c040fa35dcf/data_table.js\";\n\n      window.createDataTable({\n        data: [[\"Albuquerque Cycles\",\n{\n            'v': 294,\n            'f': \"294\",\n        },\n{\n            'v': 16,\n            'f': \"16\",\n        },\n{\n            'v': 81035,\n            'f': \"81035\",\n        },\n{\n            'v': 1,\n            'f': \"1\",\n        },\n{\n            'v': 1,\n            'f': \"1\",\n        },\n{\n            'v': 1,\n            'f': \"1\",\n        },\n\"111\",\n{\n            'v': 3,\n            'f': \"3\",\n        },\n\"Bronze\"],\n [\"Ann Arbor Speed\",\n{\n            'v': 41,\n            'f': \"41\",\n        },\n{\n            'v': 100,\n            'f': \"100\",\n        },\n{\n            'v': 565625,\n            'f': \"565625\",\n        },\n{\n            'v': 3,\n            'f': \"3\",\n        },\n{\n            'v': 3,\n            'f': \"3\",\n        },\n{\n            'v': 4,\n            'f': \"4\",\n        },\n\"334\",\n{\n            'v': 10,\n            'f': \"10\",\n        },\n\"Gold\"],\n [\"Austin Cruisers\",\n{\n            'v': 36,\n            'f': \"36\",\n        },\n{\n            'v': 47,\n            'f': \"47\",\n        },\n{\n            'v': 215310,\n            'f': \"215310\",\n        },\n{\n            'v': 3,\n            'f': \"3\",\n        },\n{\n            'v': 2,\n            'f': \"2\",\n        },\n{\n            'v': 2,\n            'f': \"2\",\n        },\n\"322\",\n{\n            'v': 7,\n            'f': \"7\",\n        },\n\"Silver\"],\n [\"Cincinnati Speed\",\n{\n            'v': 124,\n            'f': \"124\",\n        },\n{\n            'v': 44,\n            'f': \"44\",\n        },\n{\n            'v': 272440,\n            'f': \"272440\",\n        },\n{\n            'v': 1,\n            'f': \"1\",\n        },\n{\n            'v': 2,\n            'f': \"2\",\n        },\n{\n            'v': 3,\n            'f': \"3\",\n        },\n\"123\",\n{\n            'v': 6,\n            'f': \"6\",\n        },\n\"Silver\"],\n [\"Columbus Race Equipment\",\n{\n            'v': 103,\n            'f': \"103\",\n        },\n{\n            'v': 61,\n            'f': \"61\",\n        },\n{\n            'v': 324300,\n            'f': \"324300\",\n        },\n{\n            'v': 2,\n            'f': \"2\",\n        },\n{\n            'v': 3,\n            'f': \"3\",\n        },\n{\n            'v': 3,\n            'f': \"3\",\n        },\n\"233\",\n{\n            'v': 8,\n            'f': \"8\",\n        },\n\"Silver\"]],\n        columns: [[\"string\", \"bikeshop_name\"], [\"number\", \"recency\"], [\"number\", \"frequency\"], [\"number\", \"total_sales\"], [\"number\", \"R\"], [\"number\", \"F\"], [\"number\", \"M\"], [\"string\", \"RFM_segment\"], [\"number\", \"RFM_Score\"], [\"string\", \"general_segment\"]],\n        columnOptions: [{\"width\": \"1px\", \"className\": \"index_column\"}],\n        rowsPerPage: 25,\n        helpUrl: \"https://colab.research.google.com/notebooks/data_table.ipynb\",\n        suppressOutputScrolling: true,\n        minimumWidth: undefined,\n      });\n    ",
            "text/html": [
              "<div>\n",
              "<style scoped>\n",
              "    .dataframe tbody tr th:only-of-type {\n",
              "        vertical-align: middle;\n",
              "    }\n",
              "\n",
              "    .dataframe tbody tr th {\n",
              "        vertical-align: top;\n",
              "    }\n",
              "\n",
              "    .dataframe thead th {\n",
              "        text-align: right;\n",
              "    }\n",
              "</style>\n",
              "<table border=\"1\" class=\"dataframe\">\n",
              "  <thead>\n",
              "    <tr style=\"text-align: right;\">\n",
              "      <th></th>\n",
              "      <th>recency</th>\n",
              "      <th>frequency</th>\n",
              "      <th>total_sales</th>\n",
              "      <th>R</th>\n",
              "      <th>F</th>\n",
              "      <th>M</th>\n",
              "      <th>RFM_segment</th>\n",
              "      <th>RFM_Score</th>\n",
              "      <th>general_segment</th>\n",
              "    </tr>\n",
              "    <tr>\n",
              "      <th>bikeshop_name</th>\n",
              "      <th></th>\n",
              "      <th></th>\n",
              "      <th></th>\n",
              "      <th></th>\n",
              "      <th></th>\n",
              "      <th></th>\n",
              "      <th></th>\n",
              "      <th></th>\n",
              "      <th></th>\n",
              "    </tr>\n",
              "  </thead>\n",
              "  <tbody>\n",
              "    <tr>\n",
              "      <th>Albuquerque Cycles</th>\n",
              "      <td>294</td>\n",
              "      <td>16</td>\n",
              "      <td>81035</td>\n",
              "      <td>1</td>\n",
              "      <td>1</td>\n",
              "      <td>1</td>\n",
              "      <td>111</td>\n",
              "      <td>3</td>\n",
              "      <td>Bronze</td>\n",
              "    </tr>\n",
              "    <tr>\n",
              "      <th>Ann Arbor Speed</th>\n",
              "      <td>41</td>\n",
              "      <td>100</td>\n",
              "      <td>565625</td>\n",
              "      <td>3</td>\n",
              "      <td>3</td>\n",
              "      <td>4</td>\n",
              "      <td>334</td>\n",
              "      <td>10</td>\n",
              "      <td>Gold</td>\n",
              "    </tr>\n",
              "    <tr>\n",
              "      <th>Austin Cruisers</th>\n",
              "      <td>36</td>\n",
              "      <td>47</td>\n",
              "      <td>215310</td>\n",
              "      <td>3</td>\n",
              "      <td>2</td>\n",
              "      <td>2</td>\n",
              "      <td>322</td>\n",
              "      <td>7</td>\n",
              "      <td>Silver</td>\n",
              "    </tr>\n",
              "    <tr>\n",
              "      <th>Cincinnati Speed</th>\n",
              "      <td>124</td>\n",
              "      <td>44</td>\n",
              "      <td>272440</td>\n",
              "      <td>1</td>\n",
              "      <td>2</td>\n",
              "      <td>3</td>\n",
              "      <td>123</td>\n",
              "      <td>6</td>\n",
              "      <td>Silver</td>\n",
              "    </tr>\n",
              "    <tr>\n",
              "      <th>Columbus Race Equipment</th>\n",
              "      <td>103</td>\n",
              "      <td>61</td>\n",
              "      <td>324300</td>\n",
              "      <td>2</td>\n",
              "      <td>3</td>\n",
              "      <td>3</td>\n",
              "      <td>233</td>\n",
              "      <td>8</td>\n",
              "      <td>Silver</td>\n",
              "    </tr>\n",
              "  </tbody>\n",
              "</table>\n",
              "</div>"
            ],
            "text/plain": [
              "                         recency  frequency  ...  RFM_Score general_segment\n",
              "bikeshop_name                                ...                           \n",
              "Albuquerque Cycles           294         16  ...          3          Bronze\n",
              "Ann Arbor Speed               41        100  ...         10            Gold\n",
              "Austin Cruisers               36         47  ...          7          Silver\n",
              "Cincinnati Speed             124         44  ...          6          Silver\n",
              "Columbus Race Equipment      103         61  ...          8          Silver\n",
              "\n",
              "[5 rows x 9 columns]"
            ]
          },
          "metadata": {
            "tags": []
          },
          "execution_count": 186
        }
      ]
    },
    {
      "cell_type": "markdown",
      "metadata": {
        "id": "glZhPtLSivA8"
      },
      "source": [
        "### Perform K means clustering"
      ]
    },
    {
      "cell_type": "code",
      "metadata": {
        "id": "D72mxYeai2Yq"
      },
      "source": [
        ""
      ],
      "execution_count": null,
      "outputs": []
    }
  ]
}