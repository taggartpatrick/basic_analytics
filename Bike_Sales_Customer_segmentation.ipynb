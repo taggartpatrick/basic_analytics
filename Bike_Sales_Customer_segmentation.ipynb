{
  "nbformat": 4,
  "nbformat_minor": 0,
  "metadata": {
    "colab": {
      "name": "Bike Sales - Customer segmentation.ipynb",
      "provenance": [],
      "collapsed_sections": [
        "rrn6lXxSrpNx",
        "GHeWcli_csrB",
        "tW07r2lPdFTO",
        "KIFcNESvwTHy",
        "_RSbR7uoQQSa",
        "5rx-uJ5sgvSi",
        "do9UK8gCAoxM"
      ],
      "toc_visible": true,
      "authorship_tag": "ABX9TyPtiwVPu7sHxWbkFWs1B1WW",
      "include_colab_link": true
    },
    "kernelspec": {
      "name": "python3",
      "display_name": "Python 3"
    }
  },
  "cells": [
    {
      "cell_type": "markdown",
      "metadata": {
        "id": "view-in-github",
        "colab_type": "text"
      },
      "source": [
        "<a href=\"https://colab.research.google.com/github/taggartpatrick/basic_bike_sales_analytics/blob/main/Bike_Sales_Customer_segmentation.ipynb\" target=\"_parent\"><img src=\"https://colab.research.google.com/assets/colab-badge.svg\" alt=\"Open In Colab\"/></a>"
      ]
    },
    {
      "cell_type": "markdown",
      "metadata": {
        "id": "rrn6lXxSrpNx"
      },
      "source": [
        "### Load libraries\n"
      ]
    },
    {
      "cell_type": "code",
      "metadata": {
        "id": "jhn7PIYUryEg"
      },
      "source": [
        "# Load basic libraries\n",
        "import pandas as pd\n",
        "import numpy as np\n",
        "import altair as alt\n",
        "import datetime as dt"
      ],
      "execution_count": 1,
      "outputs": []
    },
    {
      "cell_type": "code",
      "metadata": {
        "id": "A5OZDfYFzRx-"
      },
      "source": [
        "# load interactive tables\n",
        "%load_ext google.colab.data_table"
      ],
      "execution_count": 2,
      "outputs": []
    },
    {
      "cell_type": "code",
      "metadata": {
        "id": "VxOtxBOf9xgD",
        "colab": {
          "base_uri": "https://localhost:8080/"
        },
        "outputId": "f76b0090-ebe4-456e-f723-769b500f01ad"
      },
      "source": [
        "# load plotly \n",
        "!pip install -q plotly==4.2.1\n",
        "import plotly.graph_objects as go\n",
        "\n",
        "from IPython.display import HTML\n",
        "import plotly.express as px"
      ],
      "execution_count": 3,
      "outputs": [
        {
          "output_type": "stream",
          "text": [
            "\u001b[K     |████████████████████████████████| 7.2MB 3.9MB/s \n",
            "\u001b[?25h"
          ],
          "name": "stdout"
        }
      ]
    },
    {
      "cell_type": "code",
      "metadata": {
        "id": "L7eA9ti1Nlew"
      },
      "source": [
        "# load seaborn libraries \n",
        "import seaborn as sns\n",
        "import matplotlib.pyplot as plt "
      ],
      "execution_count": 4,
      "outputs": []
    },
    {
      "cell_type": "markdown",
      "metadata": {
        "id": "53UiuGm6qsMT"
      },
      "source": [
        "### Import data\n"
      ]
    },
    {
      "cell_type": "markdown",
      "metadata": {
        "id": "GHeWcli_csrB"
      },
      "source": [
        "#### Import data from Gitbuh repo"
      ]
    },
    {
      "cell_type": "code",
      "metadata": {
        "id": "FV0_DU5dqlBH",
        "colab": {
          "base_uri": "https://localhost:8080/"
        },
        "outputId": "e7e0f2a9-b444-473e-8493-cad957a31d07"
      },
      "source": [
        "# Clone Github directory\n",
        "!git clone https://github.com/taggartpatrick/basic_bike_sales_analytics\n",
        "!ls"
      ],
      "execution_count": 5,
      "outputs": [
        {
          "output_type": "stream",
          "text": [
            "Cloning into 'basic_bike_sales_analytics'...\n",
            "remote: Enumerating objects: 20, done.\u001b[K\n",
            "remote: Counting objects: 100% (20/20), done.\u001b[K\n",
            "remote: Compressing objects: 100% (18/18), done.\u001b[K\n",
            "remote: Total 20 (delta 5), reused 0 (delta 0), pack-reused 0\u001b[K\n",
            "Unpacking objects: 100% (20/20), done.\n",
            "basic_bike_sales_analytics  sample_data\n"
          ],
          "name": "stdout"
        }
      ]
    },
    {
      "cell_type": "code",
      "metadata": {
        "id": "zxlePFE8roJm"
      },
      "source": [
        "# Import ordeline data \n",
        "orderlines = pd.read_excel(\"/content/basic_bike_sales_analytics/orderlines.xlsx\")\n",
        "\n",
        "# Import bikeshop data \n",
        "bikeshops = pd.read_excel(\"/content/basic_bike_sales_analytics/bikeshops.xlsx\")\n",
        "\n",
        "# Import bike data \n",
        "bikes = pd.read_excel(\"/content/basic_bike_sales_analytics/bikes.xlsx\")"
      ],
      "execution_count": 6,
      "outputs": []
    },
    {
      "cell_type": "code",
      "metadata": {
        "id": "-GVvU5wUeyaA"
      },
      "source": [
        "# Import bike orderline data \n",
        "bike_orderlines = pd.read_csv(\"/content/basic_bike_sales_analytics/bike_orderlines.csv\")"
      ],
      "execution_count": 7,
      "outputs": []
    },
    {
      "cell_type": "markdown",
      "metadata": {
        "id": "9BmPLzPHxqau"
      },
      "source": [
        "### Tidy and Transform Bike Sales Data"
      ]
    },
    {
      "cell_type": "markdown",
      "metadata": {
        "id": "tW07r2lPdFTO"
      },
      "source": [
        "#### Combine Excel Files into one dataframe"
      ]
    },
    {
      "cell_type": "code",
      "metadata": {
        "id": "8ybgCue9gQlg"
      },
      "source": [
        "# Rename key fields in relevant excel based dataframes for merging\n",
        "\n",
        "bikes = bikes.rename(columns = {'bike.id':'product.id'})\n",
        "bikeshops = bikeshops.rename(columns = {'bikeshop.id': 'customer.id'})\n",
        "\n",
        "# Join dataframes into one overall dataframe\n",
        "\n",
        "bike_order_data = pd.merge(orderlines,bikes, on = 'product.id')\n",
        "bike_order_data = pd.merge(bike_order_data,bikeshops, on = 'customer.id')"
      ],
      "execution_count": 10,
      "outputs": []
    },
    {
      "cell_type": "markdown",
      "metadata": {
        "id": "KIFcNESvwTHy"
      },
      "source": [
        "#### Tidy Dataframe"
      ]
    },
    {
      "cell_type": "code",
      "metadata": {
        "id": "VlJdBpITmGG5"
      },
      "source": [
        "# Rename key fields\n",
        "bike_sales_tbl = bike_order_data.rename(columns = {\n",
        "    'order.date' : 'order_date',\n",
        "    'order.id' : 'order_id',\n",
        "    'order.line' : 'order_line',\n",
        "    'bikeshop.name':'bikeshop_name'\n",
        "    })\n",
        "\n",
        "# Drop uneeded fields \n",
        "bike_sales_tbl = bike_sales_tbl.drop(['Unnamed: 0','customer.id','product.id'], axis = 1) \n",
        "\n",
        "# Split location fields and split decsription fields \n",
        "bike_sales_tbl[['major_category','minor_category','frame_material']] = bike_sales_tbl['description'].str.split(' - ',2,expand = True)\n",
        "\n",
        "# Add fields for month, day and year\n",
        "\n",
        "def get_ym(x): return dt.datetime(x.year,x.month,1)\n",
        "\n",
        "bike_sales_tbl['order_month'] = pd.DatetimeIndex(bike_sales_tbl['order_date']).month\n",
        "bike_sales_tbl['order_day'] = pd.DatetimeIndex(bike_sales_tbl['order_date']).day\n",
        "bike_sales_tbl['order_year'] = pd.DatetimeIndex(bike_sales_tbl['order_date']).year\n",
        "bike_sales_tbl['order_ym'] = bike_sales_tbl['order_date'].apply(get_ym)\n",
        "bike_sales_tbl['order_weekday'] = pd.to_datetime(bike_sales_tbl['order_date']).dt.day_name()\n",
        "\n",
        "# Add total sales value \n",
        "bike_sales_tbl['sales_value'] = bike_sales_tbl['price']*bike_sales_tbl['quantity']\n"
      ],
      "execution_count": 11,
      "outputs": []
    },
    {
      "cell_type": "markdown",
      "metadata": {
        "id": "3Wk0KzPUgxJ4"
      },
      "source": [
        "### Perform Basic customer segment analysis"
      ]
    },
    {
      "cell_type": "markdown",
      "metadata": {
        "id": "_RSbR7uoQQSa"
      },
      "source": [
        "#### Analyse customer cohorts"
      ]
    },
    {
      "cell_type": "markdown",
      "metadata": {
        "id": "GU9oogkuQc31"
      },
      "source": [
        "Customer cohort anlaysis looks at two things: \n",
        "1. When a customer made their first purchase \n",
        "2. How many months a customer was active after that first purchase\n",
        "\n",
        "If individual customer purchase trends are aggregated, you can easily get a view of the number of active customers monthly relative to when they made their first purchase \n",
        "\n",
        "If this number remains high it means customers are loyal "
      ]
    },
    {
      "cell_type": "markdown",
      "metadata": {
        "id": "gSVNbIohFHlI"
      },
      "source": [
        "\n",
        "Step 1: Get Cohort count matrix"
      ]
    },
    {
      "cell_type": "code",
      "metadata": {
        "id": "M1oVbztS9KJr"
      },
      "source": [
        "# Filter sales table to see data for a specific year \n",
        "\n",
        "filter_years = ['2012']\n",
        "\n",
        "cust_sales_tbl = bike_sales_tbl[bike_sales_tbl['order_year'].isin(filter_years)]"
      ],
      "execution_count": 14,
      "outputs": []
    },
    {
      "cell_type": "code",
      "metadata": {
        "colab": {
          "base_uri": "https://localhost:8080/"
        },
        "id": "yBRnFwtww_uK",
        "outputId": "52fd2dd3-cf81-44eb-e2f1-d9500a8e930b"
      },
      "source": [
        "# Get date of first purchase month by customer \n",
        "grouping = cust_sales_tbl.groupby(['bikeshop_name'])['order_ym']\n",
        "cust_sales_tbl['cohort_ym'] = grouping.transform('min')\n",
        "\n",
        "# Get Month's offset from initial purchase \n",
        "def get_date_int (df, column):\n",
        "    year = df[column].dt.year\n",
        "    month = df[column].dt.month\n",
        "    day = df[column].dt.day\n",
        "    return year, month, day\n",
        "\n",
        "order_year,order_month,_ = get_date_int(cust_sales_tbl,'order_ym')\n",
        "cohort_year,cohort_month,_ = get_date_int(cust_sales_tbl,'cohort_ym')\n",
        "years_diff = order_year - cohort_year\n",
        "months_diff = order_month - cohort_month\n",
        "\n",
        "cust_sales_tbl['cohort_index'] = years_diff*12 + months_diff + 1"
      ],
      "execution_count": 15,
      "outputs": [
        {
          "output_type": "stream",
          "text": [
            "/usr/local/lib/python3.6/dist-packages/ipykernel_launcher.py:3: SettingWithCopyWarning:\n",
            "\n",
            "\n",
            "A value is trying to be set on a copy of a slice from a DataFrame.\n",
            "Try using .loc[row_indexer,col_indexer] = value instead\n",
            "\n",
            "See the caveats in the documentation: https://pandas.pydata.org/pandas-docs/stable/user_guide/indexing.html#returning-a-view-versus-a-copy\n",
            "\n",
            "/usr/local/lib/python3.6/dist-packages/ipykernel_launcher.py:17: SettingWithCopyWarning:\n",
            "\n",
            "\n",
            "A value is trying to be set on a copy of a slice from a DataFrame.\n",
            "Try using .loc[row_indexer,col_indexer] = value instead\n",
            "\n",
            "See the caveats in the documentation: https://pandas.pydata.org/pandas-docs/stable/user_guide/indexing.html#returning-a-view-versus-a-copy\n",
            "\n"
          ],
          "name": "stderr"
        }
      ]
    },
    {
      "cell_type": "code",
      "metadata": {
        "colab": {
          "base_uri": "https://localhost:8080/",
          "height": 434
        },
        "id": "IH5iJ2uM91Hw",
        "outputId": "d0423d0e-df06-4345-87b7-5710066327d3"
      },
      "source": [
        "cust_sales_tbl.head()"
      ],
      "execution_count": 16,
      "outputs": [
        {
          "output_type": "execute_result",
          "data": {
            "application/vnd.google.colaboratory.module+javascript": "\n      import \"https://ssl.gstatic.com/colaboratory/data_table/a6224c040fa35dcf/data_table.js\";\n\n      window.createDataTable({\n        data: [[{\n            'v': 2,\n            'f': \"2\",\n        },\n{\n            'v': 507,\n            'f': \"507\",\n        },\n{\n            'v': 2,\n            'f': \"2\",\n        },\n\"2012-06-26 00:00:00\",\n{\n            'v': 1,\n            'f': \"1\",\n        },\n\"Jekyll Carbon 2\",\n\"Mountain - Over Mountain - Carbon\",\n{\n            'v': 6070,\n            'f': \"6070\",\n        },\n\"Ithaca Mountain Climbers\",\n\"Ithaca, NY\",\n\"Mountain\",\n\"Over Mountain\",\n\"Carbon\",\n{\n            'v': 6,\n            'f': \"6\",\n        },\n{\n            'v': 26,\n            'f': \"26\",\n        },\n{\n            'v': 2012,\n            'f': \"2012\",\n        },\n\"2012-06-01 00:00:00\",\n\"Tuesday\",\n{\n            'v': 6070,\n            'f': \"6070\",\n        },\n\"2012-03-01 00:00:00\",\n{\n            'v': 4,\n            'f': \"4\",\n        }],\n [{\n            'v': 3,\n            'f': \"3\",\n        },\n{\n            'v': 528,\n            'f': \"528\",\n        },\n{\n            'v': 18,\n            'f': \"18\",\n        },\n\"2012-07-16 00:00:00\",\n{\n            'v': 1,\n            'f': \"1\",\n        },\n\"Jekyll Carbon 2\",\n\"Mountain - Over Mountain - Carbon\",\n{\n            'v': 6070,\n            'f': \"6070\",\n        },\n\"Ithaca Mountain Climbers\",\n\"Ithaca, NY\",\n\"Mountain\",\n\"Over Mountain\",\n\"Carbon\",\n{\n            'v': 7,\n            'f': \"7\",\n        },\n{\n            'v': 16,\n            'f': \"16\",\n        },\n{\n            'v': 2012,\n            'f': \"2012\",\n        },\n\"2012-07-01 00:00:00\",\n\"Monday\",\n{\n            'v': 6070,\n            'f': \"6070\",\n        },\n\"2012-03-01 00:00:00\",\n{\n            'v': 5,\n            'f': \"5\",\n        }],\n [{\n            'v': 21,\n            'f': \"21\",\n        },\n{\n            'v': 460,\n            'f': \"460\",\n        },\n{\n            'v': 2,\n            'f': \"2\",\n        },\n\"2012-05-08 00:00:00\",\n{\n            'v': 1,\n            'f': \"1\",\n        },\n\"Trigger Carbon 2\",\n\"Mountain - Over Mountain - Carbon\",\n{\n            'v': 5970,\n            'f': \"5970\",\n        },\n\"Ithaca Mountain Climbers\",\n\"Ithaca, NY\",\n\"Mountain\",\n\"Over Mountain\",\n\"Carbon\",\n{\n            'v': 5,\n            'f': \"5\",\n        },\n{\n            'v': 8,\n            'f': \"8\",\n        },\n{\n            'v': 2012,\n            'f': \"2012\",\n        },\n\"2012-05-01 00:00:00\",\n\"Tuesday\",\n{\n            'v': 5970,\n            'f': \"5970\",\n        },\n\"2012-03-01 00:00:00\",\n{\n            'v': 3,\n            'f': \"3\",\n        }],\n [{\n            'v': 22,\n            'f': \"22\",\n        },\n{\n            'v': 479,\n            'f': \"479\",\n        },\n{\n            'v': 5,\n            'f': \"5\",\n        },\n\"2012-06-06 00:00:00\",\n{\n            'v': 1,\n            'f': \"1\",\n        },\n\"Trigger Carbon 2\",\n\"Mountain - Over Mountain - Carbon\",\n{\n            'v': 5970,\n            'f': \"5970\",\n        },\n\"Ithaca Mountain Climbers\",\n\"Ithaca, NY\",\n\"Mountain\",\n\"Over Mountain\",\n\"Carbon\",\n{\n            'v': 6,\n            'f': \"6\",\n        },\n{\n            'v': 6,\n            'f': \"6\",\n        },\n{\n            'v': 2012,\n            'f': \"2012\",\n        },\n\"2012-06-01 00:00:00\",\n\"Wednesday\",\n{\n            'v': 5970,\n            'f': \"5970\",\n        },\n\"2012-03-01 00:00:00\",\n{\n            'v': 4,\n            'f': \"4\",\n        }],\n [{\n            'v': 23,\n            'f': \"23\",\n        },\n{\n            'v': 507,\n            'f': \"507\",\n        },\n{\n            'v': 9,\n            'f': \"9\",\n        },\n\"2012-06-26 00:00:00\",\n{\n            'v': 1,\n            'f': \"1\",\n        },\n\"Trigger Carbon 2\",\n\"Mountain - Over Mountain - Carbon\",\n{\n            'v': 5970,\n            'f': \"5970\",\n        },\n\"Ithaca Mountain Climbers\",\n\"Ithaca, NY\",\n\"Mountain\",\n\"Over Mountain\",\n\"Carbon\",\n{\n            'v': 6,\n            'f': \"6\",\n        },\n{\n            'v': 26,\n            'f': \"26\",\n        },\n{\n            'v': 2012,\n            'f': \"2012\",\n        },\n\"2012-06-01 00:00:00\",\n\"Tuesday\",\n{\n            'v': 5970,\n            'f': \"5970\",\n        },\n\"2012-03-01 00:00:00\",\n{\n            'v': 4,\n            'f': \"4\",\n        }]],\n        columns: [[\"number\", \"index\"], [\"number\", \"order_id\"], [\"number\", \"order_line\"], [\"string\", \"order_date\"], [\"number\", \"quantity\"], [\"string\", \"model\"], [\"string\", \"description\"], [\"number\", \"price\"], [\"string\", \"bikeshop_name\"], [\"string\", \"location\"], [\"string\", \"major_category\"], [\"string\", \"minor_category\"], [\"string\", \"frame_material\"], [\"number\", \"order_month\"], [\"number\", \"order_day\"], [\"number\", \"order_year\"], [\"string\", \"order_ym\"], [\"string\", \"order_weekday\"], [\"number\", \"sales_value\"], [\"string\", \"cohort_ym\"], [\"number\", \"cohort_index\"]],\n        columnOptions: [{\"width\": \"1px\", \"className\": \"index_column\"}],\n        rowsPerPage: 25,\n        helpUrl: \"https://colab.research.google.com/notebooks/data_table.ipynb\",\n        suppressOutputScrolling: true,\n        minimumWidth: undefined,\n      });\n    ",
            "text/html": [
              "<div>\n",
              "<style scoped>\n",
              "    .dataframe tbody tr th:only-of-type {\n",
              "        vertical-align: middle;\n",
              "    }\n",
              "\n",
              "    .dataframe tbody tr th {\n",
              "        vertical-align: top;\n",
              "    }\n",
              "\n",
              "    .dataframe thead th {\n",
              "        text-align: right;\n",
              "    }\n",
              "</style>\n",
              "<table border=\"1\" class=\"dataframe\">\n",
              "  <thead>\n",
              "    <tr style=\"text-align: right;\">\n",
              "      <th></th>\n",
              "      <th>order_id</th>\n",
              "      <th>order_line</th>\n",
              "      <th>order_date</th>\n",
              "      <th>quantity</th>\n",
              "      <th>model</th>\n",
              "      <th>description</th>\n",
              "      <th>price</th>\n",
              "      <th>bikeshop_name</th>\n",
              "      <th>location</th>\n",
              "      <th>major_category</th>\n",
              "      <th>minor_category</th>\n",
              "      <th>frame_material</th>\n",
              "      <th>order_month</th>\n",
              "      <th>order_day</th>\n",
              "      <th>order_year</th>\n",
              "      <th>order_ym</th>\n",
              "      <th>order_weekday</th>\n",
              "      <th>sales_value</th>\n",
              "      <th>cohort_ym</th>\n",
              "      <th>cohort_index</th>\n",
              "    </tr>\n",
              "  </thead>\n",
              "  <tbody>\n",
              "    <tr>\n",
              "      <th>2</th>\n",
              "      <td>507</td>\n",
              "      <td>2</td>\n",
              "      <td>2012-06-26</td>\n",
              "      <td>1</td>\n",
              "      <td>Jekyll Carbon 2</td>\n",
              "      <td>Mountain - Over Mountain - Carbon</td>\n",
              "      <td>6070</td>\n",
              "      <td>Ithaca Mountain Climbers</td>\n",
              "      <td>Ithaca, NY</td>\n",
              "      <td>Mountain</td>\n",
              "      <td>Over Mountain</td>\n",
              "      <td>Carbon</td>\n",
              "      <td>6</td>\n",
              "      <td>26</td>\n",
              "      <td>2012</td>\n",
              "      <td>2012-06-01</td>\n",
              "      <td>Tuesday</td>\n",
              "      <td>6070</td>\n",
              "      <td>2012-03-01</td>\n",
              "      <td>4</td>\n",
              "    </tr>\n",
              "    <tr>\n",
              "      <th>3</th>\n",
              "      <td>528</td>\n",
              "      <td>18</td>\n",
              "      <td>2012-07-16</td>\n",
              "      <td>1</td>\n",
              "      <td>Jekyll Carbon 2</td>\n",
              "      <td>Mountain - Over Mountain - Carbon</td>\n",
              "      <td>6070</td>\n",
              "      <td>Ithaca Mountain Climbers</td>\n",
              "      <td>Ithaca, NY</td>\n",
              "      <td>Mountain</td>\n",
              "      <td>Over Mountain</td>\n",
              "      <td>Carbon</td>\n",
              "      <td>7</td>\n",
              "      <td>16</td>\n",
              "      <td>2012</td>\n",
              "      <td>2012-07-01</td>\n",
              "      <td>Monday</td>\n",
              "      <td>6070</td>\n",
              "      <td>2012-03-01</td>\n",
              "      <td>5</td>\n",
              "    </tr>\n",
              "    <tr>\n",
              "      <th>21</th>\n",
              "      <td>460</td>\n",
              "      <td>2</td>\n",
              "      <td>2012-05-08</td>\n",
              "      <td>1</td>\n",
              "      <td>Trigger Carbon 2</td>\n",
              "      <td>Mountain - Over Mountain - Carbon</td>\n",
              "      <td>5970</td>\n",
              "      <td>Ithaca Mountain Climbers</td>\n",
              "      <td>Ithaca, NY</td>\n",
              "      <td>Mountain</td>\n",
              "      <td>Over Mountain</td>\n",
              "      <td>Carbon</td>\n",
              "      <td>5</td>\n",
              "      <td>8</td>\n",
              "      <td>2012</td>\n",
              "      <td>2012-05-01</td>\n",
              "      <td>Tuesday</td>\n",
              "      <td>5970</td>\n",
              "      <td>2012-03-01</td>\n",
              "      <td>3</td>\n",
              "    </tr>\n",
              "    <tr>\n",
              "      <th>22</th>\n",
              "      <td>479</td>\n",
              "      <td>5</td>\n",
              "      <td>2012-06-06</td>\n",
              "      <td>1</td>\n",
              "      <td>Trigger Carbon 2</td>\n",
              "      <td>Mountain - Over Mountain - Carbon</td>\n",
              "      <td>5970</td>\n",
              "      <td>Ithaca Mountain Climbers</td>\n",
              "      <td>Ithaca, NY</td>\n",
              "      <td>Mountain</td>\n",
              "      <td>Over Mountain</td>\n",
              "      <td>Carbon</td>\n",
              "      <td>6</td>\n",
              "      <td>6</td>\n",
              "      <td>2012</td>\n",
              "      <td>2012-06-01</td>\n",
              "      <td>Wednesday</td>\n",
              "      <td>5970</td>\n",
              "      <td>2012-03-01</td>\n",
              "      <td>4</td>\n",
              "    </tr>\n",
              "    <tr>\n",
              "      <th>23</th>\n",
              "      <td>507</td>\n",
              "      <td>9</td>\n",
              "      <td>2012-06-26</td>\n",
              "      <td>1</td>\n",
              "      <td>Trigger Carbon 2</td>\n",
              "      <td>Mountain - Over Mountain - Carbon</td>\n",
              "      <td>5970</td>\n",
              "      <td>Ithaca Mountain Climbers</td>\n",
              "      <td>Ithaca, NY</td>\n",
              "      <td>Mountain</td>\n",
              "      <td>Over Mountain</td>\n",
              "      <td>Carbon</td>\n",
              "      <td>6</td>\n",
              "      <td>26</td>\n",
              "      <td>2012</td>\n",
              "      <td>2012-06-01</td>\n",
              "      <td>Tuesday</td>\n",
              "      <td>5970</td>\n",
              "      <td>2012-03-01</td>\n",
              "      <td>4</td>\n",
              "    </tr>\n",
              "  </tbody>\n",
              "</table>\n",
              "</div>"
            ],
            "text/plain": [
              "    order_id  order_line order_date  ...  sales_value  cohort_ym cohort_index\n",
              "2        507           2 2012-06-26  ...         6070 2012-03-01            4\n",
              "3        528          18 2012-07-16  ...         6070 2012-03-01            5\n",
              "21       460           2 2012-05-08  ...         5970 2012-03-01            3\n",
              "22       479           5 2012-06-06  ...         5970 2012-03-01            4\n",
              "23       507           9 2012-06-26  ...         5970 2012-03-01            4\n",
              "\n",
              "[5 rows x 20 columns]"
            ]
          },
          "metadata": {
            "tags": []
          },
          "execution_count": 16
        }
      ]
    },
    {
      "cell_type": "code",
      "metadata": {
        "colab": {
          "base_uri": "https://localhost:8080/"
        },
        "id": "rpGfWO679zjH",
        "outputId": "3c0aaf37-ca5f-42b6-f692-42e255825e41"
      },
      "source": [
        "# Count No of monthly active customers from each cohort \n",
        "\n",
        "grouping = cust_sales_tbl.groupby(['cohort_ym','cohort_index'])\n",
        "cohort_data = grouping['bikeshop_name'].apply(pd.Series.nunique).reset_index()\n",
        "cohort_counts = cohort_data.pivot(index = 'cohort_ym',columns = 'cohort_index',values = 'bikeshop_name')\n",
        "\n",
        "print(cohort_counts)"
      ],
      "execution_count": 17,
      "outputs": [
        {
          "output_type": "stream",
          "text": [
            "cohort_index    1    2    3    4    5    6    7    8    9    10   11   12\n",
            "cohort_ym                                                                \n",
            "2012-01-01    11.0  8.0  8.0  9.0  5.0  8.0  8.0  5.0  6.0  7.0  8.0  8.0\n",
            "2012-02-01     9.0  6.0  7.0  4.0  2.0  3.0  6.0  3.0  4.0  3.0  1.0  NaN\n",
            "2012-03-01     7.0  4.0  2.0  3.0  2.0  4.0  4.0  2.0  3.0  1.0  NaN  NaN\n",
            "2012-06-01     2.0  2.0  1.0  1.0  1.0  NaN  NaN  NaN  NaN  NaN  NaN  NaN\n",
            "2012-07-01     1.0  NaN  NaN  NaN  1.0  NaN  NaN  NaN  NaN  NaN  NaN  NaN\n"
          ],
          "name": "stdout"
        }
      ]
    },
    {
      "cell_type": "markdown",
      "metadata": {
        "id": "1g4rGqgHFc9z"
      },
      "source": [
        "Step 2: Calculate cohort metrics"
      ]
    },
    {
      "cell_type": "markdown",
      "metadata": {
        "id": "--k-fvAsG-MV"
      },
      "source": [
        "Calculate retention rate (%)"
      ]
    },
    {
      "cell_type": "code",
      "metadata": {
        "colab": {
          "base_uri": "https://localhost:8080/",
          "height": 194
        },
        "id": "xK7sYCbsFcDw",
        "outputId": "1677d858-ab29-454a-c19f-de9a1778e7d5"
      },
      "source": [
        "cohort_sizes = cohort_counts.iloc[:,0]\n",
        "retention = cohort_counts.divide(cohort_sizes, axis = 0).round(3)\n",
        "retention = retention.reset_index()\n",
        "retention"
      ],
      "execution_count": 18,
      "outputs": [
        {
          "output_type": "execute_result",
          "data": {
            "application/vnd.google.colaboratory.module+javascript": "\n      import \"https://ssl.gstatic.com/colaboratory/data_table/a6224c040fa35dcf/data_table.js\";\n\n      window.createDataTable({\n        data: [[{\n            'v': 0,\n            'f': \"0\",\n        },\n\"2012-01-01 00:00:00\",\n{\n            'v': 1.0,\n            'f': \"1.0\",\n        },\n{\n            'v': 0.727,\n            'f': \"0.727\",\n        },\n{\n            'v': 0.727,\n            'f': \"0.727\",\n        },\n{\n            'v': 0.818,\n            'f': \"0.818\",\n        },\n{\n            'v': 0.455,\n            'f': \"0.455\",\n        },\n{\n            'v': 0.727,\n            'f': \"0.727\",\n        },\n{\n            'v': 0.727,\n            'f': \"0.727\",\n        },\n{\n            'v': 0.455,\n            'f': \"0.455\",\n        },\n{\n            'v': 0.545,\n            'f': \"0.545\",\n        },\n{\n            'v': 0.636,\n            'f': \"0.636\",\n        },\n{\n            'v': 0.727,\n            'f': \"0.727\",\n        },\n{\n            'v': 0.727,\n            'f': \"0.727\",\n        }],\n [{\n            'v': 1,\n            'f': \"1\",\n        },\n\"2012-02-01 00:00:00\",\n{\n            'v': 1.0,\n            'f': \"1.0\",\n        },\n{\n            'v': 0.667,\n            'f': \"0.667\",\n        },\n{\n            'v': 0.778,\n            'f': \"0.778\",\n        },\n{\n            'v': 0.444,\n            'f': \"0.444\",\n        },\n{\n            'v': 0.222,\n            'f': \"0.222\",\n        },\n{\n            'v': 0.333,\n            'f': \"0.333\",\n        },\n{\n            'v': 0.667,\n            'f': \"0.667\",\n        },\n{\n            'v': 0.333,\n            'f': \"0.333\",\n        },\n{\n            'v': 0.444,\n            'f': \"0.444\",\n        },\n{\n            'v': 0.333,\n            'f': \"0.333\",\n        },\n{\n            'v': 0.111,\n            'f': \"0.111\",\n        },\n{\n            'v': NaN,\n            'f': \"NaN\",\n        }],\n [{\n            'v': 2,\n            'f': \"2\",\n        },\n\"2012-03-01 00:00:00\",\n{\n            'v': 1.0,\n            'f': \"1.0\",\n        },\n{\n            'v': 0.571,\n            'f': \"0.571\",\n        },\n{\n            'v': 0.286,\n            'f': \"0.286\",\n        },\n{\n            'v': 0.429,\n            'f': \"0.429\",\n        },\n{\n            'v': 0.286,\n            'f': \"0.286\",\n        },\n{\n            'v': 0.571,\n            'f': \"0.571\",\n        },\n{\n            'v': 0.571,\n            'f': \"0.571\",\n        },\n{\n            'v': 0.286,\n            'f': \"0.286\",\n        },\n{\n            'v': 0.429,\n            'f': \"0.429\",\n        },\n{\n            'v': 0.143,\n            'f': \"0.143\",\n        },\n{\n            'v': NaN,\n            'f': \"NaN\",\n        },\n{\n            'v': NaN,\n            'f': \"NaN\",\n        }],\n [{\n            'v': 3,\n            'f': \"3\",\n        },\n\"2012-06-01 00:00:00\",\n{\n            'v': 1.0,\n            'f': \"1.0\",\n        },\n{\n            'v': 1.0,\n            'f': \"1.0\",\n        },\n{\n            'v': 0.5,\n            'f': \"0.5\",\n        },\n{\n            'v': 0.5,\n            'f': \"0.5\",\n        },\n{\n            'v': 0.5,\n            'f': \"0.5\",\n        },\n{\n            'v': NaN,\n            'f': \"NaN\",\n        },\n{\n            'v': NaN,\n            'f': \"NaN\",\n        },\n{\n            'v': NaN,\n            'f': \"NaN\",\n        },\n{\n            'v': NaN,\n            'f': \"NaN\",\n        },\n{\n            'v': NaN,\n            'f': \"NaN\",\n        },\n{\n            'v': NaN,\n            'f': \"NaN\",\n        },\n{\n            'v': NaN,\n            'f': \"NaN\",\n        }],\n [{\n            'v': 4,\n            'f': \"4\",\n        },\n\"2012-07-01 00:00:00\",\n{\n            'v': 1.0,\n            'f': \"1.0\",\n        },\n{\n            'v': NaN,\n            'f': \"NaN\",\n        },\n{\n            'v': NaN,\n            'f': \"NaN\",\n        },\n{\n            'v': NaN,\n            'f': \"NaN\",\n        },\n{\n            'v': 1.0,\n            'f': \"1.0\",\n        },\n{\n            'v': NaN,\n            'f': \"NaN\",\n        },\n{\n            'v': NaN,\n            'f': \"NaN\",\n        },\n{\n            'v': NaN,\n            'f': \"NaN\",\n        },\n{\n            'v': NaN,\n            'f': \"NaN\",\n        },\n{\n            'v': NaN,\n            'f': \"NaN\",\n        },\n{\n            'v': NaN,\n            'f': \"NaN\",\n        },\n{\n            'v': NaN,\n            'f': \"NaN\",\n        }]],\n        columns: [[\"number\", \"index\"], [\"string\", \"cohort_ym\"], [\"number\", \"1\"], [\"number\", \"2\"], [\"number\", \"3\"], [\"number\", \"4\"], [\"number\", \"5\"], [\"number\", \"6\"], [\"number\", \"7\"], [\"number\", \"8\"], [\"number\", \"9\"], [\"number\", \"10\"], [\"number\", \"11\"], [\"number\", \"12\"]],\n        columnOptions: [{\"width\": \"1px\", \"className\": \"index_column\"}],\n        rowsPerPage: 25,\n        helpUrl: \"https://colab.research.google.com/notebooks/data_table.ipynb\",\n        suppressOutputScrolling: true,\n        minimumWidth: undefined,\n      });\n    ",
            "text/html": [
              "<div>\n",
              "<style scoped>\n",
              "    .dataframe tbody tr th:only-of-type {\n",
              "        vertical-align: middle;\n",
              "    }\n",
              "\n",
              "    .dataframe tbody tr th {\n",
              "        vertical-align: top;\n",
              "    }\n",
              "\n",
              "    .dataframe thead th {\n",
              "        text-align: right;\n",
              "    }\n",
              "</style>\n",
              "<table border=\"1\" class=\"dataframe\">\n",
              "  <thead>\n",
              "    <tr style=\"text-align: right;\">\n",
              "      <th>cohort_index</th>\n",
              "      <th>cohort_ym</th>\n",
              "      <th>1</th>\n",
              "      <th>2</th>\n",
              "      <th>3</th>\n",
              "      <th>4</th>\n",
              "      <th>5</th>\n",
              "      <th>6</th>\n",
              "      <th>7</th>\n",
              "      <th>8</th>\n",
              "      <th>9</th>\n",
              "      <th>10</th>\n",
              "      <th>11</th>\n",
              "      <th>12</th>\n",
              "    </tr>\n",
              "  </thead>\n",
              "  <tbody>\n",
              "    <tr>\n",
              "      <th>0</th>\n",
              "      <td>2012-01-01</td>\n",
              "      <td>1.0</td>\n",
              "      <td>0.727</td>\n",
              "      <td>0.727</td>\n",
              "      <td>0.818</td>\n",
              "      <td>0.455</td>\n",
              "      <td>0.727</td>\n",
              "      <td>0.727</td>\n",
              "      <td>0.455</td>\n",
              "      <td>0.545</td>\n",
              "      <td>0.636</td>\n",
              "      <td>0.727</td>\n",
              "      <td>0.727</td>\n",
              "    </tr>\n",
              "    <tr>\n",
              "      <th>1</th>\n",
              "      <td>2012-02-01</td>\n",
              "      <td>1.0</td>\n",
              "      <td>0.667</td>\n",
              "      <td>0.778</td>\n",
              "      <td>0.444</td>\n",
              "      <td>0.222</td>\n",
              "      <td>0.333</td>\n",
              "      <td>0.667</td>\n",
              "      <td>0.333</td>\n",
              "      <td>0.444</td>\n",
              "      <td>0.333</td>\n",
              "      <td>0.111</td>\n",
              "      <td>NaN</td>\n",
              "    </tr>\n",
              "    <tr>\n",
              "      <th>2</th>\n",
              "      <td>2012-03-01</td>\n",
              "      <td>1.0</td>\n",
              "      <td>0.571</td>\n",
              "      <td>0.286</td>\n",
              "      <td>0.429</td>\n",
              "      <td>0.286</td>\n",
              "      <td>0.571</td>\n",
              "      <td>0.571</td>\n",
              "      <td>0.286</td>\n",
              "      <td>0.429</td>\n",
              "      <td>0.143</td>\n",
              "      <td>NaN</td>\n",
              "      <td>NaN</td>\n",
              "    </tr>\n",
              "    <tr>\n",
              "      <th>3</th>\n",
              "      <td>2012-06-01</td>\n",
              "      <td>1.0</td>\n",
              "      <td>1.000</td>\n",
              "      <td>0.500</td>\n",
              "      <td>0.500</td>\n",
              "      <td>0.500</td>\n",
              "      <td>NaN</td>\n",
              "      <td>NaN</td>\n",
              "      <td>NaN</td>\n",
              "      <td>NaN</td>\n",
              "      <td>NaN</td>\n",
              "      <td>NaN</td>\n",
              "      <td>NaN</td>\n",
              "    </tr>\n",
              "    <tr>\n",
              "      <th>4</th>\n",
              "      <td>2012-07-01</td>\n",
              "      <td>1.0</td>\n",
              "      <td>NaN</td>\n",
              "      <td>NaN</td>\n",
              "      <td>NaN</td>\n",
              "      <td>1.000</td>\n",
              "      <td>NaN</td>\n",
              "      <td>NaN</td>\n",
              "      <td>NaN</td>\n",
              "      <td>NaN</td>\n",
              "      <td>NaN</td>\n",
              "      <td>NaN</td>\n",
              "      <td>NaN</td>\n",
              "    </tr>\n",
              "  </tbody>\n",
              "</table>\n",
              "</div>"
            ],
            "text/plain": [
              "cohort_index  cohort_ym    1      2      3  ...      9     10     11     12\n",
              "0            2012-01-01  1.0  0.727  0.727  ...  0.545  0.636  0.727  0.727\n",
              "1            2012-02-01  1.0  0.667  0.778  ...  0.444  0.333  0.111    NaN\n",
              "2            2012-03-01  1.0  0.571  0.286  ...  0.429  0.143    NaN    NaN\n",
              "3            2012-06-01  1.0  1.000  0.500  ...    NaN    NaN    NaN    NaN\n",
              "4            2012-07-01  1.0    NaN    NaN  ...    NaN    NaN    NaN    NaN\n",
              "\n",
              "[5 rows x 13 columns]"
            ]
          },
          "metadata": {
            "tags": []
          },
          "execution_count": 18
        }
      ]
    },
    {
      "cell_type": "markdown",
      "metadata": {
        "id": "t8QRCq_E-qck"
      },
      "source": [
        "Show heatmap active customer matrix\n"
      ]
    },
    {
      "cell_type": "code",
      "metadata": {
        "colab": {
          "base_uri": "https://localhost:8080/",
          "height": 265
        },
        "id": "Uvgb0r2zEsFn",
        "outputId": "a5911560-ff15-4756-8ecc-887973c1894b"
      },
      "source": [
        "base = alt.Chart(cohort_data).encode(\n",
        "    alt.X('cohort_index:O', scale=alt.Scale(paddingInner=0)),\n",
        "    alt.Y('cohort_ym:O', scale=alt.Scale(paddingInner=0)),\n",
        ").properties(width=600, height=200)\n",
        "\n",
        "heatmap = base.mark_rect().encode(\n",
        "    color = alt.Color('bikeshop_name',scale=alt.Scale(scheme='blues'))\n",
        ")\n",
        "text = base.mark_text(baseline = 'middle').encode(\n",
        "    text = 'bikeshop_name:Q',\n",
        "    color = alt.condition(\n",
        "        alt.datum.bikeshop_name > 7,\n",
        "        alt.value('white'),\n",
        "        alt.value('black')\n",
        "        )\n",
        ")\n",
        "    \n",
        "heatmap + text"
      ],
      "execution_count": 19,
      "outputs": [
        {
          "output_type": "execute_result",
          "data": {
            "text/plain": [
              "alt.LayerChart(...)"
            ],
            "text/html": [
              "\n",
              "<div id=\"altair-viz-dbe2c7bf702046a58356c15bc84194c7\"></div>\n",
              "<script type=\"text/javascript\">\n",
              "  (function(spec, embedOpt){\n",
              "    let outputDiv = document.currentScript.previousElementSibling;\n",
              "    if (outputDiv.id !== \"altair-viz-dbe2c7bf702046a58356c15bc84194c7\") {\n",
              "      outputDiv = document.getElementById(\"altair-viz-dbe2c7bf702046a58356c15bc84194c7\");\n",
              "    }\n",
              "    const paths = {\n",
              "      \"vega\": \"https://cdn.jsdelivr.net/npm//vega@5?noext\",\n",
              "      \"vega-lib\": \"https://cdn.jsdelivr.net/npm//vega-lib?noext\",\n",
              "      \"vega-lite\": \"https://cdn.jsdelivr.net/npm//vega-lite@4.8.1?noext\",\n",
              "      \"vega-embed\": \"https://cdn.jsdelivr.net/npm//vega-embed@6?noext\",\n",
              "    };\n",
              "\n",
              "    function loadScript(lib) {\n",
              "      return new Promise(function(resolve, reject) {\n",
              "        var s = document.createElement('script');\n",
              "        s.src = paths[lib];\n",
              "        s.async = true;\n",
              "        s.onload = () => resolve(paths[lib]);\n",
              "        s.onerror = () => reject(`Error loading script: ${paths[lib]}`);\n",
              "        document.getElementsByTagName(\"head\")[0].appendChild(s);\n",
              "      });\n",
              "    }\n",
              "\n",
              "    function showError(err) {\n",
              "      outputDiv.innerHTML = `<div class=\"error\" style=\"color:red;\">${err}</div>`;\n",
              "      throw err;\n",
              "    }\n",
              "\n",
              "    function displayChart(vegaEmbed) {\n",
              "      vegaEmbed(outputDiv, spec, embedOpt)\n",
              "        .catch(err => showError(`Javascript Error: ${err.message}<br>This usually means there's a typo in your chart specification. See the javascript console for the full traceback.`));\n",
              "    }\n",
              "\n",
              "    if(typeof define === \"function\" && define.amd) {\n",
              "      requirejs.config({paths});\n",
              "      require([\"vega-embed\"], displayChart, err => showError(`Error loading script: ${err.message}`));\n",
              "    } else if (typeof vegaEmbed === \"function\") {\n",
              "      displayChart(vegaEmbed);\n",
              "    } else {\n",
              "      loadScript(\"vega\")\n",
              "        .then(() => loadScript(\"vega-lite\"))\n",
              "        .then(() => loadScript(\"vega-embed\"))\n",
              "        .catch(showError)\n",
              "        .then(() => displayChart(vegaEmbed));\n",
              "    }\n",
              "  })({\"config\": {\"view\": {\"continuousWidth\": 400, \"continuousHeight\": 300}}, \"layer\": [{\"mark\": \"rect\", \"encoding\": {\"color\": {\"type\": \"quantitative\", \"field\": \"bikeshop_name\", \"scale\": {\"scheme\": \"blues\"}}, \"x\": {\"type\": \"ordinal\", \"field\": \"cohort_index\", \"scale\": {\"paddingInner\": 0}}, \"y\": {\"type\": \"ordinal\", \"field\": \"cohort_ym\", \"scale\": {\"paddingInner\": 0}}}, \"height\": 200, \"width\": 600}, {\"mark\": {\"type\": \"text\", \"baseline\": \"middle\"}, \"encoding\": {\"color\": {\"condition\": {\"value\": \"white\", \"test\": \"(datum.bikeshop_name > 7)\"}, \"value\": \"black\"}, \"text\": {\"type\": \"quantitative\", \"field\": \"bikeshop_name\"}, \"x\": {\"type\": \"ordinal\", \"field\": \"cohort_index\", \"scale\": {\"paddingInner\": 0}}, \"y\": {\"type\": \"ordinal\", \"field\": \"cohort_ym\", \"scale\": {\"paddingInner\": 0}}}, \"height\": 200, \"width\": 600}], \"data\": {\"name\": \"data-46398b2e905cfce9a7226afd8e2bd649\"}, \"$schema\": \"https://vega.github.io/schema/vega-lite/v4.8.1.json\", \"datasets\": {\"data-46398b2e905cfce9a7226afd8e2bd649\": [{\"cohort_ym\": \"2012-01-01T00:00:00\", \"cohort_index\": 1, \"bikeshop_name\": 11}, {\"cohort_ym\": \"2012-01-01T00:00:00\", \"cohort_index\": 2, \"bikeshop_name\": 8}, {\"cohort_ym\": \"2012-01-01T00:00:00\", \"cohort_index\": 3, \"bikeshop_name\": 8}, {\"cohort_ym\": \"2012-01-01T00:00:00\", \"cohort_index\": 4, \"bikeshop_name\": 9}, {\"cohort_ym\": \"2012-01-01T00:00:00\", \"cohort_index\": 5, \"bikeshop_name\": 5}, {\"cohort_ym\": \"2012-01-01T00:00:00\", \"cohort_index\": 6, \"bikeshop_name\": 8}, {\"cohort_ym\": \"2012-01-01T00:00:00\", \"cohort_index\": 7, \"bikeshop_name\": 8}, {\"cohort_ym\": \"2012-01-01T00:00:00\", \"cohort_index\": 8, \"bikeshop_name\": 5}, {\"cohort_ym\": \"2012-01-01T00:00:00\", \"cohort_index\": 9, \"bikeshop_name\": 6}, {\"cohort_ym\": \"2012-01-01T00:00:00\", \"cohort_index\": 10, \"bikeshop_name\": 7}, {\"cohort_ym\": \"2012-01-01T00:00:00\", \"cohort_index\": 11, \"bikeshop_name\": 8}, {\"cohort_ym\": \"2012-01-01T00:00:00\", \"cohort_index\": 12, \"bikeshop_name\": 8}, {\"cohort_ym\": \"2012-02-01T00:00:00\", \"cohort_index\": 1, \"bikeshop_name\": 9}, {\"cohort_ym\": \"2012-02-01T00:00:00\", \"cohort_index\": 2, \"bikeshop_name\": 6}, {\"cohort_ym\": \"2012-02-01T00:00:00\", \"cohort_index\": 3, \"bikeshop_name\": 7}, {\"cohort_ym\": \"2012-02-01T00:00:00\", \"cohort_index\": 4, \"bikeshop_name\": 4}, {\"cohort_ym\": \"2012-02-01T00:00:00\", \"cohort_index\": 5, \"bikeshop_name\": 2}, {\"cohort_ym\": \"2012-02-01T00:00:00\", \"cohort_index\": 6, \"bikeshop_name\": 3}, {\"cohort_ym\": \"2012-02-01T00:00:00\", \"cohort_index\": 7, \"bikeshop_name\": 6}, {\"cohort_ym\": \"2012-02-01T00:00:00\", \"cohort_index\": 8, \"bikeshop_name\": 3}, {\"cohort_ym\": \"2012-02-01T00:00:00\", \"cohort_index\": 9, \"bikeshop_name\": 4}, {\"cohort_ym\": \"2012-02-01T00:00:00\", \"cohort_index\": 10, \"bikeshop_name\": 3}, {\"cohort_ym\": \"2012-02-01T00:00:00\", \"cohort_index\": 11, \"bikeshop_name\": 1}, {\"cohort_ym\": \"2012-03-01T00:00:00\", \"cohort_index\": 1, \"bikeshop_name\": 7}, {\"cohort_ym\": \"2012-03-01T00:00:00\", \"cohort_index\": 2, \"bikeshop_name\": 4}, {\"cohort_ym\": \"2012-03-01T00:00:00\", \"cohort_index\": 3, \"bikeshop_name\": 2}, {\"cohort_ym\": \"2012-03-01T00:00:00\", \"cohort_index\": 4, \"bikeshop_name\": 3}, {\"cohort_ym\": \"2012-03-01T00:00:00\", \"cohort_index\": 5, \"bikeshop_name\": 2}, {\"cohort_ym\": \"2012-03-01T00:00:00\", \"cohort_index\": 6, \"bikeshop_name\": 4}, {\"cohort_ym\": \"2012-03-01T00:00:00\", \"cohort_index\": 7, \"bikeshop_name\": 4}, {\"cohort_ym\": \"2012-03-01T00:00:00\", \"cohort_index\": 8, \"bikeshop_name\": 2}, {\"cohort_ym\": \"2012-03-01T00:00:00\", \"cohort_index\": 9, \"bikeshop_name\": 3}, {\"cohort_ym\": \"2012-03-01T00:00:00\", \"cohort_index\": 10, \"bikeshop_name\": 1}, {\"cohort_ym\": \"2012-06-01T00:00:00\", \"cohort_index\": 1, \"bikeshop_name\": 2}, {\"cohort_ym\": \"2012-06-01T00:00:00\", \"cohort_index\": 2, \"bikeshop_name\": 2}, {\"cohort_ym\": \"2012-06-01T00:00:00\", \"cohort_index\": 3, \"bikeshop_name\": 1}, {\"cohort_ym\": \"2012-06-01T00:00:00\", \"cohort_index\": 4, \"bikeshop_name\": 1}, {\"cohort_ym\": \"2012-06-01T00:00:00\", \"cohort_index\": 5, \"bikeshop_name\": 1}, {\"cohort_ym\": \"2012-07-01T00:00:00\", \"cohort_index\": 1, \"bikeshop_name\": 1}, {\"cohort_ym\": \"2012-07-01T00:00:00\", \"cohort_index\": 5, \"bikeshop_name\": 1}]}}, {\"mode\": \"vega-lite\"});\n",
              "</script>"
            ]
          },
          "metadata": {
            "tags": []
          },
          "execution_count": 19
        }
      ]
    },
    {
      "cell_type": "markdown",
      "metadata": {
        "id": "Gm0jhRHVOzcR"
      },
      "source": [
        "Show heatmap customer retention rate (%) matrix"
      ]
    },
    {
      "cell_type": "code",
      "metadata": {
        "colab": {
          "base_uri": "https://localhost:8080/",
          "height": 614
        },
        "id": "HzgqLieE-pXk",
        "outputId": "3f9f6b86-08cc-426e-86fd-b68827b9a3fe"
      },
      "source": [
        "# Convert retention matrix from wide to long\n",
        "retention_data = pd.melt(retention, id_vars = ['cohort_ym'],value_name = 'retention_pct')\n",
        "retention_data.head(25)"
      ],
      "execution_count": 20,
      "outputs": [
        {
          "output_type": "execute_result",
          "data": {
            "application/vnd.google.colaboratory.module+javascript": "\n      import \"https://ssl.gstatic.com/colaboratory/data_table/a6224c040fa35dcf/data_table.js\";\n\n      window.createDataTable({\n        data: [[{\n            'v': 0,\n            'f': \"0\",\n        },\n\"2012-01-01 00:00:00\",\n{\n            'v': 1,\n            'f': \"1\",\n        },\n{\n            'v': 1.0,\n            'f': \"1.0\",\n        }],\n [{\n            'v': 1,\n            'f': \"1\",\n        },\n\"2012-02-01 00:00:00\",\n{\n            'v': 1,\n            'f': \"1\",\n        },\n{\n            'v': 1.0,\n            'f': \"1.0\",\n        }],\n [{\n            'v': 2,\n            'f': \"2\",\n        },\n\"2012-03-01 00:00:00\",\n{\n            'v': 1,\n            'f': \"1\",\n        },\n{\n            'v': 1.0,\n            'f': \"1.0\",\n        }],\n [{\n            'v': 3,\n            'f': \"3\",\n        },\n\"2012-06-01 00:00:00\",\n{\n            'v': 1,\n            'f': \"1\",\n        },\n{\n            'v': 1.0,\n            'f': \"1.0\",\n        }],\n [{\n            'v': 4,\n            'f': \"4\",\n        },\n\"2012-07-01 00:00:00\",\n{\n            'v': 1,\n            'f': \"1\",\n        },\n{\n            'v': 1.0,\n            'f': \"1.0\",\n        }],\n [{\n            'v': 5,\n            'f': \"5\",\n        },\n\"2012-01-01 00:00:00\",\n{\n            'v': 2,\n            'f': \"2\",\n        },\n{\n            'v': 0.727,\n            'f': \"0.727\",\n        }],\n [{\n            'v': 6,\n            'f': \"6\",\n        },\n\"2012-02-01 00:00:00\",\n{\n            'v': 2,\n            'f': \"2\",\n        },\n{\n            'v': 0.667,\n            'f': \"0.667\",\n        }],\n [{\n            'v': 7,\n            'f': \"7\",\n        },\n\"2012-03-01 00:00:00\",\n{\n            'v': 2,\n            'f': \"2\",\n        },\n{\n            'v': 0.571,\n            'f': \"0.571\",\n        }],\n [{\n            'v': 8,\n            'f': \"8\",\n        },\n\"2012-06-01 00:00:00\",\n{\n            'v': 2,\n            'f': \"2\",\n        },\n{\n            'v': 1.0,\n            'f': \"1.0\",\n        }],\n [{\n            'v': 9,\n            'f': \"9\",\n        },\n\"2012-07-01 00:00:00\",\n{\n            'v': 2,\n            'f': \"2\",\n        },\n{\n            'v': NaN,\n            'f': \"NaN\",\n        }],\n [{\n            'v': 10,\n            'f': \"10\",\n        },\n\"2012-01-01 00:00:00\",\n{\n            'v': 3,\n            'f': \"3\",\n        },\n{\n            'v': 0.727,\n            'f': \"0.727\",\n        }],\n [{\n            'v': 11,\n            'f': \"11\",\n        },\n\"2012-02-01 00:00:00\",\n{\n            'v': 3,\n            'f': \"3\",\n        },\n{\n            'v': 0.778,\n            'f': \"0.778\",\n        }],\n [{\n            'v': 12,\n            'f': \"12\",\n        },\n\"2012-03-01 00:00:00\",\n{\n            'v': 3,\n            'f': \"3\",\n        },\n{\n            'v': 0.286,\n            'f': \"0.286\",\n        }],\n [{\n            'v': 13,\n            'f': \"13\",\n        },\n\"2012-06-01 00:00:00\",\n{\n            'v': 3,\n            'f': \"3\",\n        },\n{\n            'v': 0.5,\n            'f': \"0.5\",\n        }],\n [{\n            'v': 14,\n            'f': \"14\",\n        },\n\"2012-07-01 00:00:00\",\n{\n            'v': 3,\n            'f': \"3\",\n        },\n{\n            'v': NaN,\n            'f': \"NaN\",\n        }],\n [{\n            'v': 15,\n            'f': \"15\",\n        },\n\"2012-01-01 00:00:00\",\n{\n            'v': 4,\n            'f': \"4\",\n        },\n{\n            'v': 0.818,\n            'f': \"0.818\",\n        }],\n [{\n            'v': 16,\n            'f': \"16\",\n        },\n\"2012-02-01 00:00:00\",\n{\n            'v': 4,\n            'f': \"4\",\n        },\n{\n            'v': 0.444,\n            'f': \"0.444\",\n        }],\n [{\n            'v': 17,\n            'f': \"17\",\n        },\n\"2012-03-01 00:00:00\",\n{\n            'v': 4,\n            'f': \"4\",\n        },\n{\n            'v': 0.429,\n            'f': \"0.429\",\n        }],\n [{\n            'v': 18,\n            'f': \"18\",\n        },\n\"2012-06-01 00:00:00\",\n{\n            'v': 4,\n            'f': \"4\",\n        },\n{\n            'v': 0.5,\n            'f': \"0.5\",\n        }],\n [{\n            'v': 19,\n            'f': \"19\",\n        },\n\"2012-07-01 00:00:00\",\n{\n            'v': 4,\n            'f': \"4\",\n        },\n{\n            'v': NaN,\n            'f': \"NaN\",\n        }],\n [{\n            'v': 20,\n            'f': \"20\",\n        },\n\"2012-01-01 00:00:00\",\n{\n            'v': 5,\n            'f': \"5\",\n        },\n{\n            'v': 0.455,\n            'f': \"0.455\",\n        }],\n [{\n            'v': 21,\n            'f': \"21\",\n        },\n\"2012-02-01 00:00:00\",\n{\n            'v': 5,\n            'f': \"5\",\n        },\n{\n            'v': 0.222,\n            'f': \"0.222\",\n        }],\n [{\n            'v': 22,\n            'f': \"22\",\n        },\n\"2012-03-01 00:00:00\",\n{\n            'v': 5,\n            'f': \"5\",\n        },\n{\n            'v': 0.286,\n            'f': \"0.286\",\n        }],\n [{\n            'v': 23,\n            'f': \"23\",\n        },\n\"2012-06-01 00:00:00\",\n{\n            'v': 5,\n            'f': \"5\",\n        },\n{\n            'v': 0.5,\n            'f': \"0.5\",\n        }],\n [{\n            'v': 24,\n            'f': \"24\",\n        },\n\"2012-07-01 00:00:00\",\n{\n            'v': 5,\n            'f': \"5\",\n        },\n{\n            'v': 1.0,\n            'f': \"1.0\",\n        }]],\n        columns: [[\"number\", \"index\"], [\"string\", \"cohort_ym\"], [\"number\", \"cohort_index\"], [\"number\", \"retention_pct\"]],\n        columnOptions: [{\"width\": \"1px\", \"className\": \"index_column\"}],\n        rowsPerPage: 25,\n        helpUrl: \"https://colab.research.google.com/notebooks/data_table.ipynb\",\n        suppressOutputScrolling: true,\n        minimumWidth: undefined,\n      });\n    ",
            "text/html": [
              "<div>\n",
              "<style scoped>\n",
              "    .dataframe tbody tr th:only-of-type {\n",
              "        vertical-align: middle;\n",
              "    }\n",
              "\n",
              "    .dataframe tbody tr th {\n",
              "        vertical-align: top;\n",
              "    }\n",
              "\n",
              "    .dataframe thead th {\n",
              "        text-align: right;\n",
              "    }\n",
              "</style>\n",
              "<table border=\"1\" class=\"dataframe\">\n",
              "  <thead>\n",
              "    <tr style=\"text-align: right;\">\n",
              "      <th></th>\n",
              "      <th>cohort_ym</th>\n",
              "      <th>cohort_index</th>\n",
              "      <th>retention_pct</th>\n",
              "    </tr>\n",
              "  </thead>\n",
              "  <tbody>\n",
              "    <tr>\n",
              "      <th>0</th>\n",
              "      <td>2012-01-01</td>\n",
              "      <td>1</td>\n",
              "      <td>1.000</td>\n",
              "    </tr>\n",
              "    <tr>\n",
              "      <th>1</th>\n",
              "      <td>2012-02-01</td>\n",
              "      <td>1</td>\n",
              "      <td>1.000</td>\n",
              "    </tr>\n",
              "    <tr>\n",
              "      <th>2</th>\n",
              "      <td>2012-03-01</td>\n",
              "      <td>1</td>\n",
              "      <td>1.000</td>\n",
              "    </tr>\n",
              "    <tr>\n",
              "      <th>3</th>\n",
              "      <td>2012-06-01</td>\n",
              "      <td>1</td>\n",
              "      <td>1.000</td>\n",
              "    </tr>\n",
              "    <tr>\n",
              "      <th>4</th>\n",
              "      <td>2012-07-01</td>\n",
              "      <td>1</td>\n",
              "      <td>1.000</td>\n",
              "    </tr>\n",
              "    <tr>\n",
              "      <th>5</th>\n",
              "      <td>2012-01-01</td>\n",
              "      <td>2</td>\n",
              "      <td>0.727</td>\n",
              "    </tr>\n",
              "    <tr>\n",
              "      <th>6</th>\n",
              "      <td>2012-02-01</td>\n",
              "      <td>2</td>\n",
              "      <td>0.667</td>\n",
              "    </tr>\n",
              "    <tr>\n",
              "      <th>7</th>\n",
              "      <td>2012-03-01</td>\n",
              "      <td>2</td>\n",
              "      <td>0.571</td>\n",
              "    </tr>\n",
              "    <tr>\n",
              "      <th>8</th>\n",
              "      <td>2012-06-01</td>\n",
              "      <td>2</td>\n",
              "      <td>1.000</td>\n",
              "    </tr>\n",
              "    <tr>\n",
              "      <th>9</th>\n",
              "      <td>2012-07-01</td>\n",
              "      <td>2</td>\n",
              "      <td>NaN</td>\n",
              "    </tr>\n",
              "    <tr>\n",
              "      <th>10</th>\n",
              "      <td>2012-01-01</td>\n",
              "      <td>3</td>\n",
              "      <td>0.727</td>\n",
              "    </tr>\n",
              "    <tr>\n",
              "      <th>11</th>\n",
              "      <td>2012-02-01</td>\n",
              "      <td>3</td>\n",
              "      <td>0.778</td>\n",
              "    </tr>\n",
              "    <tr>\n",
              "      <th>12</th>\n",
              "      <td>2012-03-01</td>\n",
              "      <td>3</td>\n",
              "      <td>0.286</td>\n",
              "    </tr>\n",
              "    <tr>\n",
              "      <th>13</th>\n",
              "      <td>2012-06-01</td>\n",
              "      <td>3</td>\n",
              "      <td>0.500</td>\n",
              "    </tr>\n",
              "    <tr>\n",
              "      <th>14</th>\n",
              "      <td>2012-07-01</td>\n",
              "      <td>3</td>\n",
              "      <td>NaN</td>\n",
              "    </tr>\n",
              "    <tr>\n",
              "      <th>15</th>\n",
              "      <td>2012-01-01</td>\n",
              "      <td>4</td>\n",
              "      <td>0.818</td>\n",
              "    </tr>\n",
              "    <tr>\n",
              "      <th>16</th>\n",
              "      <td>2012-02-01</td>\n",
              "      <td>4</td>\n",
              "      <td>0.444</td>\n",
              "    </tr>\n",
              "    <tr>\n",
              "      <th>17</th>\n",
              "      <td>2012-03-01</td>\n",
              "      <td>4</td>\n",
              "      <td>0.429</td>\n",
              "    </tr>\n",
              "    <tr>\n",
              "      <th>18</th>\n",
              "      <td>2012-06-01</td>\n",
              "      <td>4</td>\n",
              "      <td>0.500</td>\n",
              "    </tr>\n",
              "    <tr>\n",
              "      <th>19</th>\n",
              "      <td>2012-07-01</td>\n",
              "      <td>4</td>\n",
              "      <td>NaN</td>\n",
              "    </tr>\n",
              "    <tr>\n",
              "      <th>20</th>\n",
              "      <td>2012-01-01</td>\n",
              "      <td>5</td>\n",
              "      <td>0.455</td>\n",
              "    </tr>\n",
              "    <tr>\n",
              "      <th>21</th>\n",
              "      <td>2012-02-01</td>\n",
              "      <td>5</td>\n",
              "      <td>0.222</td>\n",
              "    </tr>\n",
              "    <tr>\n",
              "      <th>22</th>\n",
              "      <td>2012-03-01</td>\n",
              "      <td>5</td>\n",
              "      <td>0.286</td>\n",
              "    </tr>\n",
              "    <tr>\n",
              "      <th>23</th>\n",
              "      <td>2012-06-01</td>\n",
              "      <td>5</td>\n",
              "      <td>0.500</td>\n",
              "    </tr>\n",
              "    <tr>\n",
              "      <th>24</th>\n",
              "      <td>2012-07-01</td>\n",
              "      <td>5</td>\n",
              "      <td>1.000</td>\n",
              "    </tr>\n",
              "  </tbody>\n",
              "</table>\n",
              "</div>"
            ],
            "text/plain": [
              "    cohort_ym cohort_index  retention_pct\n",
              "0  2012-01-01            1          1.000\n",
              "1  2012-02-01            1          1.000\n",
              "2  2012-03-01            1          1.000\n",
              "3  2012-06-01            1          1.000\n",
              "4  2012-07-01            1          1.000\n",
              "5  2012-01-01            2          0.727\n",
              "6  2012-02-01            2          0.667\n",
              "7  2012-03-01            2          0.571\n",
              "8  2012-06-01            2          1.000\n",
              "9  2012-07-01            2            NaN\n",
              "10 2012-01-01            3          0.727\n",
              "11 2012-02-01            3          0.778\n",
              "12 2012-03-01            3          0.286\n",
              "13 2012-06-01            3          0.500\n",
              "14 2012-07-01            3            NaN\n",
              "15 2012-01-01            4          0.818\n",
              "16 2012-02-01            4          0.444\n",
              "17 2012-03-01            4          0.429\n",
              "18 2012-06-01            4          0.500\n",
              "19 2012-07-01            4            NaN\n",
              "20 2012-01-01            5          0.455\n",
              "21 2012-02-01            5          0.222\n",
              "22 2012-03-01            5          0.286\n",
              "23 2012-06-01            5          0.500\n",
              "24 2012-07-01            5          1.000"
            ]
          },
          "metadata": {
            "tags": []
          },
          "execution_count": 20
        }
      ]
    },
    {
      "cell_type": "code",
      "metadata": {
        "colab": {
          "base_uri": "https://localhost:8080/",
          "height": 265
        },
        "id": "SyFSaiQjCs0u",
        "outputId": "ea297332-6c74-43cb-9253-429577b8a531"
      },
      "source": [
        "base = alt.Chart(retention_data).encode(\n",
        "    alt.X('cohort_index:O', scale=alt.Scale(paddingInner=0)),\n",
        "    alt.Y('cohort_ym:O', scale=alt.Scale(paddingInner=0)),\n",
        ").properties(width=600, height=200)\n",
        "\n",
        "heatmap = base.mark_rect().encode(\n",
        "    color = alt.Color('retention_pct',scale=alt.Scale(scheme='blues'))\n",
        ")\n",
        "text = base.mark_text(baseline = 'middle').encode(\n",
        "    text = 'retention_pct',\n",
        "    color = alt.condition(\n",
        "        alt.datum.retention_pct > 0.7,\n",
        "        alt.value('white'),\n",
        "        alt.value('black')\n",
        "        )\n",
        ")\n",
        "heatmap + text"
      ],
      "execution_count": 21,
      "outputs": [
        {
          "output_type": "execute_result",
          "data": {
            "text/plain": [
              "alt.LayerChart(...)"
            ],
            "text/html": [
              "\n",
              "<div id=\"altair-viz-df96e64a354b445790c74fd05e0b1fcb\"></div>\n",
              "<script type=\"text/javascript\">\n",
              "  (function(spec, embedOpt){\n",
              "    let outputDiv = document.currentScript.previousElementSibling;\n",
              "    if (outputDiv.id !== \"altair-viz-df96e64a354b445790c74fd05e0b1fcb\") {\n",
              "      outputDiv = document.getElementById(\"altair-viz-df96e64a354b445790c74fd05e0b1fcb\");\n",
              "    }\n",
              "    const paths = {\n",
              "      \"vega\": \"https://cdn.jsdelivr.net/npm//vega@5?noext\",\n",
              "      \"vega-lib\": \"https://cdn.jsdelivr.net/npm//vega-lib?noext\",\n",
              "      \"vega-lite\": \"https://cdn.jsdelivr.net/npm//vega-lite@4.8.1?noext\",\n",
              "      \"vega-embed\": \"https://cdn.jsdelivr.net/npm//vega-embed@6?noext\",\n",
              "    };\n",
              "\n",
              "    function loadScript(lib) {\n",
              "      return new Promise(function(resolve, reject) {\n",
              "        var s = document.createElement('script');\n",
              "        s.src = paths[lib];\n",
              "        s.async = true;\n",
              "        s.onload = () => resolve(paths[lib]);\n",
              "        s.onerror = () => reject(`Error loading script: ${paths[lib]}`);\n",
              "        document.getElementsByTagName(\"head\")[0].appendChild(s);\n",
              "      });\n",
              "    }\n",
              "\n",
              "    function showError(err) {\n",
              "      outputDiv.innerHTML = `<div class=\"error\" style=\"color:red;\">${err}</div>`;\n",
              "      throw err;\n",
              "    }\n",
              "\n",
              "    function displayChart(vegaEmbed) {\n",
              "      vegaEmbed(outputDiv, spec, embedOpt)\n",
              "        .catch(err => showError(`Javascript Error: ${err.message}<br>This usually means there's a typo in your chart specification. See the javascript console for the full traceback.`));\n",
              "    }\n",
              "\n",
              "    if(typeof define === \"function\" && define.amd) {\n",
              "      requirejs.config({paths});\n",
              "      require([\"vega-embed\"], displayChart, err => showError(`Error loading script: ${err.message}`));\n",
              "    } else if (typeof vegaEmbed === \"function\") {\n",
              "      displayChart(vegaEmbed);\n",
              "    } else {\n",
              "      loadScript(\"vega\")\n",
              "        .then(() => loadScript(\"vega-lite\"))\n",
              "        .then(() => loadScript(\"vega-embed\"))\n",
              "        .catch(showError)\n",
              "        .then(() => displayChart(vegaEmbed));\n",
              "    }\n",
              "  })({\"config\": {\"view\": {\"continuousWidth\": 400, \"continuousHeight\": 300}}, \"layer\": [{\"mark\": \"rect\", \"encoding\": {\"color\": {\"type\": \"quantitative\", \"field\": \"retention_pct\", \"scale\": {\"scheme\": \"blues\"}}, \"x\": {\"type\": \"ordinal\", \"field\": \"cohort_index\", \"scale\": {\"paddingInner\": 0}}, \"y\": {\"type\": \"ordinal\", \"field\": \"cohort_ym\", \"scale\": {\"paddingInner\": 0}}}, \"height\": 200, \"width\": 600}, {\"mark\": {\"type\": \"text\", \"baseline\": \"middle\"}, \"encoding\": {\"color\": {\"condition\": {\"value\": \"white\", \"test\": \"(datum.retention_pct > 0.7)\"}, \"value\": \"black\"}, \"text\": {\"type\": \"quantitative\", \"field\": \"retention_pct\"}, \"x\": {\"type\": \"ordinal\", \"field\": \"cohort_index\", \"scale\": {\"paddingInner\": 0}}, \"y\": {\"type\": \"ordinal\", \"field\": \"cohort_ym\", \"scale\": {\"paddingInner\": 0}}}, \"height\": 200, \"width\": 600}], \"data\": {\"name\": \"data-8734bb1b03e42580bd71193069931928\"}, \"$schema\": \"https://vega.github.io/schema/vega-lite/v4.8.1.json\", \"datasets\": {\"data-8734bb1b03e42580bd71193069931928\": [{\"cohort_ym\": \"2012-01-01T00:00:00\", \"cohort_index\": 1, \"retention_pct\": 1.0}, {\"cohort_ym\": \"2012-02-01T00:00:00\", \"cohort_index\": 1, \"retention_pct\": 1.0}, {\"cohort_ym\": \"2012-03-01T00:00:00\", \"cohort_index\": 1, \"retention_pct\": 1.0}, {\"cohort_ym\": \"2012-06-01T00:00:00\", \"cohort_index\": 1, \"retention_pct\": 1.0}, {\"cohort_ym\": \"2012-07-01T00:00:00\", \"cohort_index\": 1, \"retention_pct\": 1.0}, {\"cohort_ym\": \"2012-01-01T00:00:00\", \"cohort_index\": 2, \"retention_pct\": 0.727}, {\"cohort_ym\": \"2012-02-01T00:00:00\", \"cohort_index\": 2, \"retention_pct\": 0.667}, {\"cohort_ym\": \"2012-03-01T00:00:00\", \"cohort_index\": 2, \"retention_pct\": 0.571}, {\"cohort_ym\": \"2012-06-01T00:00:00\", \"cohort_index\": 2, \"retention_pct\": 1.0}, {\"cohort_ym\": \"2012-07-01T00:00:00\", \"cohort_index\": 2, \"retention_pct\": null}, {\"cohort_ym\": \"2012-01-01T00:00:00\", \"cohort_index\": 3, \"retention_pct\": 0.727}, {\"cohort_ym\": \"2012-02-01T00:00:00\", \"cohort_index\": 3, \"retention_pct\": 0.778}, {\"cohort_ym\": \"2012-03-01T00:00:00\", \"cohort_index\": 3, \"retention_pct\": 0.286}, {\"cohort_ym\": \"2012-06-01T00:00:00\", \"cohort_index\": 3, \"retention_pct\": 0.5}, {\"cohort_ym\": \"2012-07-01T00:00:00\", \"cohort_index\": 3, \"retention_pct\": null}, {\"cohort_ym\": \"2012-01-01T00:00:00\", \"cohort_index\": 4, \"retention_pct\": 0.818}, {\"cohort_ym\": \"2012-02-01T00:00:00\", \"cohort_index\": 4, \"retention_pct\": 0.444}, {\"cohort_ym\": \"2012-03-01T00:00:00\", \"cohort_index\": 4, \"retention_pct\": 0.429}, {\"cohort_ym\": \"2012-06-01T00:00:00\", \"cohort_index\": 4, \"retention_pct\": 0.5}, {\"cohort_ym\": \"2012-07-01T00:00:00\", \"cohort_index\": 4, \"retention_pct\": null}, {\"cohort_ym\": \"2012-01-01T00:00:00\", \"cohort_index\": 5, \"retention_pct\": 0.455}, {\"cohort_ym\": \"2012-02-01T00:00:00\", \"cohort_index\": 5, \"retention_pct\": 0.222}, {\"cohort_ym\": \"2012-03-01T00:00:00\", \"cohort_index\": 5, \"retention_pct\": 0.286}, {\"cohort_ym\": \"2012-06-01T00:00:00\", \"cohort_index\": 5, \"retention_pct\": 0.5}, {\"cohort_ym\": \"2012-07-01T00:00:00\", \"cohort_index\": 5, \"retention_pct\": 1.0}, {\"cohort_ym\": \"2012-01-01T00:00:00\", \"cohort_index\": 6, \"retention_pct\": 0.727}, {\"cohort_ym\": \"2012-02-01T00:00:00\", \"cohort_index\": 6, \"retention_pct\": 0.333}, {\"cohort_ym\": \"2012-03-01T00:00:00\", \"cohort_index\": 6, \"retention_pct\": 0.571}, {\"cohort_ym\": \"2012-06-01T00:00:00\", \"cohort_index\": 6, \"retention_pct\": null}, {\"cohort_ym\": \"2012-07-01T00:00:00\", \"cohort_index\": 6, \"retention_pct\": null}, {\"cohort_ym\": \"2012-01-01T00:00:00\", \"cohort_index\": 7, \"retention_pct\": 0.727}, {\"cohort_ym\": \"2012-02-01T00:00:00\", \"cohort_index\": 7, \"retention_pct\": 0.667}, {\"cohort_ym\": \"2012-03-01T00:00:00\", \"cohort_index\": 7, \"retention_pct\": 0.571}, {\"cohort_ym\": \"2012-06-01T00:00:00\", \"cohort_index\": 7, \"retention_pct\": null}, {\"cohort_ym\": \"2012-07-01T00:00:00\", \"cohort_index\": 7, \"retention_pct\": null}, {\"cohort_ym\": \"2012-01-01T00:00:00\", \"cohort_index\": 8, \"retention_pct\": 0.455}, {\"cohort_ym\": \"2012-02-01T00:00:00\", \"cohort_index\": 8, \"retention_pct\": 0.333}, {\"cohort_ym\": \"2012-03-01T00:00:00\", \"cohort_index\": 8, \"retention_pct\": 0.286}, {\"cohort_ym\": \"2012-06-01T00:00:00\", \"cohort_index\": 8, \"retention_pct\": null}, {\"cohort_ym\": \"2012-07-01T00:00:00\", \"cohort_index\": 8, \"retention_pct\": null}, {\"cohort_ym\": \"2012-01-01T00:00:00\", \"cohort_index\": 9, \"retention_pct\": 0.545}, {\"cohort_ym\": \"2012-02-01T00:00:00\", \"cohort_index\": 9, \"retention_pct\": 0.444}, {\"cohort_ym\": \"2012-03-01T00:00:00\", \"cohort_index\": 9, \"retention_pct\": 0.429}, {\"cohort_ym\": \"2012-06-01T00:00:00\", \"cohort_index\": 9, \"retention_pct\": null}, {\"cohort_ym\": \"2012-07-01T00:00:00\", \"cohort_index\": 9, \"retention_pct\": null}, {\"cohort_ym\": \"2012-01-01T00:00:00\", \"cohort_index\": 10, \"retention_pct\": 0.636}, {\"cohort_ym\": \"2012-02-01T00:00:00\", \"cohort_index\": 10, \"retention_pct\": 0.333}, {\"cohort_ym\": \"2012-03-01T00:00:00\", \"cohort_index\": 10, \"retention_pct\": 0.143}, {\"cohort_ym\": \"2012-06-01T00:00:00\", \"cohort_index\": 10, \"retention_pct\": null}, {\"cohort_ym\": \"2012-07-01T00:00:00\", \"cohort_index\": 10, \"retention_pct\": null}, {\"cohort_ym\": \"2012-01-01T00:00:00\", \"cohort_index\": 11, \"retention_pct\": 0.727}, {\"cohort_ym\": \"2012-02-01T00:00:00\", \"cohort_index\": 11, \"retention_pct\": 0.111}, {\"cohort_ym\": \"2012-03-01T00:00:00\", \"cohort_index\": 11, \"retention_pct\": null}, {\"cohort_ym\": \"2012-06-01T00:00:00\", \"cohort_index\": 11, \"retention_pct\": null}, {\"cohort_ym\": \"2012-07-01T00:00:00\", \"cohort_index\": 11, \"retention_pct\": null}, {\"cohort_ym\": \"2012-01-01T00:00:00\", \"cohort_index\": 12, \"retention_pct\": 0.727}, {\"cohort_ym\": \"2012-02-01T00:00:00\", \"cohort_index\": 12, \"retention_pct\": null}, {\"cohort_ym\": \"2012-03-01T00:00:00\", \"cohort_index\": 12, \"retention_pct\": null}, {\"cohort_ym\": \"2012-06-01T00:00:00\", \"cohort_index\": 12, \"retention_pct\": null}, {\"cohort_ym\": \"2012-07-01T00:00:00\", \"cohort_index\": 12, \"retention_pct\": null}]}}, {\"mode\": \"vega-lite\"});\n",
              "</script>"
            ]
          },
          "metadata": {
            "tags": []
          },
          "execution_count": 21
        }
      ]
    },
    {
      "cell_type": "markdown",
      "metadata": {
        "id": "DIoPbribIh1g"
      },
      "source": [
        "Calculate average sales value for each cohort"
      ]
    },
    {
      "cell_type": "code",
      "metadata": {
        "colab": {
          "base_uri": "https://localhost:8080/",
          "height": 194
        },
        "id": "23Vfqe8VIhlt",
        "outputId": "c19c1370-5be8-4950-977f-fe7dc93f8673"
      },
      "source": [
        "cohort_sales_tbl = cust_sales_tbl.groupby(['cohort_ym','cohort_index'])['sales_value'].sum().reset_index()\n",
        "\n",
        "cohort_sales_matrix = cohort_sales_tbl.pivot(index = 'cohort_ym',columns = 'cohort_index', values = 'sales_value')\n",
        "\n",
        "cohort_sales_matrix.head()"
      ],
      "execution_count": 22,
      "outputs": [
        {
          "output_type": "execute_result",
          "data": {
            "application/vnd.google.colaboratory.module+javascript": "\n      import \"https://ssl.gstatic.com/colaboratory/data_table/a6224c040fa35dcf/data_table.js\";\n\n      window.createDataTable({\n        data: [[\"2012-01-01 00:00:00\",\n{\n            'v': 710800.0,\n            'f': \"710800.0\",\n        },\n{\n            'v': 500865.0,\n            'f': \"500865.0\",\n        },\n{\n            'v': 1015265.0,\n            'f': \"1015265.0\",\n        },\n{\n            'v': 785425.0,\n            'f': \"785425.0\",\n        },\n{\n            'v': 576180.0,\n            'f': \"576180.0\",\n        },\n{\n            'v': 623790.0,\n            'f': \"623790.0\",\n        },\n{\n            'v': 726525.0,\n            'f': \"726525.0\",\n        },\n{\n            'v': 567335.0,\n            'f': \"567335.0\",\n        },\n{\n            'v': 396150.0,\n            'f': \"396150.0\",\n        },\n{\n            'v': 345185.0,\n            'f': \"345185.0\",\n        },\n{\n            'v': 606570.0,\n            'f': \"606570.0\",\n        },\n{\n            'v': 549835.0,\n            'f': \"549835.0\",\n        }],\n [\"2012-02-01 00:00:00\",\n{\n            'v': 170925.0,\n            'f': \"170925.0\",\n        },\n{\n            'v': 306330.0,\n            'f': \"306330.0\",\n        },\n{\n            'v': 299900.0,\n            'f': \"299900.0\",\n        },\n{\n            'v': 282190.0,\n            'f': \"282190.0\",\n        },\n{\n            'v': 185120.0,\n            'f': \"185120.0\",\n        },\n{\n            'v': 83890.0,\n            'f': \"83890.0\",\n        },\n{\n            'v': 477360.0,\n            'f': \"477360.0\",\n        },\n{\n            'v': 94150.0,\n            'f': \"94150.0\",\n        },\n{\n            'v': 176310.0,\n            'f': \"176310.0\",\n        },\n{\n            'v': 87945.0,\n            'f': \"87945.0\",\n        },\n{\n            'v': 8250.0,\n            'f': \"8250.0\",\n        },\n{\n            'v': NaN,\n            'f': \"NaN\",\n        }],\n [\"2012-03-01 00:00:00\",\n{\n            'v': 183470.0,\n            'f': \"183470.0\",\n        },\n{\n            'v': 534900.0,\n            'f': \"534900.0\",\n        },\n{\n            'v': 103810.0,\n            'f': \"103810.0\",\n        },\n{\n            'v': 181390.0,\n            'f': \"181390.0\",\n        },\n{\n            'v': 350805.0,\n            'f': \"350805.0\",\n        },\n{\n            'v': 216585.0,\n            'f': \"216585.0\",\n        },\n{\n            'v': 461610.0,\n            'f': \"461610.0\",\n        },\n{\n            'v': 17790.0,\n            'f': \"17790.0\",\n        },\n{\n            'v': 22030.0,\n            'f': \"22030.0\",\n        },\n{\n            'v': 3940.0,\n            'f': \"3940.0\",\n        },\n{\n            'v': NaN,\n            'f': \"NaN\",\n        },\n{\n            'v': NaN,\n            'f': \"NaN\",\n        }],\n [\"2012-06-01 00:00:00\",\n{\n            'v': 39610.0,\n            'f': \"39610.0\",\n        },\n{\n            'v': 261875.0,\n            'f': \"261875.0\",\n        },\n{\n            'v': 28770.0,\n            'f': \"28770.0\",\n        },\n{\n            'v': 124100.0,\n            'f': \"124100.0\",\n        },\n{\n            'v': 3500.0,\n            'f': \"3500.0\",\n        },\n{\n            'v': NaN,\n            'f': \"NaN\",\n        },\n{\n            'v': NaN,\n            'f': \"NaN\",\n        },\n{\n            'v': NaN,\n            'f': \"NaN\",\n        },\n{\n            'v': NaN,\n            'f': \"NaN\",\n        },\n{\n            'v': NaN,\n            'f': \"NaN\",\n        },\n{\n            'v': NaN,\n            'f': \"NaN\",\n        },\n{\n            'v': NaN,\n            'f': \"NaN\",\n        }],\n [\"2012-07-01 00:00:00\",\n{\n            'v': 49455.0,\n            'f': \"49455.0\",\n        },\n{\n            'v': NaN,\n            'f': \"NaN\",\n        },\n{\n            'v': NaN,\n            'f': \"NaN\",\n        },\n{\n            'v': NaN,\n            'f': \"NaN\",\n        },\n{\n            'v': 3140.0,\n            'f': \"3140.0\",\n        },\n{\n            'v': NaN,\n            'f': \"NaN\",\n        },\n{\n            'v': NaN,\n            'f': \"NaN\",\n        },\n{\n            'v': NaN,\n            'f': \"NaN\",\n        },\n{\n            'v': NaN,\n            'f': \"NaN\",\n        },\n{\n            'v': NaN,\n            'f': \"NaN\",\n        },\n{\n            'v': NaN,\n            'f': \"NaN\",\n        },\n{\n            'v': NaN,\n            'f': \"NaN\",\n        }]],\n        columns: [[\"string\", \"cohort_ym\"], [\"number\", \"1\"], [\"number\", \"2\"], [\"number\", \"3\"], [\"number\", \"4\"], [\"number\", \"5\"], [\"number\", \"6\"], [\"number\", \"7\"], [\"number\", \"8\"], [\"number\", \"9\"], [\"number\", \"10\"], [\"number\", \"11\"], [\"number\", \"12\"]],\n        columnOptions: [{\"width\": \"1px\", \"className\": \"index_column\"}],\n        rowsPerPage: 25,\n        helpUrl: \"https://colab.research.google.com/notebooks/data_table.ipynb\",\n        suppressOutputScrolling: true,\n        minimumWidth: undefined,\n      });\n    ",
            "text/html": [
              "<div>\n",
              "<style scoped>\n",
              "    .dataframe tbody tr th:only-of-type {\n",
              "        vertical-align: middle;\n",
              "    }\n",
              "\n",
              "    .dataframe tbody tr th {\n",
              "        vertical-align: top;\n",
              "    }\n",
              "\n",
              "    .dataframe thead th {\n",
              "        text-align: right;\n",
              "    }\n",
              "</style>\n",
              "<table border=\"1\" class=\"dataframe\">\n",
              "  <thead>\n",
              "    <tr style=\"text-align: right;\">\n",
              "      <th>cohort_index</th>\n",
              "      <th>1</th>\n",
              "      <th>2</th>\n",
              "      <th>3</th>\n",
              "      <th>4</th>\n",
              "      <th>5</th>\n",
              "      <th>6</th>\n",
              "      <th>7</th>\n",
              "      <th>8</th>\n",
              "      <th>9</th>\n",
              "      <th>10</th>\n",
              "      <th>11</th>\n",
              "      <th>12</th>\n",
              "    </tr>\n",
              "    <tr>\n",
              "      <th>cohort_ym</th>\n",
              "      <th></th>\n",
              "      <th></th>\n",
              "      <th></th>\n",
              "      <th></th>\n",
              "      <th></th>\n",
              "      <th></th>\n",
              "      <th></th>\n",
              "      <th></th>\n",
              "      <th></th>\n",
              "      <th></th>\n",
              "      <th></th>\n",
              "      <th></th>\n",
              "    </tr>\n",
              "  </thead>\n",
              "  <tbody>\n",
              "    <tr>\n",
              "      <th>2012-01-01</th>\n",
              "      <td>710800.0</td>\n",
              "      <td>500865.0</td>\n",
              "      <td>1015265.0</td>\n",
              "      <td>785425.0</td>\n",
              "      <td>576180.0</td>\n",
              "      <td>623790.0</td>\n",
              "      <td>726525.0</td>\n",
              "      <td>567335.0</td>\n",
              "      <td>396150.0</td>\n",
              "      <td>345185.0</td>\n",
              "      <td>606570.0</td>\n",
              "      <td>549835.0</td>\n",
              "    </tr>\n",
              "    <tr>\n",
              "      <th>2012-02-01</th>\n",
              "      <td>170925.0</td>\n",
              "      <td>306330.0</td>\n",
              "      <td>299900.0</td>\n",
              "      <td>282190.0</td>\n",
              "      <td>185120.0</td>\n",
              "      <td>83890.0</td>\n",
              "      <td>477360.0</td>\n",
              "      <td>94150.0</td>\n",
              "      <td>176310.0</td>\n",
              "      <td>87945.0</td>\n",
              "      <td>8250.0</td>\n",
              "      <td>NaN</td>\n",
              "    </tr>\n",
              "    <tr>\n",
              "      <th>2012-03-01</th>\n",
              "      <td>183470.0</td>\n",
              "      <td>534900.0</td>\n",
              "      <td>103810.0</td>\n",
              "      <td>181390.0</td>\n",
              "      <td>350805.0</td>\n",
              "      <td>216585.0</td>\n",
              "      <td>461610.0</td>\n",
              "      <td>17790.0</td>\n",
              "      <td>22030.0</td>\n",
              "      <td>3940.0</td>\n",
              "      <td>NaN</td>\n",
              "      <td>NaN</td>\n",
              "    </tr>\n",
              "    <tr>\n",
              "      <th>2012-06-01</th>\n",
              "      <td>39610.0</td>\n",
              "      <td>261875.0</td>\n",
              "      <td>28770.0</td>\n",
              "      <td>124100.0</td>\n",
              "      <td>3500.0</td>\n",
              "      <td>NaN</td>\n",
              "      <td>NaN</td>\n",
              "      <td>NaN</td>\n",
              "      <td>NaN</td>\n",
              "      <td>NaN</td>\n",
              "      <td>NaN</td>\n",
              "      <td>NaN</td>\n",
              "    </tr>\n",
              "    <tr>\n",
              "      <th>2012-07-01</th>\n",
              "      <td>49455.0</td>\n",
              "      <td>NaN</td>\n",
              "      <td>NaN</td>\n",
              "      <td>NaN</td>\n",
              "      <td>3140.0</td>\n",
              "      <td>NaN</td>\n",
              "      <td>NaN</td>\n",
              "      <td>NaN</td>\n",
              "      <td>NaN</td>\n",
              "      <td>NaN</td>\n",
              "      <td>NaN</td>\n",
              "      <td>NaN</td>\n",
              "    </tr>\n",
              "  </tbody>\n",
              "</table>\n",
              "</div>"
            ],
            "text/plain": [
              "cohort_index        1         2          3   ...        10        11        12\n",
              "cohort_ym                                    ...                              \n",
              "2012-01-01    710800.0  500865.0  1015265.0  ...  345185.0  606570.0  549835.0\n",
              "2012-02-01    170925.0  306330.0   299900.0  ...   87945.0    8250.0       NaN\n",
              "2012-03-01    183470.0  534900.0   103810.0  ...    3940.0       NaN       NaN\n",
              "2012-06-01     39610.0  261875.0    28770.0  ...       NaN       NaN       NaN\n",
              "2012-07-01     49455.0       NaN        NaN  ...       NaN       NaN       NaN\n",
              "\n",
              "[5 rows x 12 columns]"
            ]
          },
          "metadata": {
            "tags": []
          },
          "execution_count": 22
        }
      ]
    },
    {
      "cell_type": "markdown",
      "metadata": {
        "id": "Oy_1BVH7N-bO"
      },
      "source": [
        "Create cohort retention rate heatmap"
      ]
    },
    {
      "cell_type": "code",
      "metadata": {
        "colab": {
          "base_uri": "https://localhost:8080/",
          "height": 623
        },
        "id": "jYniWh008VCN",
        "outputId": "4b9d56ca-149b-4453-c7cc-fa3fc9cd37a0"
      },
      "source": [
        "cohort_data"
      ],
      "execution_count": 23,
      "outputs": [
        {
          "output_type": "execute_result",
          "data": {
            "application/vnd.google.colaboratory.module+javascript": "\n      import \"https://ssl.gstatic.com/colaboratory/data_table/a6224c040fa35dcf/data_table.js\";\n\n      window.createDataTable({\n        data: [[{\n            'v': 0,\n            'f': \"0\",\n        },\n\"2012-01-01 00:00:00\",\n{\n            'v': 1,\n            'f': \"1\",\n        },\n{\n            'v': 11,\n            'f': \"11\",\n        }],\n [{\n            'v': 1,\n            'f': \"1\",\n        },\n\"2012-01-01 00:00:00\",\n{\n            'v': 2,\n            'f': \"2\",\n        },\n{\n            'v': 8,\n            'f': \"8\",\n        }],\n [{\n            'v': 2,\n            'f': \"2\",\n        },\n\"2012-01-01 00:00:00\",\n{\n            'v': 3,\n            'f': \"3\",\n        },\n{\n            'v': 8,\n            'f': \"8\",\n        }],\n [{\n            'v': 3,\n            'f': \"3\",\n        },\n\"2012-01-01 00:00:00\",\n{\n            'v': 4,\n            'f': \"4\",\n        },\n{\n            'v': 9,\n            'f': \"9\",\n        }],\n [{\n            'v': 4,\n            'f': \"4\",\n        },\n\"2012-01-01 00:00:00\",\n{\n            'v': 5,\n            'f': \"5\",\n        },\n{\n            'v': 5,\n            'f': \"5\",\n        }],\n [{\n            'v': 5,\n            'f': \"5\",\n        },\n\"2012-01-01 00:00:00\",\n{\n            'v': 6,\n            'f': \"6\",\n        },\n{\n            'v': 8,\n            'f': \"8\",\n        }],\n [{\n            'v': 6,\n            'f': \"6\",\n        },\n\"2012-01-01 00:00:00\",\n{\n            'v': 7,\n            'f': \"7\",\n        },\n{\n            'v': 8,\n            'f': \"8\",\n        }],\n [{\n            'v': 7,\n            'f': \"7\",\n        },\n\"2012-01-01 00:00:00\",\n{\n            'v': 8,\n            'f': \"8\",\n        },\n{\n            'v': 5,\n            'f': \"5\",\n        }],\n [{\n            'v': 8,\n            'f': \"8\",\n        },\n\"2012-01-01 00:00:00\",\n{\n            'v': 9,\n            'f': \"9\",\n        },\n{\n            'v': 6,\n            'f': \"6\",\n        }],\n [{\n            'v': 9,\n            'f': \"9\",\n        },\n\"2012-01-01 00:00:00\",\n{\n            'v': 10,\n            'f': \"10\",\n        },\n{\n            'v': 7,\n            'f': \"7\",\n        }],\n [{\n            'v': 10,\n            'f': \"10\",\n        },\n\"2012-01-01 00:00:00\",\n{\n            'v': 11,\n            'f': \"11\",\n        },\n{\n            'v': 8,\n            'f': \"8\",\n        }],\n [{\n            'v': 11,\n            'f': \"11\",\n        },\n\"2012-01-01 00:00:00\",\n{\n            'v': 12,\n            'f': \"12\",\n        },\n{\n            'v': 8,\n            'f': \"8\",\n        }],\n [{\n            'v': 12,\n            'f': \"12\",\n        },\n\"2012-02-01 00:00:00\",\n{\n            'v': 1,\n            'f': \"1\",\n        },\n{\n            'v': 9,\n            'f': \"9\",\n        }],\n [{\n            'v': 13,\n            'f': \"13\",\n        },\n\"2012-02-01 00:00:00\",\n{\n            'v': 2,\n            'f': \"2\",\n        },\n{\n            'v': 6,\n            'f': \"6\",\n        }],\n [{\n            'v': 14,\n            'f': \"14\",\n        },\n\"2012-02-01 00:00:00\",\n{\n            'v': 3,\n            'f': \"3\",\n        },\n{\n            'v': 7,\n            'f': \"7\",\n        }],\n [{\n            'v': 15,\n            'f': \"15\",\n        },\n\"2012-02-01 00:00:00\",\n{\n            'v': 4,\n            'f': \"4\",\n        },\n{\n            'v': 4,\n            'f': \"4\",\n        }],\n [{\n            'v': 16,\n            'f': \"16\",\n        },\n\"2012-02-01 00:00:00\",\n{\n            'v': 5,\n            'f': \"5\",\n        },\n{\n            'v': 2,\n            'f': \"2\",\n        }],\n [{\n            'v': 17,\n            'f': \"17\",\n        },\n\"2012-02-01 00:00:00\",\n{\n            'v': 6,\n            'f': \"6\",\n        },\n{\n            'v': 3,\n            'f': \"3\",\n        }],\n [{\n            'v': 18,\n            'f': \"18\",\n        },\n\"2012-02-01 00:00:00\",\n{\n            'v': 7,\n            'f': \"7\",\n        },\n{\n            'v': 6,\n            'f': \"6\",\n        }],\n [{\n            'v': 19,\n            'f': \"19\",\n        },\n\"2012-02-01 00:00:00\",\n{\n            'v': 8,\n            'f': \"8\",\n        },\n{\n            'v': 3,\n            'f': \"3\",\n        }],\n [{\n            'v': 20,\n            'f': \"20\",\n        },\n\"2012-02-01 00:00:00\",\n{\n            'v': 9,\n            'f': \"9\",\n        },\n{\n            'v': 4,\n            'f': \"4\",\n        }],\n [{\n            'v': 21,\n            'f': \"21\",\n        },\n\"2012-02-01 00:00:00\",\n{\n            'v': 10,\n            'f': \"10\",\n        },\n{\n            'v': 3,\n            'f': \"3\",\n        }],\n [{\n            'v': 22,\n            'f': \"22\",\n        },\n\"2012-02-01 00:00:00\",\n{\n            'v': 11,\n            'f': \"11\",\n        },\n{\n            'v': 1,\n            'f': \"1\",\n        }],\n [{\n            'v': 23,\n            'f': \"23\",\n        },\n\"2012-03-01 00:00:00\",\n{\n            'v': 1,\n            'f': \"1\",\n        },\n{\n            'v': 7,\n            'f': \"7\",\n        }],\n [{\n            'v': 24,\n            'f': \"24\",\n        },\n\"2012-03-01 00:00:00\",\n{\n            'v': 2,\n            'f': \"2\",\n        },\n{\n            'v': 4,\n            'f': \"4\",\n        }],\n [{\n            'v': 25,\n            'f': \"25\",\n        },\n\"2012-03-01 00:00:00\",\n{\n            'v': 3,\n            'f': \"3\",\n        },\n{\n            'v': 2,\n            'f': \"2\",\n        }],\n [{\n            'v': 26,\n            'f': \"26\",\n        },\n\"2012-03-01 00:00:00\",\n{\n            'v': 4,\n            'f': \"4\",\n        },\n{\n            'v': 3,\n            'f': \"3\",\n        }],\n [{\n            'v': 27,\n            'f': \"27\",\n        },\n\"2012-03-01 00:00:00\",\n{\n            'v': 5,\n            'f': \"5\",\n        },\n{\n            'v': 2,\n            'f': \"2\",\n        }],\n [{\n            'v': 28,\n            'f': \"28\",\n        },\n\"2012-03-01 00:00:00\",\n{\n            'v': 6,\n            'f': \"6\",\n        },\n{\n            'v': 4,\n            'f': \"4\",\n        }],\n [{\n            'v': 29,\n            'f': \"29\",\n        },\n\"2012-03-01 00:00:00\",\n{\n            'v': 7,\n            'f': \"7\",\n        },\n{\n            'v': 4,\n            'f': \"4\",\n        }],\n [{\n            'v': 30,\n            'f': \"30\",\n        },\n\"2012-03-01 00:00:00\",\n{\n            'v': 8,\n            'f': \"8\",\n        },\n{\n            'v': 2,\n            'f': \"2\",\n        }],\n [{\n            'v': 31,\n            'f': \"31\",\n        },\n\"2012-03-01 00:00:00\",\n{\n            'v': 9,\n            'f': \"9\",\n        },\n{\n            'v': 3,\n            'f': \"3\",\n        }],\n [{\n            'v': 32,\n            'f': \"32\",\n        },\n\"2012-03-01 00:00:00\",\n{\n            'v': 10,\n            'f': \"10\",\n        },\n{\n            'v': 1,\n            'f': \"1\",\n        }],\n [{\n            'v': 33,\n            'f': \"33\",\n        },\n\"2012-06-01 00:00:00\",\n{\n            'v': 1,\n            'f': \"1\",\n        },\n{\n            'v': 2,\n            'f': \"2\",\n        }],\n [{\n            'v': 34,\n            'f': \"34\",\n        },\n\"2012-06-01 00:00:00\",\n{\n            'v': 2,\n            'f': \"2\",\n        },\n{\n            'v': 2,\n            'f': \"2\",\n        }],\n [{\n            'v': 35,\n            'f': \"35\",\n        },\n\"2012-06-01 00:00:00\",\n{\n            'v': 3,\n            'f': \"3\",\n        },\n{\n            'v': 1,\n            'f': \"1\",\n        }],\n [{\n            'v': 36,\n            'f': \"36\",\n        },\n\"2012-06-01 00:00:00\",\n{\n            'v': 4,\n            'f': \"4\",\n        },\n{\n            'v': 1,\n            'f': \"1\",\n        }],\n [{\n            'v': 37,\n            'f': \"37\",\n        },\n\"2012-06-01 00:00:00\",\n{\n            'v': 5,\n            'f': \"5\",\n        },\n{\n            'v': 1,\n            'f': \"1\",\n        }],\n [{\n            'v': 38,\n            'f': \"38\",\n        },\n\"2012-07-01 00:00:00\",\n{\n            'v': 1,\n            'f': \"1\",\n        },\n{\n            'v': 1,\n            'f': \"1\",\n        }],\n [{\n            'v': 39,\n            'f': \"39\",\n        },\n\"2012-07-01 00:00:00\",\n{\n            'v': 5,\n            'f': \"5\",\n        },\n{\n            'v': 1,\n            'f': \"1\",\n        }]],\n        columns: [[\"number\", \"index\"], [\"string\", \"cohort_ym\"], [\"number\", \"cohort_index\"], [\"number\", \"bikeshop_name\"]],\n        columnOptions: [{\"width\": \"1px\", \"className\": \"index_column\"}],\n        rowsPerPage: 25,\n        helpUrl: \"https://colab.research.google.com/notebooks/data_table.ipynb\",\n        suppressOutputScrolling: true,\n        minimumWidth: undefined,\n      });\n    ",
            "text/html": [
              "<div>\n",
              "<style scoped>\n",
              "    .dataframe tbody tr th:only-of-type {\n",
              "        vertical-align: middle;\n",
              "    }\n",
              "\n",
              "    .dataframe tbody tr th {\n",
              "        vertical-align: top;\n",
              "    }\n",
              "\n",
              "    .dataframe thead th {\n",
              "        text-align: right;\n",
              "    }\n",
              "</style>\n",
              "<table border=\"1\" class=\"dataframe\">\n",
              "  <thead>\n",
              "    <tr style=\"text-align: right;\">\n",
              "      <th></th>\n",
              "      <th>cohort_ym</th>\n",
              "      <th>cohort_index</th>\n",
              "      <th>bikeshop_name</th>\n",
              "    </tr>\n",
              "  </thead>\n",
              "  <tbody>\n",
              "    <tr>\n",
              "      <th>0</th>\n",
              "      <td>2012-01-01</td>\n",
              "      <td>1</td>\n",
              "      <td>11</td>\n",
              "    </tr>\n",
              "    <tr>\n",
              "      <th>1</th>\n",
              "      <td>2012-01-01</td>\n",
              "      <td>2</td>\n",
              "      <td>8</td>\n",
              "    </tr>\n",
              "    <tr>\n",
              "      <th>2</th>\n",
              "      <td>2012-01-01</td>\n",
              "      <td>3</td>\n",
              "      <td>8</td>\n",
              "    </tr>\n",
              "    <tr>\n",
              "      <th>3</th>\n",
              "      <td>2012-01-01</td>\n",
              "      <td>4</td>\n",
              "      <td>9</td>\n",
              "    </tr>\n",
              "    <tr>\n",
              "      <th>4</th>\n",
              "      <td>2012-01-01</td>\n",
              "      <td>5</td>\n",
              "      <td>5</td>\n",
              "    </tr>\n",
              "    <tr>\n",
              "      <th>5</th>\n",
              "      <td>2012-01-01</td>\n",
              "      <td>6</td>\n",
              "      <td>8</td>\n",
              "    </tr>\n",
              "    <tr>\n",
              "      <th>6</th>\n",
              "      <td>2012-01-01</td>\n",
              "      <td>7</td>\n",
              "      <td>8</td>\n",
              "    </tr>\n",
              "    <tr>\n",
              "      <th>7</th>\n",
              "      <td>2012-01-01</td>\n",
              "      <td>8</td>\n",
              "      <td>5</td>\n",
              "    </tr>\n",
              "    <tr>\n",
              "      <th>8</th>\n",
              "      <td>2012-01-01</td>\n",
              "      <td>9</td>\n",
              "      <td>6</td>\n",
              "    </tr>\n",
              "    <tr>\n",
              "      <th>9</th>\n",
              "      <td>2012-01-01</td>\n",
              "      <td>10</td>\n",
              "      <td>7</td>\n",
              "    </tr>\n",
              "    <tr>\n",
              "      <th>10</th>\n",
              "      <td>2012-01-01</td>\n",
              "      <td>11</td>\n",
              "      <td>8</td>\n",
              "    </tr>\n",
              "    <tr>\n",
              "      <th>11</th>\n",
              "      <td>2012-01-01</td>\n",
              "      <td>12</td>\n",
              "      <td>8</td>\n",
              "    </tr>\n",
              "    <tr>\n",
              "      <th>12</th>\n",
              "      <td>2012-02-01</td>\n",
              "      <td>1</td>\n",
              "      <td>9</td>\n",
              "    </tr>\n",
              "    <tr>\n",
              "      <th>13</th>\n",
              "      <td>2012-02-01</td>\n",
              "      <td>2</td>\n",
              "      <td>6</td>\n",
              "    </tr>\n",
              "    <tr>\n",
              "      <th>14</th>\n",
              "      <td>2012-02-01</td>\n",
              "      <td>3</td>\n",
              "      <td>7</td>\n",
              "    </tr>\n",
              "    <tr>\n",
              "      <th>15</th>\n",
              "      <td>2012-02-01</td>\n",
              "      <td>4</td>\n",
              "      <td>4</td>\n",
              "    </tr>\n",
              "    <tr>\n",
              "      <th>16</th>\n",
              "      <td>2012-02-01</td>\n",
              "      <td>5</td>\n",
              "      <td>2</td>\n",
              "    </tr>\n",
              "    <tr>\n",
              "      <th>17</th>\n",
              "      <td>2012-02-01</td>\n",
              "      <td>6</td>\n",
              "      <td>3</td>\n",
              "    </tr>\n",
              "    <tr>\n",
              "      <th>18</th>\n",
              "      <td>2012-02-01</td>\n",
              "      <td>7</td>\n",
              "      <td>6</td>\n",
              "    </tr>\n",
              "    <tr>\n",
              "      <th>19</th>\n",
              "      <td>2012-02-01</td>\n",
              "      <td>8</td>\n",
              "      <td>3</td>\n",
              "    </tr>\n",
              "    <tr>\n",
              "      <th>20</th>\n",
              "      <td>2012-02-01</td>\n",
              "      <td>9</td>\n",
              "      <td>4</td>\n",
              "    </tr>\n",
              "    <tr>\n",
              "      <th>21</th>\n",
              "      <td>2012-02-01</td>\n",
              "      <td>10</td>\n",
              "      <td>3</td>\n",
              "    </tr>\n",
              "    <tr>\n",
              "      <th>22</th>\n",
              "      <td>2012-02-01</td>\n",
              "      <td>11</td>\n",
              "      <td>1</td>\n",
              "    </tr>\n",
              "    <tr>\n",
              "      <th>23</th>\n",
              "      <td>2012-03-01</td>\n",
              "      <td>1</td>\n",
              "      <td>7</td>\n",
              "    </tr>\n",
              "    <tr>\n",
              "      <th>24</th>\n",
              "      <td>2012-03-01</td>\n",
              "      <td>2</td>\n",
              "      <td>4</td>\n",
              "    </tr>\n",
              "    <tr>\n",
              "      <th>25</th>\n",
              "      <td>2012-03-01</td>\n",
              "      <td>3</td>\n",
              "      <td>2</td>\n",
              "    </tr>\n",
              "    <tr>\n",
              "      <th>26</th>\n",
              "      <td>2012-03-01</td>\n",
              "      <td>4</td>\n",
              "      <td>3</td>\n",
              "    </tr>\n",
              "    <tr>\n",
              "      <th>27</th>\n",
              "      <td>2012-03-01</td>\n",
              "      <td>5</td>\n",
              "      <td>2</td>\n",
              "    </tr>\n",
              "    <tr>\n",
              "      <th>28</th>\n",
              "      <td>2012-03-01</td>\n",
              "      <td>6</td>\n",
              "      <td>4</td>\n",
              "    </tr>\n",
              "    <tr>\n",
              "      <th>29</th>\n",
              "      <td>2012-03-01</td>\n",
              "      <td>7</td>\n",
              "      <td>4</td>\n",
              "    </tr>\n",
              "    <tr>\n",
              "      <th>30</th>\n",
              "      <td>2012-03-01</td>\n",
              "      <td>8</td>\n",
              "      <td>2</td>\n",
              "    </tr>\n",
              "    <tr>\n",
              "      <th>31</th>\n",
              "      <td>2012-03-01</td>\n",
              "      <td>9</td>\n",
              "      <td>3</td>\n",
              "    </tr>\n",
              "    <tr>\n",
              "      <th>32</th>\n",
              "      <td>2012-03-01</td>\n",
              "      <td>10</td>\n",
              "      <td>1</td>\n",
              "    </tr>\n",
              "    <tr>\n",
              "      <th>33</th>\n",
              "      <td>2012-06-01</td>\n",
              "      <td>1</td>\n",
              "      <td>2</td>\n",
              "    </tr>\n",
              "    <tr>\n",
              "      <th>34</th>\n",
              "      <td>2012-06-01</td>\n",
              "      <td>2</td>\n",
              "      <td>2</td>\n",
              "    </tr>\n",
              "    <tr>\n",
              "      <th>35</th>\n",
              "      <td>2012-06-01</td>\n",
              "      <td>3</td>\n",
              "      <td>1</td>\n",
              "    </tr>\n",
              "    <tr>\n",
              "      <th>36</th>\n",
              "      <td>2012-06-01</td>\n",
              "      <td>4</td>\n",
              "      <td>1</td>\n",
              "    </tr>\n",
              "    <tr>\n",
              "      <th>37</th>\n",
              "      <td>2012-06-01</td>\n",
              "      <td>5</td>\n",
              "      <td>1</td>\n",
              "    </tr>\n",
              "    <tr>\n",
              "      <th>38</th>\n",
              "      <td>2012-07-01</td>\n",
              "      <td>1</td>\n",
              "      <td>1</td>\n",
              "    </tr>\n",
              "    <tr>\n",
              "      <th>39</th>\n",
              "      <td>2012-07-01</td>\n",
              "      <td>5</td>\n",
              "      <td>1</td>\n",
              "    </tr>\n",
              "  </tbody>\n",
              "</table>\n",
              "</div>"
            ],
            "text/plain": [
              "    cohort_ym  cohort_index  bikeshop_name\n",
              "0  2012-01-01             1             11\n",
              "1  2012-01-01             2              8\n",
              "2  2012-01-01             3              8\n",
              "3  2012-01-01             4              9\n",
              "4  2012-01-01             5              5\n",
              "5  2012-01-01             6              8\n",
              "6  2012-01-01             7              8\n",
              "7  2012-01-01             8              5\n",
              "8  2012-01-01             9              6\n",
              "9  2012-01-01            10              7\n",
              "10 2012-01-01            11              8\n",
              "11 2012-01-01            12              8\n",
              "12 2012-02-01             1              9\n",
              "13 2012-02-01             2              6\n",
              "14 2012-02-01             3              7\n",
              "15 2012-02-01             4              4\n",
              "16 2012-02-01             5              2\n",
              "17 2012-02-01             6              3\n",
              "18 2012-02-01             7              6\n",
              "19 2012-02-01             8              3\n",
              "20 2012-02-01             9              4\n",
              "21 2012-02-01            10              3\n",
              "22 2012-02-01            11              1\n",
              "23 2012-03-01             1              7\n",
              "24 2012-03-01             2              4\n",
              "25 2012-03-01             3              2\n",
              "26 2012-03-01             4              3\n",
              "27 2012-03-01             5              2\n",
              "28 2012-03-01             6              4\n",
              "29 2012-03-01             7              4\n",
              "30 2012-03-01             8              2\n",
              "31 2012-03-01             9              3\n",
              "32 2012-03-01            10              1\n",
              "33 2012-06-01             1              2\n",
              "34 2012-06-01             2              2\n",
              "35 2012-06-01             3              1\n",
              "36 2012-06-01             4              1\n",
              "37 2012-06-01             5              1\n",
              "38 2012-07-01             1              1\n",
              "39 2012-07-01             5              1"
            ]
          },
          "metadata": {
            "tags": []
          },
          "execution_count": 23
        }
      ]
    },
    {
      "cell_type": "markdown",
      "metadata": {
        "id": "5rx-uJ5sgvSi"
      },
      "source": [
        "#### Analyse customer RFM (Recency, Frequency, Monetary Value)"
      ]
    },
    {
      "cell_type": "markdown",
      "metadata": {
        "id": "_e7V0TTUWv3G"
      },
      "source": [
        "Create basic RFM Table"
      ]
    },
    {
      "cell_type": "code",
      "metadata": {
        "id": "bPA39Yt0g3cE",
        "colab": {
          "base_uri": "https://localhost:8080/",
          "height": 194
        },
        "outputId": "b58c8819-5c3d-43c2-ade7-b443a45fc94b"
      },
      "source": [
        "# Create a table that shows, by customer their: Name, Days since last purchase (Recency), No fo purcahses (frequency) and total sales value (total_sales)\n",
        "\n",
        "# Get latest date\n",
        "snapshot_date = max(cust_sales_tbl['order_date']) + dt.timedelta(days=1)\n",
        "\n",
        "# Create a customer RFM matrix \n",
        "\n",
        "customer_RFM_tbl= cust_sales_tbl.groupby(['bikeshop_name']).agg({\n",
        "    'order_date' : lambda x: (snapshot_date - x.max()).days,\n",
        "    'order_line' : 'count',\n",
        "    'sales_value' : 'sum'})\n",
        "\n",
        "customer_RFM_tbl.rename( columns = {'order_date' : 'recency',\n",
        "                                    'order_line' : 'frequency',\n",
        "                                    'sales_value' : 'total_sales'}, inplace = True)\n",
        "customer_RFM_tbl.head()"
      ],
      "execution_count": 24,
      "outputs": [
        {
          "output_type": "execute_result",
          "data": {
            "application/vnd.google.colaboratory.module+javascript": "\n      import \"https://ssl.gstatic.com/colaboratory/data_table/a6224c040fa35dcf/data_table.js\";\n\n      window.createDataTable({\n        data: [[\"Albuquerque Cycles\",\n{\n            'v': 294,\n            'f': \"294\",\n        },\n{\n            'v': 16,\n            'f': \"16\",\n        },\n{\n            'v': 81035,\n            'f': \"81035\",\n        }],\n [\"Ann Arbor Speed\",\n{\n            'v': 41,\n            'f': \"41\",\n        },\n{\n            'v': 100,\n            'f': \"100\",\n        },\n{\n            'v': 565625,\n            'f': \"565625\",\n        }],\n [\"Austin Cruisers\",\n{\n            'v': 36,\n            'f': \"36\",\n        },\n{\n            'v': 47,\n            'f': \"47\",\n        },\n{\n            'v': 215310,\n            'f': \"215310\",\n        }],\n [\"Cincinnati Speed\",\n{\n            'v': 124,\n            'f': \"124\",\n        },\n{\n            'v': 44,\n            'f': \"44\",\n        },\n{\n            'v': 272440,\n            'f': \"272440\",\n        }],\n [\"Columbus Race Equipment\",\n{\n            'v': 103,\n            'f': \"103\",\n        },\n{\n            'v': 61,\n            'f': \"61\",\n        },\n{\n            'v': 324300,\n            'f': \"324300\",\n        }]],\n        columns: [[\"string\", \"bikeshop_name\"], [\"number\", \"recency\"], [\"number\", \"frequency\"], [\"number\", \"total_sales\"]],\n        columnOptions: [{\"width\": \"1px\", \"className\": \"index_column\"}],\n        rowsPerPage: 25,\n        helpUrl: \"https://colab.research.google.com/notebooks/data_table.ipynb\",\n        suppressOutputScrolling: true,\n        minimumWidth: undefined,\n      });\n    ",
            "text/html": [
              "<div>\n",
              "<style scoped>\n",
              "    .dataframe tbody tr th:only-of-type {\n",
              "        vertical-align: middle;\n",
              "    }\n",
              "\n",
              "    .dataframe tbody tr th {\n",
              "        vertical-align: top;\n",
              "    }\n",
              "\n",
              "    .dataframe thead th {\n",
              "        text-align: right;\n",
              "    }\n",
              "</style>\n",
              "<table border=\"1\" class=\"dataframe\">\n",
              "  <thead>\n",
              "    <tr style=\"text-align: right;\">\n",
              "      <th></th>\n",
              "      <th>recency</th>\n",
              "      <th>frequency</th>\n",
              "      <th>total_sales</th>\n",
              "    </tr>\n",
              "    <tr>\n",
              "      <th>bikeshop_name</th>\n",
              "      <th></th>\n",
              "      <th></th>\n",
              "      <th></th>\n",
              "    </tr>\n",
              "  </thead>\n",
              "  <tbody>\n",
              "    <tr>\n",
              "      <th>Albuquerque Cycles</th>\n",
              "      <td>294</td>\n",
              "      <td>16</td>\n",
              "      <td>81035</td>\n",
              "    </tr>\n",
              "    <tr>\n",
              "      <th>Ann Arbor Speed</th>\n",
              "      <td>41</td>\n",
              "      <td>100</td>\n",
              "      <td>565625</td>\n",
              "    </tr>\n",
              "    <tr>\n",
              "      <th>Austin Cruisers</th>\n",
              "      <td>36</td>\n",
              "      <td>47</td>\n",
              "      <td>215310</td>\n",
              "    </tr>\n",
              "    <tr>\n",
              "      <th>Cincinnati Speed</th>\n",
              "      <td>124</td>\n",
              "      <td>44</td>\n",
              "      <td>272440</td>\n",
              "    </tr>\n",
              "    <tr>\n",
              "      <th>Columbus Race Equipment</th>\n",
              "      <td>103</td>\n",
              "      <td>61</td>\n",
              "      <td>324300</td>\n",
              "    </tr>\n",
              "  </tbody>\n",
              "</table>\n",
              "</div>"
            ],
            "text/plain": [
              "                         recency  frequency  total_sales\n",
              "bikeshop_name                                           \n",
              "Albuquerque Cycles           294         16        81035\n",
              "Ann Arbor Speed               41        100       565625\n",
              "Austin Cruisers               36         47       215310\n",
              "Cincinnati Speed             124         44       272440\n",
              "Columbus Race Equipment      103         61       324300"
            ]
          },
          "metadata": {
            "tags": []
          },
          "execution_count": 24
        }
      ]
    },
    {
      "cell_type": "markdown",
      "metadata": {
        "id": "PfkbyqTFW04F"
      },
      "source": [
        "Create RFM segments "
      ]
    },
    {
      "cell_type": "code",
      "metadata": {
        "id": "ddWn9R2PXiUW"
      },
      "source": [
        "# Create quartiles to group RFM values into bins. \n",
        "# Generate labels for recency and asisgn to new column: R \n",
        "r_labels = range(4,0,-1)\n",
        "r_quartiles = pd.qcut(customer_RFM_tbl['recency'],4,labels = r_labels)\n",
        "customer_RFM__segment_tbl = customer_RFM_tbl.assign(R = r_quartiles.values)\n",
        "\n",
        "# Generate labels for frequency and asisgn to new column: F \n",
        "f_labels = range(1,5)\n",
        "f_quartiles = pd.qcut(customer_RFM_tbl['frequency'],4,labels = f_labels)\n",
        "customer_RFM__segment_tbl = customer_RFM__segment_tbl.assign(F = f_quartiles.values)\n",
        "\n",
        "# Generate labels for frequency and asisgn to new column: M \n",
        "m_labels = range(1,5)\n",
        "m_quartiles = pd.qcut(customer_RFM_tbl['total_sales'],4,labels = m_labels)\n",
        "customer_RFM__segment_tbl = customer_RFM__segment_tbl.assign(M = m_quartiles.values)\n",
        "\n",
        "#Create RFM Segments \n",
        "def join_rfm(x): return str(x['R']) + str(x['F']) + str(x['M'])\n",
        "\n",
        "customer_RFM__segment_tbl['RFM_segment'] = customer_RFM__segment_tbl.apply(join_rfm, axis =1)\n",
        "customer_RFM__segment_tbl['RFM_Score'] = customer_RFM__segment_tbl[['R','F','M']].sum(axis=1)"
      ],
      "execution_count": 25,
      "outputs": []
    },
    {
      "cell_type": "markdown",
      "metadata": {
        "id": "WcG1BQbLeILo"
      },
      "source": [
        "Review RFM Segment statistics"
      ]
    },
    {
      "cell_type": "code",
      "metadata": {
        "id": "WWz3XHouZRgY",
        "colab": {
          "base_uri": "https://localhost:8080/",
          "height": 421
        },
        "outputId": "0ce9fe8c-8406-45b2-9543-57838d2b0257"
      },
      "source": [
        "customer_RFM__segment_tbl.groupby('RFM_Score').agg({\n",
        "    'recency' : 'mean',\n",
        "    'frequency' : 'mean',\n",
        "    'total_sales' : ['mean','count']}).round(1)"
      ],
      "execution_count": 26,
      "outputs": [
        {
          "output_type": "execute_result",
          "data": {
            "text/html": [
              "<div>\n",
              "<style scoped>\n",
              "    .dataframe tbody tr th:only-of-type {\n",
              "        vertical-align: middle;\n",
              "    }\n",
              "\n",
              "    .dataframe tbody tr th {\n",
              "        vertical-align: top;\n",
              "    }\n",
              "\n",
              "    .dataframe thead tr th {\n",
              "        text-align: left;\n",
              "    }\n",
              "\n",
              "    .dataframe thead tr:last-of-type th {\n",
              "        text-align: right;\n",
              "    }\n",
              "</style>\n",
              "<table border=\"1\" class=\"dataframe\">\n",
              "  <thead>\n",
              "    <tr>\n",
              "      <th></th>\n",
              "      <th>recency</th>\n",
              "      <th>frequency</th>\n",
              "      <th colspan=\"2\" halign=\"left\">total_sales</th>\n",
              "    </tr>\n",
              "    <tr>\n",
              "      <th></th>\n",
              "      <th>mean</th>\n",
              "      <th>mean</th>\n",
              "      <th>mean</th>\n",
              "      <th>count</th>\n",
              "    </tr>\n",
              "    <tr>\n",
              "      <th>RFM_Score</th>\n",
              "      <th></th>\n",
              "      <th></th>\n",
              "      <th></th>\n",
              "      <th></th>\n",
              "    </tr>\n",
              "  </thead>\n",
              "  <tbody>\n",
              "    <tr>\n",
              "      <th>3</th>\n",
              "      <td>204.5</td>\n",
              "      <td>14.0</td>\n",
              "      <td>82072.5</td>\n",
              "      <td>4</td>\n",
              "    </tr>\n",
              "    <tr>\n",
              "      <th>4</th>\n",
              "      <td>79.3</td>\n",
              "      <td>32.7</td>\n",
              "      <td>146673.3</td>\n",
              "      <td>3</td>\n",
              "    </tr>\n",
              "    <tr>\n",
              "      <th>5</th>\n",
              "      <td>89.8</td>\n",
              "      <td>35.8</td>\n",
              "      <td>156263.8</td>\n",
              "      <td>4</td>\n",
              "    </tr>\n",
              "    <tr>\n",
              "      <th>6</th>\n",
              "      <td>124.0</td>\n",
              "      <td>44.0</td>\n",
              "      <td>272440.0</td>\n",
              "      <td>1</td>\n",
              "    </tr>\n",
              "    <tr>\n",
              "      <th>7</th>\n",
              "      <td>36.0</td>\n",
              "      <td>47.0</td>\n",
              "      <td>215310.0</td>\n",
              "      <td>1</td>\n",
              "    </tr>\n",
              "    <tr>\n",
              "      <th>8</th>\n",
              "      <td>49.8</td>\n",
              "      <td>59.2</td>\n",
              "      <td>281285.8</td>\n",
              "      <td>6</td>\n",
              "    </tr>\n",
              "    <tr>\n",
              "      <th>9</th>\n",
              "      <td>25.0</td>\n",
              "      <td>98.0</td>\n",
              "      <td>388100.0</td>\n",
              "      <td>1</td>\n",
              "    </tr>\n",
              "    <tr>\n",
              "      <th>10</th>\n",
              "      <td>34.7</td>\n",
              "      <td>88.7</td>\n",
              "      <td>455866.7</td>\n",
              "      <td>3</td>\n",
              "    </tr>\n",
              "    <tr>\n",
              "      <th>11</th>\n",
              "      <td>33.7</td>\n",
              "      <td>127.7</td>\n",
              "      <td>547385.0</td>\n",
              "      <td>3</td>\n",
              "    </tr>\n",
              "    <tr>\n",
              "      <th>12</th>\n",
              "      <td>16.8</td>\n",
              "      <td>291.2</td>\n",
              "      <td>1299097.5</td>\n",
              "      <td>4</td>\n",
              "    </tr>\n",
              "  </tbody>\n",
              "</table>\n",
              "</div>"
            ],
            "text/plain": [
              "          recency frequency total_sales      \n",
              "             mean      mean        mean count\n",
              "RFM_Score                                    \n",
              "3           204.5      14.0     82072.5     4\n",
              "4            79.3      32.7    146673.3     3\n",
              "5            89.8      35.8    156263.8     4\n",
              "6           124.0      44.0    272440.0     1\n",
              "7            36.0      47.0    215310.0     1\n",
              "8            49.8      59.2    281285.8     6\n",
              "9            25.0      98.0    388100.0     1\n",
              "10           34.7      88.7    455866.7     3\n",
              "11           33.7     127.7    547385.0     3\n",
              "12           16.8     291.2   1299097.5     4"
            ]
          },
          "metadata": {
            "tags": []
          },
          "execution_count": 26
        }
      ]
    },
    {
      "cell_type": "markdown",
      "metadata": {
        "id": "-wNCeFNYfYd5"
      },
      "source": [
        "Group RFM scores into named segments"
      ]
    },
    {
      "cell_type": "code",
      "metadata": {
        "id": "QrjoUPetfb7s",
        "colab": {
          "base_uri": "https://localhost:8080/",
          "height": 204
        },
        "outputId": "a191603e-50c4-41c2-8774-7af7bd39dc30"
      },
      "source": [
        "def segment_me(df) : \n",
        "    if df['RFM_Score'] >= 9: \n",
        "        return 'Gold'\n",
        "    elif (df['RFM_Score'] >= 5) and (df['RFM_Score'] < 9):\n",
        "        return 'Silver'\n",
        "    else: \n",
        "        return 'Bronze'\n",
        "\n",
        "customer_RFM__segment_tbl['general_segment'] = customer_RFM__segment_tbl.apply(segment_me,axis =1)\n",
        "\n",
        "customer_RFM__segment_tbl.groupby('general_segment').agg({\n",
        "    'recency' : 'mean',\n",
        "    'frequency' : 'mean',\n",
        "    'total_sales' : ['mean','count']}).round(1)"
      ],
      "execution_count": 27,
      "outputs": [
        {
          "output_type": "execute_result",
          "data": {
            "text/html": [
              "<div>\n",
              "<style scoped>\n",
              "    .dataframe tbody tr th:only-of-type {\n",
              "        vertical-align: middle;\n",
              "    }\n",
              "\n",
              "    .dataframe tbody tr th {\n",
              "        vertical-align: top;\n",
              "    }\n",
              "\n",
              "    .dataframe thead tr th {\n",
              "        text-align: left;\n",
              "    }\n",
              "\n",
              "    .dataframe thead tr:last-of-type th {\n",
              "        text-align: right;\n",
              "    }\n",
              "</style>\n",
              "<table border=\"1\" class=\"dataframe\">\n",
              "  <thead>\n",
              "    <tr>\n",
              "      <th></th>\n",
              "      <th>recency</th>\n",
              "      <th>frequency</th>\n",
              "      <th colspan=\"2\" halign=\"left\">total_sales</th>\n",
              "    </tr>\n",
              "    <tr>\n",
              "      <th></th>\n",
              "      <th>mean</th>\n",
              "      <th>mean</th>\n",
              "      <th>mean</th>\n",
              "      <th>count</th>\n",
              "    </tr>\n",
              "    <tr>\n",
              "      <th>general_segment</th>\n",
              "      <th></th>\n",
              "      <th></th>\n",
              "      <th></th>\n",
              "      <th></th>\n",
              "    </tr>\n",
              "  </thead>\n",
              "  <tbody>\n",
              "    <tr>\n",
              "      <th>Bronze</th>\n",
              "      <td>150.9</td>\n",
              "      <td>22.0</td>\n",
              "      <td>109758.6</td>\n",
              "      <td>7</td>\n",
              "    </tr>\n",
              "    <tr>\n",
              "      <th>Gold</th>\n",
              "      <td>27.0</td>\n",
              "      <td>173.8</td>\n",
              "      <td>781295.0</td>\n",
              "      <td>11</td>\n",
              "    </tr>\n",
              "    <tr>\n",
              "      <th>Silver</th>\n",
              "      <td>68.2</td>\n",
              "      <td>49.1</td>\n",
              "      <td>233376.7</td>\n",
              "      <td>12</td>\n",
              "    </tr>\n",
              "  </tbody>\n",
              "</table>\n",
              "</div>"
            ],
            "text/plain": [
              "                recency frequency total_sales      \n",
              "                   mean      mean        mean count\n",
              "general_segment                                    \n",
              "Bronze            150.9      22.0    109758.6     7\n",
              "Gold               27.0     173.8    781295.0    11\n",
              "Silver             68.2      49.1    233376.7    12"
            ]
          },
          "metadata": {
            "tags": []
          },
          "execution_count": 27
        }
      ]
    },
    {
      "cell_type": "code",
      "metadata": {
        "id": "y8ZQohi6e67n",
        "colab": {
          "base_uri": "https://localhost:8080/",
          "height": 194
        },
        "outputId": "81216595-749d-41c5-a8d1-9effcdadceaa"
      },
      "source": [
        "customer_RFM__segment_tbl.head()"
      ],
      "execution_count": 28,
      "outputs": [
        {
          "output_type": "execute_result",
          "data": {
            "application/vnd.google.colaboratory.module+javascript": "\n      import \"https://ssl.gstatic.com/colaboratory/data_table/a6224c040fa35dcf/data_table.js\";\n\n      window.createDataTable({\n        data: [[\"Albuquerque Cycles\",\n{\n            'v': 294,\n            'f': \"294\",\n        },\n{\n            'v': 16,\n            'f': \"16\",\n        },\n{\n            'v': 81035,\n            'f': \"81035\",\n        },\n{\n            'v': 1,\n            'f': \"1\",\n        },\n{\n            'v': 1,\n            'f': \"1\",\n        },\n{\n            'v': 1,\n            'f': \"1\",\n        },\n\"111\",\n{\n            'v': 3,\n            'f': \"3\",\n        },\n\"Bronze\"],\n [\"Ann Arbor Speed\",\n{\n            'v': 41,\n            'f': \"41\",\n        },\n{\n            'v': 100,\n            'f': \"100\",\n        },\n{\n            'v': 565625,\n            'f': \"565625\",\n        },\n{\n            'v': 3,\n            'f': \"3\",\n        },\n{\n            'v': 3,\n            'f': \"3\",\n        },\n{\n            'v': 4,\n            'f': \"4\",\n        },\n\"334\",\n{\n            'v': 10,\n            'f': \"10\",\n        },\n\"Gold\"],\n [\"Austin Cruisers\",\n{\n            'v': 36,\n            'f': \"36\",\n        },\n{\n            'v': 47,\n            'f': \"47\",\n        },\n{\n            'v': 215310,\n            'f': \"215310\",\n        },\n{\n            'v': 3,\n            'f': \"3\",\n        },\n{\n            'v': 2,\n            'f': \"2\",\n        },\n{\n            'v': 2,\n            'f': \"2\",\n        },\n\"322\",\n{\n            'v': 7,\n            'f': \"7\",\n        },\n\"Silver\"],\n [\"Cincinnati Speed\",\n{\n            'v': 124,\n            'f': \"124\",\n        },\n{\n            'v': 44,\n            'f': \"44\",\n        },\n{\n            'v': 272440,\n            'f': \"272440\",\n        },\n{\n            'v': 1,\n            'f': \"1\",\n        },\n{\n            'v': 2,\n            'f': \"2\",\n        },\n{\n            'v': 3,\n            'f': \"3\",\n        },\n\"123\",\n{\n            'v': 6,\n            'f': \"6\",\n        },\n\"Silver\"],\n [\"Columbus Race Equipment\",\n{\n            'v': 103,\n            'f': \"103\",\n        },\n{\n            'v': 61,\n            'f': \"61\",\n        },\n{\n            'v': 324300,\n            'f': \"324300\",\n        },\n{\n            'v': 2,\n            'f': \"2\",\n        },\n{\n            'v': 3,\n            'f': \"3\",\n        },\n{\n            'v': 3,\n            'f': \"3\",\n        },\n\"233\",\n{\n            'v': 8,\n            'f': \"8\",\n        },\n\"Silver\"]],\n        columns: [[\"string\", \"bikeshop_name\"], [\"number\", \"recency\"], [\"number\", \"frequency\"], [\"number\", \"total_sales\"], [\"number\", \"R\"], [\"number\", \"F\"], [\"number\", \"M\"], [\"string\", \"RFM_segment\"], [\"number\", \"RFM_Score\"], [\"string\", \"general_segment\"]],\n        columnOptions: [{\"width\": \"1px\", \"className\": \"index_column\"}],\n        rowsPerPage: 25,\n        helpUrl: \"https://colab.research.google.com/notebooks/data_table.ipynb\",\n        suppressOutputScrolling: true,\n        minimumWidth: undefined,\n      });\n    ",
            "text/html": [
              "<div>\n",
              "<style scoped>\n",
              "    .dataframe tbody tr th:only-of-type {\n",
              "        vertical-align: middle;\n",
              "    }\n",
              "\n",
              "    .dataframe tbody tr th {\n",
              "        vertical-align: top;\n",
              "    }\n",
              "\n",
              "    .dataframe thead th {\n",
              "        text-align: right;\n",
              "    }\n",
              "</style>\n",
              "<table border=\"1\" class=\"dataframe\">\n",
              "  <thead>\n",
              "    <tr style=\"text-align: right;\">\n",
              "      <th></th>\n",
              "      <th>recency</th>\n",
              "      <th>frequency</th>\n",
              "      <th>total_sales</th>\n",
              "      <th>R</th>\n",
              "      <th>F</th>\n",
              "      <th>M</th>\n",
              "      <th>RFM_segment</th>\n",
              "      <th>RFM_Score</th>\n",
              "      <th>general_segment</th>\n",
              "    </tr>\n",
              "    <tr>\n",
              "      <th>bikeshop_name</th>\n",
              "      <th></th>\n",
              "      <th></th>\n",
              "      <th></th>\n",
              "      <th></th>\n",
              "      <th></th>\n",
              "      <th></th>\n",
              "      <th></th>\n",
              "      <th></th>\n",
              "      <th></th>\n",
              "    </tr>\n",
              "  </thead>\n",
              "  <tbody>\n",
              "    <tr>\n",
              "      <th>Albuquerque Cycles</th>\n",
              "      <td>294</td>\n",
              "      <td>16</td>\n",
              "      <td>81035</td>\n",
              "      <td>1</td>\n",
              "      <td>1</td>\n",
              "      <td>1</td>\n",
              "      <td>111</td>\n",
              "      <td>3</td>\n",
              "      <td>Bronze</td>\n",
              "    </tr>\n",
              "    <tr>\n",
              "      <th>Ann Arbor Speed</th>\n",
              "      <td>41</td>\n",
              "      <td>100</td>\n",
              "      <td>565625</td>\n",
              "      <td>3</td>\n",
              "      <td>3</td>\n",
              "      <td>4</td>\n",
              "      <td>334</td>\n",
              "      <td>10</td>\n",
              "      <td>Gold</td>\n",
              "    </tr>\n",
              "    <tr>\n",
              "      <th>Austin Cruisers</th>\n",
              "      <td>36</td>\n",
              "      <td>47</td>\n",
              "      <td>215310</td>\n",
              "      <td>3</td>\n",
              "      <td>2</td>\n",
              "      <td>2</td>\n",
              "      <td>322</td>\n",
              "      <td>7</td>\n",
              "      <td>Silver</td>\n",
              "    </tr>\n",
              "    <tr>\n",
              "      <th>Cincinnati Speed</th>\n",
              "      <td>124</td>\n",
              "      <td>44</td>\n",
              "      <td>272440</td>\n",
              "      <td>1</td>\n",
              "      <td>2</td>\n",
              "      <td>3</td>\n",
              "      <td>123</td>\n",
              "      <td>6</td>\n",
              "      <td>Silver</td>\n",
              "    </tr>\n",
              "    <tr>\n",
              "      <th>Columbus Race Equipment</th>\n",
              "      <td>103</td>\n",
              "      <td>61</td>\n",
              "      <td>324300</td>\n",
              "      <td>2</td>\n",
              "      <td>3</td>\n",
              "      <td>3</td>\n",
              "      <td>233</td>\n",
              "      <td>8</td>\n",
              "      <td>Silver</td>\n",
              "    </tr>\n",
              "  </tbody>\n",
              "</table>\n",
              "</div>"
            ],
            "text/plain": [
              "                         recency  frequency  ...  RFM_Score general_segment\n",
              "bikeshop_name                                ...                           \n",
              "Albuquerque Cycles           294         16  ...          3          Bronze\n",
              "Ann Arbor Speed               41        100  ...         10            Gold\n",
              "Austin Cruisers               36         47  ...          7          Silver\n",
              "Cincinnati Speed             124         44  ...          6          Silver\n",
              "Columbus Race Equipment      103         61  ...          8          Silver\n",
              "\n",
              "[5 rows x 9 columns]"
            ]
          },
          "metadata": {
            "tags": []
          },
          "execution_count": 28
        }
      ]
    },
    {
      "cell_type": "markdown",
      "metadata": {
        "id": "glZhPtLSivA8"
      },
      "source": [
        "### Perform Advanced custmer segment analysis (K means clustering)"
      ]
    },
    {
      "cell_type": "markdown",
      "metadata": {
        "id": "do9UK8gCAoxM"
      },
      "source": [
        "#### Prepare data for k means clustering"
      ]
    },
    {
      "cell_type": "markdown",
      "metadata": {
        "id": "OnK2rGyLw1wX"
      },
      "source": [
        "Prepare data for k means.  Data must be: \n",
        "- Normally distributed \n",
        "- Normalized (same scale for mean and standard deviation) \n"
      ]
    },
    {
      "cell_type": "markdown",
      "metadata": {
        "id": "Gctzm-mpxhDu"
      },
      "source": [
        "First look at recency & frequency data skewness as is"
      ]
    },
    {
      "cell_type": "code",
      "metadata": {
        "colab": {
          "base_uri": "https://localhost:8080/",
          "height": 194
        },
        "id": "LPZsA2iSxsER",
        "outputId": "64edcfd5-c103-4a3e-d54d-e9f8cf8694df"
      },
      "source": [
        "customer_RFM_tbl.head()"
      ],
      "execution_count": null,
      "outputs": [
        {
          "output_type": "execute_result",
          "data": {
            "application/vnd.google.colaboratory.module+javascript": "\n      import \"https://ssl.gstatic.com/colaboratory/data_table/a6224c040fa35dcf/data_table.js\";\n\n      window.createDataTable({\n        data: [[\"Albuquerque Cycles\",\n{\n            'v': 294,\n            'f': \"294\",\n        },\n{\n            'v': 16,\n            'f': \"16\",\n        },\n{\n            'v': 81035,\n            'f': \"81035\",\n        }],\n [\"Ann Arbor Speed\",\n{\n            'v': 41,\n            'f': \"41\",\n        },\n{\n            'v': 100,\n            'f': \"100\",\n        },\n{\n            'v': 565625,\n            'f': \"565625\",\n        }],\n [\"Austin Cruisers\",\n{\n            'v': 36,\n            'f': \"36\",\n        },\n{\n            'v': 47,\n            'f': \"47\",\n        },\n{\n            'v': 215310,\n            'f': \"215310\",\n        }],\n [\"Cincinnati Speed\",\n{\n            'v': 124,\n            'f': \"124\",\n        },\n{\n            'v': 44,\n            'f': \"44\",\n        },\n{\n            'v': 272440,\n            'f': \"272440\",\n        }],\n [\"Columbus Race Equipment\",\n{\n            'v': 103,\n            'f': \"103\",\n        },\n{\n            'v': 61,\n            'f': \"61\",\n        },\n{\n            'v': 324300,\n            'f': \"324300\",\n        }]],\n        columns: [[\"string\", \"bikeshop_name\"], [\"number\", \"recency\"], [\"number\", \"frequency\"], [\"number\", \"total_sales\"]],\n        columnOptions: [{\"width\": \"1px\", \"className\": \"index_column\"}],\n        rowsPerPage: 25,\n        helpUrl: \"https://colab.research.google.com/notebooks/data_table.ipynb\",\n        suppressOutputScrolling: true,\n        minimumWidth: undefined,\n      });\n    ",
            "text/html": [
              "<div>\n",
              "<style scoped>\n",
              "    .dataframe tbody tr th:only-of-type {\n",
              "        vertical-align: middle;\n",
              "    }\n",
              "\n",
              "    .dataframe tbody tr th {\n",
              "        vertical-align: top;\n",
              "    }\n",
              "\n",
              "    .dataframe thead th {\n",
              "        text-align: right;\n",
              "    }\n",
              "</style>\n",
              "<table border=\"1\" class=\"dataframe\">\n",
              "  <thead>\n",
              "    <tr style=\"text-align: right;\">\n",
              "      <th></th>\n",
              "      <th>recency</th>\n",
              "      <th>frequency</th>\n",
              "      <th>total_sales</th>\n",
              "    </tr>\n",
              "    <tr>\n",
              "      <th>bikeshop_name</th>\n",
              "      <th></th>\n",
              "      <th></th>\n",
              "      <th></th>\n",
              "    </tr>\n",
              "  </thead>\n",
              "  <tbody>\n",
              "    <tr>\n",
              "      <th>Albuquerque Cycles</th>\n",
              "      <td>294</td>\n",
              "      <td>16</td>\n",
              "      <td>81035</td>\n",
              "    </tr>\n",
              "    <tr>\n",
              "      <th>Ann Arbor Speed</th>\n",
              "      <td>41</td>\n",
              "      <td>100</td>\n",
              "      <td>565625</td>\n",
              "    </tr>\n",
              "    <tr>\n",
              "      <th>Austin Cruisers</th>\n",
              "      <td>36</td>\n",
              "      <td>47</td>\n",
              "      <td>215310</td>\n",
              "    </tr>\n",
              "    <tr>\n",
              "      <th>Cincinnati Speed</th>\n",
              "      <td>124</td>\n",
              "      <td>44</td>\n",
              "      <td>272440</td>\n",
              "    </tr>\n",
              "    <tr>\n",
              "      <th>Columbus Race Equipment</th>\n",
              "      <td>103</td>\n",
              "      <td>61</td>\n",
              "      <td>324300</td>\n",
              "    </tr>\n",
              "  </tbody>\n",
              "</table>\n",
              "</div>"
            ],
            "text/plain": [
              "                         recency  frequency  total_sales\n",
              "bikeshop_name                                           \n",
              "Albuquerque Cycles           294         16        81035\n",
              "Ann Arbor Speed               41        100       565625\n",
              "Austin Cruisers               36         47       215310\n",
              "Cincinnati Speed             124         44       272440\n",
              "Columbus Race Equipment      103         61       324300"
            ]
          },
          "metadata": {
            "tags": []
          },
          "execution_count": 133
        }
      ]
    },
    {
      "cell_type": "code",
      "metadata": {
        "id": "D72mxYeai2Yq",
        "colab": {
          "base_uri": "https://localhost:8080/",
          "height": 390
        },
        "outputId": "fae75e42-f66f-4563-bad2-ca1b8c89ef2a"
      },
      "source": [
        "chart_1 = alt.Chart(customer_RFM_tbl).mark_bar().encode(\n",
        "    alt.X('frequency:Q', bin = alt.Bin(maxbins=25)),\n",
        "    y = 'count()',\n",
        ")\n",
        "\n",
        "chart_2 = alt.Chart(customer_RFM_tbl).mark_bar().encode(\n",
        "    alt.X('recency:Q', bin = alt.Bin(maxbins=25)),\n",
        "    y = 'count()',\n",
        ")\n",
        "\n",
        "chart_3 = alt.Chart(customer_RFM_tbl).mark_bar().encode(\n",
        "    alt.X('total_sales:Q', bin = alt.Bin(maxbins=25)),\n",
        "    y = 'count()',\n",
        ")\n",
        "\n",
        "chart_1 | chart_2 | chart_3"
      ],
      "execution_count": null,
      "outputs": [
        {
          "output_type": "execute_result",
          "data": {
            "text/plain": [
              "alt.HConcatChart(...)"
            ],
            "text/html": [
              "\n",
              "<div id=\"altair-viz-3fae546ea8b24a81a5ad5815435b4cb0\"></div>\n",
              "<script type=\"text/javascript\">\n",
              "  (function(spec, embedOpt){\n",
              "    let outputDiv = document.currentScript.previousElementSibling;\n",
              "    if (outputDiv.id !== \"altair-viz-3fae546ea8b24a81a5ad5815435b4cb0\") {\n",
              "      outputDiv = document.getElementById(\"altair-viz-3fae546ea8b24a81a5ad5815435b4cb0\");\n",
              "    }\n",
              "    const paths = {\n",
              "      \"vega\": \"https://cdn.jsdelivr.net/npm//vega@5?noext\",\n",
              "      \"vega-lib\": \"https://cdn.jsdelivr.net/npm//vega-lib?noext\",\n",
              "      \"vega-lite\": \"https://cdn.jsdelivr.net/npm//vega-lite@4.8.1?noext\",\n",
              "      \"vega-embed\": \"https://cdn.jsdelivr.net/npm//vega-embed@6?noext\",\n",
              "    };\n",
              "\n",
              "    function loadScript(lib) {\n",
              "      return new Promise(function(resolve, reject) {\n",
              "        var s = document.createElement('script');\n",
              "        s.src = paths[lib];\n",
              "        s.async = true;\n",
              "        s.onload = () => resolve(paths[lib]);\n",
              "        s.onerror = () => reject(`Error loading script: ${paths[lib]}`);\n",
              "        document.getElementsByTagName(\"head\")[0].appendChild(s);\n",
              "      });\n",
              "    }\n",
              "\n",
              "    function showError(err) {\n",
              "      outputDiv.innerHTML = `<div class=\"error\" style=\"color:red;\">${err}</div>`;\n",
              "      throw err;\n",
              "    }\n",
              "\n",
              "    function displayChart(vegaEmbed) {\n",
              "      vegaEmbed(outputDiv, spec, embedOpt)\n",
              "        .catch(err => showError(`Javascript Error: ${err.message}<br>This usually means there's a typo in your chart specification. See the javascript console for the full traceback.`));\n",
              "    }\n",
              "\n",
              "    if(typeof define === \"function\" && define.amd) {\n",
              "      requirejs.config({paths});\n",
              "      require([\"vega-embed\"], displayChart, err => showError(`Error loading script: ${err.message}`));\n",
              "    } else if (typeof vegaEmbed === \"function\") {\n",
              "      displayChart(vegaEmbed);\n",
              "    } else {\n",
              "      loadScript(\"vega\")\n",
              "        .then(() => loadScript(\"vega-lite\"))\n",
              "        .then(() => loadScript(\"vega-embed\"))\n",
              "        .catch(showError)\n",
              "        .then(() => displayChart(vegaEmbed));\n",
              "    }\n",
              "  })({\"config\": {\"view\": {\"continuousWidth\": 400, \"continuousHeight\": 300}}, \"hconcat\": [{\"mark\": \"bar\", \"encoding\": {\"x\": {\"type\": \"quantitative\", \"bin\": {\"maxbins\": 25}, \"field\": \"frequency\"}, \"y\": {\"type\": \"quantitative\", \"aggregate\": \"count\"}}}, {\"mark\": \"bar\", \"encoding\": {\"x\": {\"type\": \"quantitative\", \"bin\": {\"maxbins\": 25}, \"field\": \"recency\"}, \"y\": {\"type\": \"quantitative\", \"aggregate\": \"count\"}}}, {\"mark\": \"bar\", \"encoding\": {\"x\": {\"type\": \"quantitative\", \"bin\": {\"maxbins\": 25}, \"field\": \"total_sales\"}, \"y\": {\"type\": \"quantitative\", \"aggregate\": \"count\"}}}], \"data\": {\"name\": \"data-b26c2f77d1d9aa0a81b89af94035fada\"}, \"$schema\": \"https://vega.github.io/schema/vega-lite/v4.8.1.json\", \"datasets\": {\"data-b26c2f77d1d9aa0a81b89af94035fada\": [{\"recency\": 294, \"frequency\": 16, \"total_sales\": 81035}, {\"recency\": 41, \"frequency\": 100, \"total_sales\": 565625}, {\"recency\": 36, \"frequency\": 47, \"total_sales\": 215310}, {\"recency\": 124, \"frequency\": 44, \"total_sales\": 272440}, {\"recency\": 103, \"frequency\": 61, \"total_sales\": 324300}, {\"recency\": 151, \"frequency\": 44, \"total_sales\": 180590}, {\"recency\": 20, \"frequency\": 299, \"total_sales\": 1292015}, {\"recency\": 109, \"frequency\": 43, \"total_sales\": 162165}, {\"recency\": 75, \"frequency\": 29, \"total_sales\": 133555}, {\"recency\": 8, \"frequency\": 155, \"total_sales\": 975770}, {\"recency\": 18, \"frequency\": 531, \"total_sales\": 2169185}, {\"recency\": 14, \"frequency\": 55, \"total_sales\": 365380}, {\"recency\": 130, \"frequency\": 19, \"total_sales\": 62420}, {\"recency\": 81, \"frequency\": 66, \"total_sales\": 391545}, {\"recency\": 19, \"frequency\": 112, \"total_sales\": 391825}, {\"recency\": 84, \"frequency\": 69, \"total_sales\": 335055}, {\"recency\": 1, \"frequency\": 54, \"total_sales\": 189080}, {\"recency\": 50, \"frequency\": 38, \"total_sales\": 190470}, {\"recency\": 25, \"frequency\": 98, \"total_sales\": 388100}, {\"recency\": 49, \"frequency\": 111, \"total_sales\": 436595}, {\"recency\": 110, \"frequency\": 45, \"total_sales\": 201400}, {\"recency\": 39, \"frequency\": 170, \"total_sales\": 590505}, {\"recency\": 54, \"frequency\": 26, \"total_sales\": 144300}, {\"recency\": 21, \"frequency\": 180, \"total_sales\": 759420}, {\"recency\": 22, \"frequency\": 64, \"total_sales\": 231925}, {\"recency\": 48, \"frequency\": 16, \"total_sales\": 52595}, {\"recency\": 8, \"frequency\": 41, \"total_sales\": 215810}, {\"recency\": 281, \"frequency\": 6, \"total_sales\": 15630}, {\"recency\": 113, \"frequency\": 15, \"total_sales\": 169205}, {\"recency\": 43, \"frequency\": 101, \"total_sales\": 659825}]}}, {\"mode\": \"vega-lite\"});\n",
              "</script>"
            ]
          },
          "metadata": {
            "tags": []
          },
          "execution_count": 134
        }
      ]
    },
    {
      "cell_type": "markdown",
      "metadata": {
        "id": "dbKhoQdQzWMQ"
      },
      "source": [
        "Normalize the data for clustering. This involves: \n",
        "\n",
        "\n",
        "*   Unskewing the data (via log transformations)\n",
        "*   Centering & scaling the data (aka 'Normalizing' the data) "
      ]
    },
    {
      "cell_type": "code",
      "metadata": {
        "id": "K38i2wer4E85"
      },
      "source": [
        "# Apply unskewing operations to data and save as separate dataframe\n",
        "customer_RFM_log_tbl =  np.log(customer_RFM_tbl)\n",
        "\n",
        "# Normalize the variables (x - x.mean to get centered and x / s.std() to get scaled data). Both can be done with scikit-learn\n",
        "from sklearn.preprocessing import StandardScaler\n",
        "scaler = StandardScaler()\n",
        "scaler.fit(customer_RFM_log_tbl)\n",
        "\n",
        "#Store for clustring \n",
        "customer_RFM_normalized = scaler.transform(customer_RFM_log_tbl)\n",
        "\n",
        "# Create clustering ready dataframe\n",
        "customer_RFM_normalized = pd.DataFrame(customer_RFM_normalized, index = customer_RFM_tbl.index, columns = customer_RFM_tbl.columns)\n"
      ],
      "execution_count": null,
      "outputs": []
    },
    {
      "cell_type": "markdown",
      "metadata": {
        "id": "n1XbohmB4qqO"
      },
      "source": [
        "#### Apply K means clustering"
      ]
    },
    {
      "cell_type": "code",
      "metadata": {
        "id": "_SVgqDejLfyI"
      },
      "source": [
        "# import key libraries\n",
        "from sklearn.cluster import KMeans"
      ],
      "execution_count": null,
      "outputs": []
    },
    {
      "cell_type": "markdown",
      "metadata": {
        "id": "JGmlzFg5LE_h"
      },
      "source": [
        "Choose the correct number of clusters using ('elbow' method)"
      ]
    },
    {
      "cell_type": "code",
      "metadata": {
        "colab": {
          "base_uri": "https://localhost:8080/",
          "height": 368
        },
        "id": "9ZinglJ4LLVr",
        "outputId": "faacce5b-942d-4dcf-d64a-22bb914b1709"
      },
      "source": [
        "# Create empty array\n",
        "sse = {}\n",
        "\n",
        "# Loop clustering algorithm over k to get sse values for every value of k \n",
        "for k in range (1,11):\n",
        "    kmeans = KMeans(n_clusters = k, random_state=1)\n",
        "    kmeans.fit(customer_RFM_normalized)\n",
        "    sse[k] = kmeans.inertia_ # sum of squared distances to closest cluster center\n",
        "\n",
        "# Plot SSE for every K\n",
        "source = pd.DataFrame({'sse':sse}).reset_index().rename(columns = {'index' : 'k'})\n",
        "\n",
        "alt.Chart(source).mark_line().encode(\n",
        "    x='k',\n",
        "    y='sse',\n",
        "    tooltip = ['k','sse']\n",
        ")"
      ],
      "execution_count": null,
      "outputs": [
        {
          "output_type": "execute_result",
          "data": {
            "text/plain": [
              "alt.Chart(...)"
            ],
            "text/html": [
              "\n",
              "<div id=\"altair-viz-ede1ac0d36e5424d9718d89ec3b719c7\"></div>\n",
              "<script type=\"text/javascript\">\n",
              "  (function(spec, embedOpt){\n",
              "    let outputDiv = document.currentScript.previousElementSibling;\n",
              "    if (outputDiv.id !== \"altair-viz-ede1ac0d36e5424d9718d89ec3b719c7\") {\n",
              "      outputDiv = document.getElementById(\"altair-viz-ede1ac0d36e5424d9718d89ec3b719c7\");\n",
              "    }\n",
              "    const paths = {\n",
              "      \"vega\": \"https://cdn.jsdelivr.net/npm//vega@5?noext\",\n",
              "      \"vega-lib\": \"https://cdn.jsdelivr.net/npm//vega-lib?noext\",\n",
              "      \"vega-lite\": \"https://cdn.jsdelivr.net/npm//vega-lite@4.8.1?noext\",\n",
              "      \"vega-embed\": \"https://cdn.jsdelivr.net/npm//vega-embed@6?noext\",\n",
              "    };\n",
              "\n",
              "    function loadScript(lib) {\n",
              "      return new Promise(function(resolve, reject) {\n",
              "        var s = document.createElement('script');\n",
              "        s.src = paths[lib];\n",
              "        s.async = true;\n",
              "        s.onload = () => resolve(paths[lib]);\n",
              "        s.onerror = () => reject(`Error loading script: ${paths[lib]}`);\n",
              "        document.getElementsByTagName(\"head\")[0].appendChild(s);\n",
              "      });\n",
              "    }\n",
              "\n",
              "    function showError(err) {\n",
              "      outputDiv.innerHTML = `<div class=\"error\" style=\"color:red;\">${err}</div>`;\n",
              "      throw err;\n",
              "    }\n",
              "\n",
              "    function displayChart(vegaEmbed) {\n",
              "      vegaEmbed(outputDiv, spec, embedOpt)\n",
              "        .catch(err => showError(`Javascript Error: ${err.message}<br>This usually means there's a typo in your chart specification. See the javascript console for the full traceback.`));\n",
              "    }\n",
              "\n",
              "    if(typeof define === \"function\" && define.amd) {\n",
              "      requirejs.config({paths});\n",
              "      require([\"vega-embed\"], displayChart, err => showError(`Error loading script: ${err.message}`));\n",
              "    } else if (typeof vegaEmbed === \"function\") {\n",
              "      displayChart(vegaEmbed);\n",
              "    } else {\n",
              "      loadScript(\"vega\")\n",
              "        .then(() => loadScript(\"vega-lite\"))\n",
              "        .then(() => loadScript(\"vega-embed\"))\n",
              "        .catch(showError)\n",
              "        .then(() => displayChart(vegaEmbed));\n",
              "    }\n",
              "  })({\"config\": {\"view\": {\"continuousWidth\": 400, \"continuousHeight\": 300}}, \"data\": {\"name\": \"data-44fe974c0662ac36c9efb8a04badc096\"}, \"mark\": \"line\", \"encoding\": {\"tooltip\": [{\"type\": \"quantitative\", \"field\": \"k\"}, {\"type\": \"quantitative\", \"field\": \"sse\"}], \"x\": {\"type\": \"quantitative\", \"field\": \"k\"}, \"y\": {\"type\": \"quantitative\", \"field\": \"sse\"}}, \"$schema\": \"https://vega.github.io/schema/vega-lite/v4.8.1.json\", \"datasets\": {\"data-44fe974c0662ac36c9efb8a04badc096\": [{\"k\": 1, \"sse\": 90.00000000000001}, {\"k\": 2, \"sse\": 45.70751561189971}, {\"k\": 3, \"sse\": 32.893162194838986}, {\"k\": 4, \"sse\": 22.14811161906643}, {\"k\": 5, \"sse\": 16.80306191593263}, {\"k\": 6, \"sse\": 13.292253107478244}, {\"k\": 7, \"sse\": 9.599047328668261}, {\"k\": 8, \"sse\": 7.921923116481821}, {\"k\": 9, \"sse\": 6.704036799575669}, {\"k\": 10, \"sse\": 5.284222442528338}]}}, {\"mode\": \"vega-lite\"});\n",
              "</script>"
            ]
          },
          "metadata": {
            "tags": []
          },
          "execution_count": 171
        }
      ]
    },
    {
      "cell_type": "code",
      "metadata": {
        "id": "pCPDPalG5jDo"
      },
      "source": [
        "# From above chart 3 or 4 clusters looks reasonable \n",
        "\n",
        "# for selected clusters apply clusting on kmeans cluster to get cluster labels\n",
        "kmeans = KMeans(n_clusters=3,random_state=1)\n",
        "kmeans.fit(customer_RFM_normalized)\n",
        "cluster_labels = kmeans.labels_\n",
        "\n",
        "# Assign cluster labels to normal RFM data \n",
        "customer_RFM_k_tbl = customer_RFM_tbl.assign(cluster = cluster_labels)\n",
        "\n",
        "# Assign cluster labels to normalized RFM data \n",
        "\n",
        "customer_RFM_k_norm_tbl = customer_RFM_normalized.assign(cluster = cluster_labels)"
      ],
      "execution_count": null,
      "outputs": []
    },
    {
      "cell_type": "code",
      "metadata": {
        "colab": {
          "base_uri": "https://localhost:8080/",
          "height": 194
        },
        "id": "LNL9iJYWK6EL",
        "outputId": "523711d3-56ae-4688-9aa4-b103c79c7678"
      },
      "source": [
        "customer_RFM_k_norm_tbl.head()"
      ],
      "execution_count": null,
      "outputs": [
        {
          "output_type": "execute_result",
          "data": {
            "application/vnd.google.colaboratory.module+javascript": "\n      import \"https://ssl.gstatic.com/colaboratory/data_table/a6224c040fa35dcf/data_table.js\";\n\n      window.createDataTable({\n        data: [[\"Albuquerque Cycles\",\n{\n            'v': 1.647201659374893,\n            'f': \"1.647201659374893\",\n        },\n{\n            'v': -1.3596262944693391,\n            'f': \"-1.3596262944693391\",\n        },\n{\n            'v': -1.2052062235004186,\n            'f': \"-1.2052062235004186\",\n        },\n{\n            'v': 2,\n            'f': \"2\",\n        }],\n [\"Ann Arbor Speed\",\n{\n            'v': -0.05427941436436546,\n            'f': \"-0.05427941436436546\",\n        },\n{\n            'v': 0.6051091375732756,\n            'f': \"0.6051091375732756\",\n        },\n{\n            'v': 0.7835862474171083,\n            'f': \"0.7835862474171083\",\n        },\n{\n            'v': 1,\n            'f': \"1\",\n        }],\n [\"Austin Cruisers\",\n{\n            'v': -0.16660533888924772,\n            'f': \"-0.16660533888924772\",\n        },\n{\n            'v': -0.20436081105825127,\n            'f': \"-0.20436081105825127\",\n        },\n{\n            'v': -0.20500383339482672,\n            'f': \"-0.20500383339482672\",\n        },\n{\n            'v': 0,\n            'f': \"0\",\n        }],\n [\"Cincinnati Speed\",\n{\n            'v': 0.9015773906119192,\n            'f': \"0.9015773906119192\",\n        },\n{\n            'v': -0.2750752425362442,\n            'f': \"-0.2750752425362442\",\n        },\n{\n            'v': 0.03587596919728404,\n            'f': \"0.03587596919728404\",\n        },\n{\n            'v': 0,\n            'f': \"0\",\n        }],\n [\"Columbus Race Equipment\",\n{\n            'v': 0.7413170025504311,\n            'f': \"0.7413170025504311\",\n        },\n{\n            'v': 0.07516734965872825,\n            'f': \"0.07516734965872825\",\n        },\n{\n            'v': 0.21422869692312668,\n            'f': \"0.21422869692312668\",\n        },\n{\n            'v': 0,\n            'f': \"0\",\n        }]],\n        columns: [[\"string\", \"bikeshop_name\"], [\"number\", \"recency\"], [\"number\", \"frequency\"], [\"number\", \"total_sales\"], [\"number\", \"cluster\"]],\n        columnOptions: [{\"width\": \"1px\", \"className\": \"index_column\"}],\n        rowsPerPage: 25,\n        helpUrl: \"https://colab.research.google.com/notebooks/data_table.ipynb\",\n        suppressOutputScrolling: true,\n        minimumWidth: undefined,\n      });\n    ",
            "text/html": [
              "<div>\n",
              "<style scoped>\n",
              "    .dataframe tbody tr th:only-of-type {\n",
              "        vertical-align: middle;\n",
              "    }\n",
              "\n",
              "    .dataframe tbody tr th {\n",
              "        vertical-align: top;\n",
              "    }\n",
              "\n",
              "    .dataframe thead th {\n",
              "        text-align: right;\n",
              "    }\n",
              "</style>\n",
              "<table border=\"1\" class=\"dataframe\">\n",
              "  <thead>\n",
              "    <tr style=\"text-align: right;\">\n",
              "      <th></th>\n",
              "      <th>recency</th>\n",
              "      <th>frequency</th>\n",
              "      <th>total_sales</th>\n",
              "      <th>cluster</th>\n",
              "    </tr>\n",
              "    <tr>\n",
              "      <th>bikeshop_name</th>\n",
              "      <th></th>\n",
              "      <th></th>\n",
              "      <th></th>\n",
              "      <th></th>\n",
              "    </tr>\n",
              "  </thead>\n",
              "  <tbody>\n",
              "    <tr>\n",
              "      <th>Albuquerque Cycles</th>\n",
              "      <td>1.647202</td>\n",
              "      <td>-1.359626</td>\n",
              "      <td>-1.205206</td>\n",
              "      <td>2</td>\n",
              "    </tr>\n",
              "    <tr>\n",
              "      <th>Ann Arbor Speed</th>\n",
              "      <td>-0.054279</td>\n",
              "      <td>0.605109</td>\n",
              "      <td>0.783586</td>\n",
              "      <td>1</td>\n",
              "    </tr>\n",
              "    <tr>\n",
              "      <th>Austin Cruisers</th>\n",
              "      <td>-0.166605</td>\n",
              "      <td>-0.204361</td>\n",
              "      <td>-0.205004</td>\n",
              "      <td>0</td>\n",
              "    </tr>\n",
              "    <tr>\n",
              "      <th>Cincinnati Speed</th>\n",
              "      <td>0.901577</td>\n",
              "      <td>-0.275075</td>\n",
              "      <td>0.035876</td>\n",
              "      <td>0</td>\n",
              "    </tr>\n",
              "    <tr>\n",
              "      <th>Columbus Race Equipment</th>\n",
              "      <td>0.741317</td>\n",
              "      <td>0.075167</td>\n",
              "      <td>0.214229</td>\n",
              "      <td>0</td>\n",
              "    </tr>\n",
              "  </tbody>\n",
              "</table>\n",
              "</div>"
            ],
            "text/plain": [
              "                          recency  frequency  total_sales  cluster\n",
              "bikeshop_name                                                     \n",
              "Albuquerque Cycles       1.647202  -1.359626    -1.205206        2\n",
              "Ann Arbor Speed         -0.054279   0.605109     0.783586        1\n",
              "Austin Cruisers         -0.166605  -0.204361    -0.205004        0\n",
              "Cincinnati Speed         0.901577  -0.275075     0.035876        0\n",
              "Columbus Race Equipment  0.741317   0.075167     0.214229        0"
            ]
          },
          "metadata": {
            "tags": []
          },
          "execution_count": 189
        }
      ]
    },
    {
      "cell_type": "markdown",
      "metadata": {
        "id": "55o2oCdX2tB5"
      },
      "source": [
        "#### Profile and Interpret cluster segments"
      ]
    },
    {
      "cell_type": "markdown",
      "metadata": {
        "id": "4zzBZniy4wJA"
      },
      "source": [
        "Look at key RFM statistics for each cluster"
      ]
    },
    {
      "cell_type": "code",
      "metadata": {
        "colab": {
          "base_uri": "https://localhost:8080/",
          "height": 204
        },
        "id": "QkBcV5R8P6mY",
        "outputId": "363ab51d-ee0a-47f4-bee4-20a8873980f7"
      },
      "source": [
        "# look at key Normalized RFM statistics for selected clusters \n",
        "\n",
        "customer_RFM_k_tbl.groupby('cluster').agg({\n",
        "    'recency' : 'mean',\n",
        "    'frequency' : 'mean',\n",
        "    'total_sales' : ['mean','count']}).round(1)"
      ],
      "execution_count": null,
      "outputs": [
        {
          "output_type": "execute_result",
          "data": {
            "text/html": [
              "<div>\n",
              "<style scoped>\n",
              "    .dataframe tbody tr th:only-of-type {\n",
              "        vertical-align: middle;\n",
              "    }\n",
              "\n",
              "    .dataframe tbody tr th {\n",
              "        vertical-align: top;\n",
              "    }\n",
              "\n",
              "    .dataframe thead tr th {\n",
              "        text-align: left;\n",
              "    }\n",
              "\n",
              "    .dataframe thead tr:last-of-type th {\n",
              "        text-align: right;\n",
              "    }\n",
              "</style>\n",
              "<table border=\"1\" class=\"dataframe\">\n",
              "  <thead>\n",
              "    <tr>\n",
              "      <th></th>\n",
              "      <th>recency</th>\n",
              "      <th>frequency</th>\n",
              "      <th colspan=\"2\" halign=\"left\">total_sales</th>\n",
              "    </tr>\n",
              "    <tr>\n",
              "      <th></th>\n",
              "      <th>mean</th>\n",
              "      <th>mean</th>\n",
              "      <th>mean</th>\n",
              "      <th>count</th>\n",
              "    </tr>\n",
              "    <tr>\n",
              "      <th>cluster</th>\n",
              "      <th></th>\n",
              "      <th></th>\n",
              "      <th></th>\n",
              "      <th></th>\n",
              "    </tr>\n",
              "  </thead>\n",
              "  <tbody>\n",
              "    <tr>\n",
              "      <th>0</th>\n",
              "      <td>90.8</td>\n",
              "      <td>43.9</td>\n",
              "      <td>226694.6</td>\n",
              "      <td>12</td>\n",
              "    </tr>\n",
              "    <tr>\n",
              "      <th>1</th>\n",
              "      <td>23.4</td>\n",
              "      <td>147.9</td>\n",
              "      <td>659361.4</td>\n",
              "      <td>14</td>\n",
              "    </tr>\n",
              "    <tr>\n",
              "      <th>2</th>\n",
              "      <td>188.2</td>\n",
              "      <td>14.2</td>\n",
              "      <td>52920.0</td>\n",
              "      <td>4</td>\n",
              "    </tr>\n",
              "  </tbody>\n",
              "</table>\n",
              "</div>"
            ],
            "text/plain": [
              "        recency frequency total_sales      \n",
              "           mean      mean        mean count\n",
              "cluster                                    \n",
              "0          90.8      43.9    226694.6    12\n",
              "1          23.4     147.9    659361.4    14\n",
              "2         188.2      14.2     52920.0     4"
            ]
          },
          "metadata": {
            "tags": []
          },
          "execution_count": 185
        }
      ]
    },
    {
      "cell_type": "markdown",
      "metadata": {
        "id": "3-WXRaqR42-z"
      },
      "source": [
        "Generate Snake Plot"
      ]
    },
    {
      "cell_type": "code",
      "metadata": {
        "colab": {
          "base_uri": "https://localhost:8080/",
          "height": 352
        },
        "id": "i3iVQvFOzEkl",
        "outputId": "f46b0ee7-5bcf-4a46-f59d-6e1ba1368b6f"
      },
      "source": [
        "# Generate snake plot of segments\n",
        "customer_RFM_k_melt = pd.melt(customer_RFM_k_norm_tbl.reset_index(),\n",
        "                              id_vars = ['bikeshop_name','cluster'],\n",
        "                              value_vars = ['recency','frequency','total_sales'],\n",
        "                              var_name = 'attribute',\n",
        "                              value_name = 'value')\n",
        "\n",
        "source = customer_RFM_k_melt\n",
        "\n",
        "snake_plot = alt.Chart(source).mark_point().encode(\n",
        "    x='attribute:O',\n",
        "    y='value:Q',\n",
        "    color='cluster:O',\n",
        ").properties(\n",
        "    width=250,\n",
        "    height=250\n",
        ")\n",
        "\n",
        "snake_plot"
      ],
      "execution_count": null,
      "outputs": [
        {
          "output_type": "execute_result",
          "data": {
            "text/plain": [
              "alt.Chart(...)"
            ],
            "text/html": [
              "\n",
              "<div id=\"altair-viz-bd3901d683764db4bd977ab1c6cf3139\"></div>\n",
              "<script type=\"text/javascript\">\n",
              "  (function(spec, embedOpt){\n",
              "    let outputDiv = document.currentScript.previousElementSibling;\n",
              "    if (outputDiv.id !== \"altair-viz-bd3901d683764db4bd977ab1c6cf3139\") {\n",
              "      outputDiv = document.getElementById(\"altair-viz-bd3901d683764db4bd977ab1c6cf3139\");\n",
              "    }\n",
              "    const paths = {\n",
              "      \"vega\": \"https://cdn.jsdelivr.net/npm//vega@5?noext\",\n",
              "      \"vega-lib\": \"https://cdn.jsdelivr.net/npm//vega-lib?noext\",\n",
              "      \"vega-lite\": \"https://cdn.jsdelivr.net/npm//vega-lite@4.8.1?noext\",\n",
              "      \"vega-embed\": \"https://cdn.jsdelivr.net/npm//vega-embed@6?noext\",\n",
              "    };\n",
              "\n",
              "    function loadScript(lib) {\n",
              "      return new Promise(function(resolve, reject) {\n",
              "        var s = document.createElement('script');\n",
              "        s.src = paths[lib];\n",
              "        s.async = true;\n",
              "        s.onload = () => resolve(paths[lib]);\n",
              "        s.onerror = () => reject(`Error loading script: ${paths[lib]}`);\n",
              "        document.getElementsByTagName(\"head\")[0].appendChild(s);\n",
              "      });\n",
              "    }\n",
              "\n",
              "    function showError(err) {\n",
              "      outputDiv.innerHTML = `<div class=\"error\" style=\"color:red;\">${err}</div>`;\n",
              "      throw err;\n",
              "    }\n",
              "\n",
              "    function displayChart(vegaEmbed) {\n",
              "      vegaEmbed(outputDiv, spec, embedOpt)\n",
              "        .catch(err => showError(`Javascript Error: ${err.message}<br>This usually means there's a typo in your chart specification. See the javascript console for the full traceback.`));\n",
              "    }\n",
              "\n",
              "    if(typeof define === \"function\" && define.amd) {\n",
              "      requirejs.config({paths});\n",
              "      require([\"vega-embed\"], displayChart, err => showError(`Error loading script: ${err.message}`));\n",
              "    } else if (typeof vegaEmbed === \"function\") {\n",
              "      displayChart(vegaEmbed);\n",
              "    } else {\n",
              "      loadScript(\"vega\")\n",
              "        .then(() => loadScript(\"vega-lite\"))\n",
              "        .then(() => loadScript(\"vega-embed\"))\n",
              "        .catch(showError)\n",
              "        .then(() => displayChart(vegaEmbed));\n",
              "    }\n",
              "  })({\"config\": {\"view\": {\"continuousWidth\": 400, \"continuousHeight\": 300}}, \"data\": {\"name\": \"data-d7db0caf2efa3bcea37a9fa14febc892\"}, \"mark\": \"point\", \"encoding\": {\"color\": {\"type\": \"ordinal\", \"field\": \"cluster\"}, \"x\": {\"type\": \"ordinal\", \"field\": \"attribute\"}, \"y\": {\"type\": \"quantitative\", \"field\": \"value\"}}, \"height\": 250, \"width\": 250, \"$schema\": \"https://vega.github.io/schema/vega-lite/v4.8.1.json\", \"datasets\": {\"data-d7db0caf2efa3bcea37a9fa14febc892\": [{\"bikeshop_name\": \"Albuquerque Cycles\", \"cluster\": 2, \"attribute\": \"recency\", \"value\": 1.647201659374893}, {\"bikeshop_name\": \"Ann Arbor Speed\", \"cluster\": 1, \"attribute\": \"recency\", \"value\": -0.05427941436436546}, {\"bikeshop_name\": \"Austin Cruisers\", \"cluster\": 0, \"attribute\": \"recency\", \"value\": -0.16660533888924772}, {\"bikeshop_name\": \"Cincinnati Speed\", \"cluster\": 0, \"attribute\": \"recency\", \"value\": 0.9015773906119192}, {\"bikeshop_name\": \"Columbus Race Equipment\", \"cluster\": 0, \"attribute\": \"recency\", \"value\": 0.7413170025504311}, {\"bikeshop_name\": \"Dallas Cycles\", \"cluster\": 0, \"attribute\": \"recency\", \"value\": 1.0717233397445243}, {\"bikeshop_name\": \"Denver Bike Shop\", \"cluster\": 1, \"attribute\": \"recency\", \"value\": -0.6742723319701502}, {\"bikeshop_name\": \"Detroit Cycles\", \"cluster\": 0, \"attribute\": \"recency\", \"value\": 0.7902183223397851}, {\"bikeshop_name\": \"Indianapolis Velocipedes\", \"cluster\": 0, \"attribute\": \"recency\", \"value\": 0.4673184065381597}, {\"bikeshop_name\": \"Ithaca Mountain Climbers\", \"cluster\": 1, \"attribute\": \"recency\", \"value\": -1.4656658568911591}, {\"bikeshop_name\": \"Kansas City 29ers\", \"cluster\": 1, \"attribute\": \"recency\", \"value\": -0.7652714297165565}, {\"bikeshop_name\": \"Las Vegas Cycles\", \"cluster\": 1, \"attribute\": \"recency\", \"value\": -0.9823298417927467}, {\"bikeshop_name\": \"Los Angeles Cycles\", \"cluster\": 2, \"attribute\": \"recency\", \"value\": 0.9423893576041766}, {\"bikeshop_name\": \"Louisville Race Equipment\", \"cluster\": 0, \"attribute\": \"recency\", \"value\": 0.5337890882853553}, {\"bikeshop_name\": \"Miami Race Equipment\", \"cluster\": 1, \"attribute\": \"recency\", \"value\": -0.7185739707820441}, {\"bikeshop_name\": \"Minneapolis Bike Shop\", \"cluster\": 0, \"attribute\": \"recency\", \"value\": 0.5651995534491718}, {\"bikeshop_name\": \"Nashville Cruisers\", \"cluster\": 1, \"attribute\": \"recency\", \"value\": -3.2616641293730853}, {\"bikeshop_name\": \"New Orleans Velocipedes\", \"cluster\": 0, \"attribute\": \"recency\", \"value\": 0.11712119295085859}, {\"bikeshop_name\": \"New York Cycles\", \"cluster\": 1, \"attribute\": \"recency\", \"value\": -0.48154489787645016}, {\"bikeshop_name\": \"Oklahoma City Race Equipment\", \"cluster\": 1, \"attribute\": \"recency\", \"value\": 0.09967226413297431}, {\"bikeshop_name\": \"Philadelphia Bike Shop\", \"cluster\": 0, \"attribute\": \"recency\", \"value\": 0.7981059808165212}, {\"bikeshop_name\": \"Phoenix Bi-peds\", \"cluster\": 1, \"attribute\": \"recency\", \"value\": -0.09747304455683949}, {\"bikeshop_name\": \"Pittsburgh Mountain Machines\", \"cluster\": 0, \"attribute\": \"recency\", \"value\": 0.1835918746980538}, {\"bikeshop_name\": \"Portland Bi-peds\", \"cluster\": 1, \"attribute\": \"recency\", \"value\": -0.6321326282054452}, {\"bikeshop_name\": \"Providence Bi-peds\", \"cluster\": 1, \"attribute\": \"recency\", \"value\": -0.5919536349317964}, {\"bikeshop_name\": \"San Antonio Bike Shop\", \"cluster\": 2, \"attribute\": \"recency\", \"value\": 0.08186353835075993}, {\"bikeshop_name\": \"San Francisco Cruisers\", \"cluster\": 1, \"attribute\": \"recency\", \"value\": -1.4656658568911591}, {\"bikeshop_name\": \"Seattle Race Equipment\", \"cluster\": 2, \"attribute\": \"recency\", \"value\": 1.608141076876346}, {\"bikeshop_name\": \"Tampa 29ers\", \"cluster\": 0, \"attribute\": \"recency\", \"value\": 0.821345748798666}, {\"bikeshop_name\": \"Wichita Speed\", \"cluster\": 1, \"attribute\": \"recency\", \"value\": -0.013143420881574983}, {\"bikeshop_name\": \"Albuquerque Cycles\", \"cluster\": 2, \"attribute\": \"frequency\", \"value\": -1.3596262944693391}, {\"bikeshop_name\": \"Ann Arbor Speed\", \"cluster\": 1, \"attribute\": \"frequency\", \"value\": 0.6051091375732756}, {\"bikeshop_name\": \"Austin Cruisers\", \"cluster\": 0, \"attribute\": \"frequency\", \"value\": -0.20436081105825127}, {\"bikeshop_name\": \"Cincinnati Speed\", \"cluster\": 0, \"attribute\": \"frequency\", \"value\": -0.2750752425362442}, {\"bikeshop_name\": \"Columbus Race Equipment\", \"cluster\": 0, \"attribute\": \"frequency\", \"value\": 0.07516734965872825}, {\"bikeshop_name\": \"Dallas Cycles\", \"cluster\": 0, \"attribute\": \"frequency\", \"value\": -0.2750752425362442}, {\"bikeshop_name\": \"Denver Bike Shop\", \"cluster\": 1, \"attribute\": \"frequency\", \"value\": 1.7793665850985463}, {\"bikeshop_name\": \"Detroit Cycles\", \"cluster\": 0, \"attribute\": \"frequency\", \"value\": -0.2997226166995018}, {\"bikeshop_name\": \"Indianapolis Velocipedes\", \"cluster\": 0, \"attribute\": \"frequency\", \"value\": -0.7220327416634442}, {\"bikeshop_name\": \"Ithaca Mountain Climbers\", \"cluster\": 1, \"attribute\": \"frequency\", \"value\": 1.0749681905545554}, {\"bikeshop_name\": \"Kansas City 29ers\", \"cluster\": 1, \"attribute\": \"frequency\", \"value\": 2.395101179216457}, {\"bikeshop_name\": \"Las Vegas Cycles\", \"cluster\": 1, \"attribute\": \"frequency\", \"value\": -0.035840015960220656}, {\"bikeshop_name\": \"Los Angeles Cycles\", \"cluster\": 2, \"attribute\": \"frequency\", \"value\": -1.1753833042020283}, {\"bikeshop_name\": \"Louisville Race Equipment\", \"cluster\": 0, \"attribute\": \"frequency\", \"value\": 0.159629396856807}, {\"bikeshop_name\": \"Miami Race Equipment\", \"cluster\": 1, \"attribute\": \"frequency\", \"value\": 0.7266103575157988}, {\"bikeshop_name\": \"Minneapolis Bike Shop\", \"cluster\": 0, \"attribute\": \"frequency\", \"value\": 0.20728673415248702}, {\"bikeshop_name\": \"Nashville Cruisers\", \"cluster\": 1, \"attribute\": \"frequency\", \"value\": -0.05551237629018442}, {\"bikeshop_name\": \"New Orleans Velocipedes\", \"cluster\": 0, \"attribute\": \"frequency\", \"value\": -0.43225081475674443}, {\"bikeshop_name\": \"New York Cycles\", \"cluster\": 1, \"attribute\": \"frequency\", \"value\": 0.5834495411650863}, {\"bikeshop_name\": \"Oklahoma City Race Equipment\", \"cluster\": 1, \"attribute\": \"frequency\", \"value\": 0.7169949248368147}, {\"bikeshop_name\": \"Philadelphia Bike Shop\", \"cluster\": 0, \"attribute\": \"frequency\", \"value\": -0.250981789107213}, {\"bikeshop_name\": \"Phoenix Bi-peds\", \"cluster\": 1, \"attribute\": \"frequency\", \"value\": 1.1740028793948585}, {\"bikeshop_name\": \"Pittsburgh Mountain Machines\", \"cluster\": 0, \"attribute\": \"frequency\", \"value\": -0.8391067830207961}, {\"bikeshop_name\": \"Portland Bi-peds\", \"cluster\": 1, \"attribute\": \"frequency\", \"value\": 1.235283189783355}, {\"bikeshop_name\": \"Providence Bi-peds\", \"cluster\": 1, \"attribute\": \"frequency\", \"value\": 0.12663868442122841}, {\"bikeshop_name\": \"San Antonio Bike Shop\", \"cluster\": 2, \"attribute\": \"frequency\", \"value\": -1.3596262944693391}, {\"bikeshop_name\": \"San Francisco Cruisers\", \"cluster\": 1, \"attribute\": \"frequency\", \"value\": -0.35078529372606676}, {\"bikeshop_name\": \"Seattle Race Equipment\", \"cluster\": 2, \"attribute\": \"frequency\", \"value\": -2.4111866339668553}, {\"bikeshop_name\": \"Tampa 29ers\", \"cluster\": 0, \"attribute\": \"frequency\", \"value\": -1.4288189179455482}, {\"bikeshop_name\": \"Wichita Speed\", \"cluster\": 1, \"attribute\": \"frequency\", \"value\": 0.6157770221800418}, {\"bikeshop_name\": \"Albuquerque Cycles\", \"cluster\": 2, \"attribute\": \"total_sales\", \"value\": -1.2052062235004186}, {\"bikeshop_name\": \"Ann Arbor Speed\", \"cluster\": 1, \"attribute\": \"total_sales\", \"value\": 0.7835862474171083}, {\"bikeshop_name\": \"Austin Cruisers\", \"cluster\": 0, \"attribute\": \"total_sales\", \"value\": -0.20500383339482672}, {\"bikeshop_name\": \"Cincinnati Speed\", \"cluster\": 0, \"attribute\": \"total_sales\", \"value\": 0.03587596919728404}, {\"bikeshop_name\": \"Columbus Race Equipment\", \"cluster\": 0, \"attribute\": \"total_sales\", \"value\": 0.21422869692312668}, {\"bikeshop_name\": \"Dallas Cycles\", \"cluster\": 0, \"attribute\": \"total_sales\", \"value\": -0.38499317809050926}, {\"bikeshop_name\": \"Denver Bike Shop\", \"cluster\": 1, \"attribute\": \"total_sales\", \"value\": 1.6290591418687177}, {\"bikeshop_name\": \"Detroit Cycles\", \"cluster\": 0, \"attribute\": \"total_sales\", \"value\": -0.49514152816394336}, {\"bikeshop_name\": \"Indianapolis Velocipedes\", \"cluster\": 0, \"attribute\": \"total_sales\", \"value\": -0.6938119133851776}, {\"bikeshop_name\": \"Ithaca Mountain Climbers\", \"cluster\": 1, \"attribute\": \"total_sales\", \"value\": 1.3417189123456772}, {\"bikeshop_name\": \"Kansas City 29ers\", \"cluster\": 1, \"attribute\": \"total_sales\", \"value\": 2.1594056410502827}, {\"bikeshop_name\": \"Las Vegas Cycles\", \"cluster\": 1, \"attribute\": \"total_sales\", \"value\": 0.33630536028417257}, {\"bikeshop_name\": \"Los Angeles Cycles\", \"cluster\": 2, \"attribute\": \"total_sales\", \"value\": -1.4723458707080588}, {\"bikeshop_name\": \"Louisville Race Equipment\", \"cluster\": 0, \"attribute\": \"total_sales\", \"value\": 0.40709609379506884}, {\"bikeshop_name\": \"Miami Race Equipment\", \"cluster\": 1, \"attribute\": \"total_sales\", \"value\": 0.40782778286256255}, {\"bikeshop_name\": \"Minneapolis Bike Shop\", \"cluster\": 0, \"attribute\": \"total_sales\", \"value\": 0.24762243862959163}, {\"bikeshop_name\": \"Nashville Cruisers\", \"cluster\": 1, \"attribute\": \"total_sales\", \"value\": -0.3379707220182216}, {\"bikeshop_name\": \"New Orleans Velocipedes\", \"cluster\": 0, \"attribute\": \"total_sales\", \"value\": -0.330473796466815}, {\"bikeshop_name\": \"New York Cycles\", \"cluster\": 1, \"attribute\": \"total_sales\", \"value\": 0.3980506348518611}, {\"bikeshop_name\": \"Oklahoma City Race Equipment\", \"cluster\": 1, \"attribute\": \"total_sales\", \"value\": 0.5185654342207686}, {\"bikeshop_name\": \"Philadelphia Bike Shop\", \"cluster\": 0, \"attribute\": \"total_sales\", \"value\": -0.27336194282187126}, {\"bikeshop_name\": \"Phoenix Bi-peds\", \"cluster\": 1, \"attribute\": \"total_sales\", \"value\": 0.8276464219678342}, {\"bikeshop_name\": \"Pittsburgh Mountain Machines\", \"cluster\": 0, \"attribute\": \"total_sales\", \"value\": -0.6146091586899187}, {\"bikeshop_name\": \"Portland Bi-peds\", \"cluster\": 1, \"attribute\": \"total_sales\", \"value\": 1.0851458003196692}, {\"bikeshop_name\": \"Providence Bi-peds\", \"cluster\": 1, \"attribute\": \"total_sales\", \"value\": -0.1289186779572504}, {\"bikeshop_name\": \"San Antonio Bike Shop\", \"cluster\": 2, \"attribute\": \"total_sales\", \"value\": -1.6476423769122355}, {\"bikeshop_name\": \"San Francisco Cruisers\", \"cluster\": 1, \"attribute\": \"total_sales\", \"value\": -0.202629687079154}, {\"bikeshop_name\": \"Seattle Race Equipment\", \"cluster\": 2, \"attribute\": \"total_sales\", \"value\": -2.8896372282957117}, {\"bikeshop_name\": \"Tampa 29ers\", \"cluster\": 0, \"attribute\": \"total_sales\", \"value\": -0.4516444308119989}, {\"bikeshop_name\": \"Wichita Speed\", \"cluster\": 1, \"attribute\": \"total_sales\", \"value\": 0.9412559925623953}]}}, {\"mode\": \"vega-lite\"});\n",
              "</script>"
            ]
          },
          "metadata": {
            "tags": []
          },
          "execution_count": 200
        }
      ]
    },
    {
      "cell_type": "code",
      "metadata": {
        "colab": {
          "base_uri": "https://localhost:8080/",
          "height": 297
        },
        "id": "nFnEXXnY3fwV",
        "outputId": "63ea0a31-3f67-4cfa-cf72-830e7ba8e6c7"
      },
      "source": [
        "sns.lineplot(x ='attribute',y = 'value',hue = 'cluster', data = customer_RFM_k_melt)"
      ],
      "execution_count": null,
      "outputs": [
        {
          "output_type": "execute_result",
          "data": {
            "text/plain": [
              "<matplotlib.axes._subplots.AxesSubplot at 0x7fd3511bd358>"
            ]
          },
          "metadata": {
            "tags": []
          },
          "execution_count": 201
        },
        {
          "output_type": "display_data",
          "data": {
            "image/png": "[encoded data removed]",
            "text/plain": [
              "<Figure size 432x288 with 1 Axes>"
            ]
          },
          "metadata": {
            "tags": [],
            "needs_background": "light"
          }
        }
      ]
    },
    {
      "cell_type": "markdown",
      "metadata": {
        "id": "wQ8suJgf5ACY"
      },
      "source": [
        "Generate relative importance matrix"
      ]
    },
    {
      "cell_type": "code",
      "metadata": {
        "id": "d8V22O8P4mpd"
      },
      "source": [
        "# Generate relative importance table\n",
        "cluster_ave = customer_RFM_k_tbl.groupby(['cluster']).mean()\n",
        "population_ave = customer_RFM_tbl.mean()\n",
        "relative_imp = cluster_ave/ population_ave - 1"
      ],
      "execution_count": null,
      "outputs": []
    },
    {
      "cell_type": "code",
      "metadata": {
        "colab": {
          "base_uri": "https://localhost:8080/",
          "height": 152
        },
        "id": "i0QaCbFZ5swz",
        "outputId": "f29808fa-06ad-4e66-825b-f96ef862c0e2"
      },
      "source": [
        "relative_imp.round(2)"
      ],
      "execution_count": null,
      "outputs": [
        {
          "output_type": "execute_result",
          "data": {
            "application/vnd.google.colaboratory.module+javascript": "\n      import \"https://ssl.gstatic.com/colaboratory/data_table/a6224c040fa35dcf/data_table.js\";\n\n      window.createDataTable({\n        data: [[{\n            'v': 0,\n            'f': \"0\",\n        },\n{\n            'v': 0.26,\n            'f': \"0.26\",\n        },\n{\n            'v': -0.5,\n            'f': \"-0.5\",\n        },\n{\n            'v': -0.44,\n            'f': \"-0.44\",\n        }],\n [{\n            'v': 1,\n            'f': \"1\",\n        },\n{\n            'v': -0.68,\n            'f': \"-0.68\",\n        },\n{\n            'v': 0.67,\n            'f': \"0.67\",\n        },\n{\n            'v': 0.63,\n            'f': \"0.63\",\n        }],\n [{\n            'v': 2,\n            'f': \"2\",\n        },\n{\n            'v': 1.6,\n            'f': \"1.6\",\n        },\n{\n            'v': -0.84,\n            'f': \"-0.84\",\n        },\n{\n            'v': -0.87,\n            'f': \"-0.87\",\n        }]],\n        columns: [[\"number\", \"cluster\"], [\"number\", \"recency\"], [\"number\", \"frequency\"], [\"number\", \"total_sales\"]],\n        columnOptions: [{\"width\": \"1px\", \"className\": \"index_column\"}],\n        rowsPerPage: 25,\n        helpUrl: \"https://colab.research.google.com/notebooks/data_table.ipynb\",\n        suppressOutputScrolling: true,\n        minimumWidth: undefined,\n      });\n    ",
            "text/html": [
              "<div>\n",
              "<style scoped>\n",
              "    .dataframe tbody tr th:only-of-type {\n",
              "        vertical-align: middle;\n",
              "    }\n",
              "\n",
              "    .dataframe tbody tr th {\n",
              "        vertical-align: top;\n",
              "    }\n",
              "\n",
              "    .dataframe thead th {\n",
              "        text-align: right;\n",
              "    }\n",
              "</style>\n",
              "<table border=\"1\" class=\"dataframe\">\n",
              "  <thead>\n",
              "    <tr style=\"text-align: right;\">\n",
              "      <th></th>\n",
              "      <th>recency</th>\n",
              "      <th>frequency</th>\n",
              "      <th>total_sales</th>\n",
              "    </tr>\n",
              "    <tr>\n",
              "      <th>cluster</th>\n",
              "      <th></th>\n",
              "      <th></th>\n",
              "      <th></th>\n",
              "    </tr>\n",
              "  </thead>\n",
              "  <tbody>\n",
              "    <tr>\n",
              "      <th>0</th>\n",
              "      <td>0.26</td>\n",
              "      <td>-0.50</td>\n",
              "      <td>-0.44</td>\n",
              "    </tr>\n",
              "    <tr>\n",
              "      <th>1</th>\n",
              "      <td>-0.68</td>\n",
              "      <td>0.67</td>\n",
              "      <td>0.63</td>\n",
              "    </tr>\n",
              "    <tr>\n",
              "      <th>2</th>\n",
              "      <td>1.60</td>\n",
              "      <td>-0.84</td>\n",
              "      <td>-0.87</td>\n",
              "    </tr>\n",
              "  </tbody>\n",
              "</table>\n",
              "</div>"
            ],
            "text/plain": [
              "         recency  frequency  total_sales\n",
              "cluster                                 \n",
              "0           0.26      -0.50        -0.44\n",
              "1          -0.68       0.67         0.63\n",
              "2           1.60      -0.84        -0.87"
            ]
          },
          "metadata": {
            "tags": []
          },
          "execution_count": 205
        }
      ]
    },
    {
      "cell_type": "code",
      "metadata": {
        "colab": {
          "base_uri": "https://localhost:8080/",
          "height": 301
        },
        "id": "rkWOME_66Grr",
        "outputId": "be275324-848c-4a2b-cd48-71bf3788cc49"
      },
      "source": [
        "\n",
        "source = pd.melt(relative_imp.reset_index(),\n",
        "                 id_vars = ['cluster'],\n",
        "                 value_vars = ['recency','frequency','total_sales'],\n",
        "                 var_name = 'attribute',\n",
        "                 value_name = 'relative_imp')\n",
        "\n",
        "base = alt.Chart(source.round(2)).encode(\n",
        "    alt.X('attribute:O', scale=alt.Scale(paddingInner=0)),\n",
        "    alt.Y('cluster:O', scale=alt.Scale(paddingInner=0)),\n",
        ").properties(width=600, height=200)\n",
        "\n",
        "heatmap = base.mark_rect().encode(\n",
        "    color = alt.Color('relative_imp',scale=alt.Scale(scheme='blues'))\n",
        ")\n",
        "text = base.mark_text(baseline = 'middle').encode(\n",
        "    text = 'relative_imp:Q',\n",
        "    color = alt.condition(\n",
        "        alt.datum.relative_imp > 0,\n",
        "        alt.value('white'),\n",
        "        alt.value('black')\n",
        "        )\n",
        ")\n",
        "    \n",
        "heatmap + text"
      ],
      "execution_count": null,
      "outputs": [
        {
          "output_type": "execute_result",
          "data": {
            "text/plain": [
              "alt.LayerChart(...)"
            ],
            "text/html": [
              "\n",
              "<div id=\"altair-viz-ee43b15e80514facb2bcc95fad6ebcd1\"></div>\n",
              "<script type=\"text/javascript\">\n",
              "  (function(spec, embedOpt){\n",
              "    let outputDiv = document.currentScript.previousElementSibling;\n",
              "    if (outputDiv.id !== \"altair-viz-ee43b15e80514facb2bcc95fad6ebcd1\") {\n",
              "      outputDiv = document.getElementById(\"altair-viz-ee43b15e80514facb2bcc95fad6ebcd1\");\n",
              "    }\n",
              "    const paths = {\n",
              "      \"vega\": \"https://cdn.jsdelivr.net/npm//vega@5?noext\",\n",
              "      \"vega-lib\": \"https://cdn.jsdelivr.net/npm//vega-lib?noext\",\n",
              "      \"vega-lite\": \"https://cdn.jsdelivr.net/npm//vega-lite@4.8.1?noext\",\n",
              "      \"vega-embed\": \"https://cdn.jsdelivr.net/npm//vega-embed@6?noext\",\n",
              "    };\n",
              "\n",
              "    function loadScript(lib) {\n",
              "      return new Promise(function(resolve, reject) {\n",
              "        var s = document.createElement('script');\n",
              "        s.src = paths[lib];\n",
              "        s.async = true;\n",
              "        s.onload = () => resolve(paths[lib]);\n",
              "        s.onerror = () => reject(`Error loading script: ${paths[lib]}`);\n",
              "        document.getElementsByTagName(\"head\")[0].appendChild(s);\n",
              "      });\n",
              "    }\n",
              "\n",
              "    function showError(err) {\n",
              "      outputDiv.innerHTML = `<div class=\"error\" style=\"color:red;\">${err}</div>`;\n",
              "      throw err;\n",
              "    }\n",
              "\n",
              "    function displayChart(vegaEmbed) {\n",
              "      vegaEmbed(outputDiv, spec, embedOpt)\n",
              "        .catch(err => showError(`Javascript Error: ${err.message}<br>This usually means there's a typo in your chart specification. See the javascript console for the full traceback.`));\n",
              "    }\n",
              "\n",
              "    if(typeof define === \"function\" && define.amd) {\n",
              "      requirejs.config({paths});\n",
              "      require([\"vega-embed\"], displayChart, err => showError(`Error loading script: ${err.message}`));\n",
              "    } else if (typeof vegaEmbed === \"function\") {\n",
              "      displayChart(vegaEmbed);\n",
              "    } else {\n",
              "      loadScript(\"vega\")\n",
              "        .then(() => loadScript(\"vega-lite\"))\n",
              "        .then(() => loadScript(\"vega-embed\"))\n",
              "        .catch(showError)\n",
              "        .then(() => displayChart(vegaEmbed));\n",
              "    }\n",
              "  })({\"config\": {\"view\": {\"continuousWidth\": 400, \"continuousHeight\": 300}}, \"layer\": [{\"mark\": \"rect\", \"encoding\": {\"color\": {\"type\": \"quantitative\", \"field\": \"relative_imp\", \"scale\": {\"scheme\": \"blues\"}}, \"x\": {\"type\": \"ordinal\", \"field\": \"attribute\", \"scale\": {\"paddingInner\": 0}}, \"y\": {\"type\": \"ordinal\", \"field\": \"cluster\", \"scale\": {\"paddingInner\": 0}}}, \"height\": 200, \"width\": 600}, {\"mark\": {\"type\": \"text\", \"baseline\": \"middle\"}, \"encoding\": {\"color\": {\"condition\": {\"value\": \"white\", \"test\": \"(datum.relative_imp > 0)\"}, \"value\": \"black\"}, \"text\": {\"type\": \"quantitative\", \"field\": \"relative_imp\"}, \"x\": {\"type\": \"ordinal\", \"field\": \"attribute\", \"scale\": {\"paddingInner\": 0}}, \"y\": {\"type\": \"ordinal\", \"field\": \"cluster\", \"scale\": {\"paddingInner\": 0}}}, \"height\": 200, \"width\": 600}], \"data\": {\"name\": \"data-9ac33744b1364ca619a49594af733207\"}, \"$schema\": \"https://vega.github.io/schema/vega-lite/v4.8.1.json\", \"datasets\": {\"data-9ac33744b1364ca619a49594af733207\": [{\"cluster\": 0, \"attribute\": \"recency\", \"relative_imp\": 0.26}, {\"cluster\": 1, \"attribute\": \"recency\", \"relative_imp\": -0.68}, {\"cluster\": 2, \"attribute\": \"recency\", \"relative_imp\": 1.6}, {\"cluster\": 0, \"attribute\": \"frequency\", \"relative_imp\": -0.5}, {\"cluster\": 1, \"attribute\": \"frequency\", \"relative_imp\": 0.67}, {\"cluster\": 2, \"attribute\": \"frequency\", \"relative_imp\": -0.84}, {\"cluster\": 0, \"attribute\": \"total_sales\", \"relative_imp\": -0.44}, {\"cluster\": 1, \"attribute\": \"total_sales\", \"relative_imp\": 0.63}, {\"cluster\": 2, \"attribute\": \"total_sales\", \"relative_imp\": -0.87}]}}, {\"mode\": \"vega-lite\"});\n",
              "</script>"
            ]
          },
          "metadata": {
            "tags": []
          },
          "execution_count": 212
        }
      ]
    },
    {
      "cell_type": "code",
      "metadata": {
        "id": "cTzslmF06iv-"
      },
      "source": [
        ""
      ],
      "execution_count": null,
      "outputs": []
    }
  ]
}